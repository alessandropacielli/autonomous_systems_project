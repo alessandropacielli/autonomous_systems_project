{
 "cells": [
  {
   "cell_type": "code",
   "execution_count": 1,
   "metadata": {},
   "outputs": [
    {
     "name": "stdout",
     "output_type": "stream",
     "text": [
      "\u001b[33mWARNING: Skipping enum34 as it is not installed.\u001b[0m\r\n"
     ]
    }
   ],
   "source": [
    "!pip uninstall -y enum34"
   ]
  },
  {
   "cell_type": "code",
   "execution_count": 2,
   "metadata": {},
   "outputs": [
    {
     "name": "stdout",
     "output_type": "stream",
     "text": [
      "Requirement already satisfied: gym[atari] in /usr/local/lib/python3.6/dist-packages (0.17.2)\n",
      "Requirement already satisfied: cloudpickle<1.4.0,>=1.2.0 in /usr/local/lib/python3.6/dist-packages (from gym[atari]) (1.3.0)\n",
      "Requirement already satisfied: pyglet<=1.5.0,>=1.4.0 in /usr/local/lib/python3.6/dist-packages (from gym[atari]) (1.5.0)\n",
      "Requirement already satisfied: scipy in /usr/local/lib/python3.6/dist-packages (from gym[atari]) (1.4.1)\n",
      "Requirement already satisfied: numpy>=1.10.4 in /usr/local/lib/python3.6/dist-packages (from gym[atari]) (1.19.1)\n",
      "Requirement already satisfied: atari-py~=0.2.0; extra == \"atari\" in /usr/local/lib/python3.6/dist-packages (from gym[atari]) (0.2.6)\n",
      "Requirement already satisfied: opencv-python; extra == \"atari\" in /usr/local/lib/python3.6/dist-packages (from gym[atari]) (4.2.0.34)\n",
      "Requirement already satisfied: Pillow; extra == \"atari\" in /usr/local/lib/python3.6/dist-packages (from gym[atari]) (7.1.2)\n",
      "Requirement already satisfied: future in /usr/local/lib/python3.6/dist-packages (from pyglet<=1.5.0,>=1.4.0->gym[atari]) (0.18.2)\n",
      "Requirement already satisfied: six in /usr/local/lib/python3.6/dist-packages (from atari-py~=0.2.0; extra == \"atari\"->gym[atari]) (1.15.0)\n",
      "\u001b[33mWARNING: You are using pip version 20.1.1; however, version 20.2.2 is available.\n",
      "You should consider upgrading via the '/usr/bin/python3.6 -m pip install --upgrade pip' command.\u001b[0m\n"
     ]
    }
   ],
   "source": [
    "!pip install gym[atari]"
   ]
  },
  {
   "cell_type": "code",
   "execution_count": 3,
   "metadata": {},
   "outputs": [],
   "source": [
    "import torch\n",
    "import torch.nn as nn\n",
    "import random\n",
    "import gym\n",
    "import numpy as np\n",
    "import random\n",
    "import cv2\n",
    "from tqdm import tqdm\n",
    "import collections\n",
    "import math"
   ]
  },
  {
   "cell_type": "code",
   "execution_count": 4,
   "metadata": {},
   "outputs": [],
   "source": [
    "class ReplayBuffer():\n",
    "    \n",
    "    def __init__(self, capacity, state_shape):\n",
    "        self.capacity = capacity\n",
    "        \n",
    "        self.states = torch.zeros(capacity, *state_shape)\n",
    "        self.actions = torch.zeros(capacity, 1)\n",
    "        self.rewards = torch.zeros(capacity, 1)\n",
    "        self.next_states = torch.zeros(capacity, *state_shape)\n",
    "        self.done = torch.zeros(capacity, 1)\n",
    "        self.position = 0\n",
    "        self.length = 0\n",
    "        \n",
    "        \n",
    "    def push(self, state, action, reward, next_state, done):    \n",
    "        self.states[self.position] = state\n",
    "        self.actions[self.position] = action\n",
    "        self.rewards[self.position] = reward\n",
    "        self.next_states[self.position] = next_state\n",
    "        self.done[self.position] = done\n",
    "        \n",
    "        self.position = (self.position + 1) % self.capacity\n",
    "        self.length = min(self.length + 1, self.capacity)\n",
    "        \n",
    "    def sample(self, batch_size):\n",
    "        indices = np.random.choice(range(self.length), size=batch_size)\n",
    "        state_sample = self.states[indices]\n",
    "        action_sample = self.actions[indices]\n",
    "        reward_sample = self.rewards[indices]\n",
    "        next_state_sample = self.next_states[indices]\n",
    "        done_sample = self.done[indices]\n",
    "        \n",
    "        return state_sample, action_sample, reward_sample, next_state_sample, done_sample\n",
    "        \n",
    "    def __len__(self):\n",
    "        return self.length"
   ]
  },
  {
   "cell_type": "code",
   "execution_count": 5,
   "metadata": {},
   "outputs": [],
   "source": [
    "class MaxAndSkipEnv(gym.Wrapper):\n",
    "    def __init__(self, env=None, skip=4):\n",
    "        \"\"\"Return only every `skip`-th frame\"\"\"\n",
    "        super(MaxAndSkipEnv, self).__init__(env)\n",
    "        # most recent raw observations (for max pooling across time steps)\n",
    "        self._obs_buffer = collections.deque(maxlen=2)\n",
    "        self._skip = skip\n",
    "\n",
    "    def step(self, action):\n",
    "        total_reward = 0.0\n",
    "        done = None\n",
    "        for _ in range(self._skip):\n",
    "            obs, reward, done, info = self.env.step(action)\n",
    "            self._obs_buffer.append(obs)\n",
    "            total_reward += reward\n",
    "            if done:\n",
    "                break\n",
    "        max_frame = np.max(np.stack(self._obs_buffer), axis=0)\n",
    "        return max_frame, total_reward, done, info\n",
    "\n",
    "    def reset(self):\n",
    "        \"\"\"Clear past frame buffer and init to first obs\"\"\"\n",
    "        self._obs_buffer.clear()\n",
    "        obs = self.env.reset()\n",
    "        self._obs_buffer.append(obs)\n",
    "        return obs\n",
    "\n",
    "\n",
    "class ProcessFrame84(gym.ObservationWrapper):\n",
    "    \"\"\"\n",
    "    Downsamples image to 84x84\n",
    "    Greyscales image\n",
    "\n",
    "    Returns numpy array\n",
    "    \"\"\"\n",
    "    def __init__(self, env=None):\n",
    "        super(ProcessFrame84, self).__init__(env)\n",
    "        self.observation_space = gym.spaces.Box(low=0, high=255, shape=(84, 84, 1), dtype=np.uint8)\n",
    "\n",
    "    def observation(self, obs):\n",
    "        return ProcessFrame84.process(obs)\n",
    "\n",
    "    @staticmethod\n",
    "    def process(frame):\n",
    "        if frame.size == 210 * 160 * 3:\n",
    "            img = np.reshape(frame, [210, 160, 3]).astype(np.float32)\n",
    "        else:\n",
    "            assert False, \"Unknown resolution.\"\n",
    "        img = img[:, :, 0] * 0.299 + img[:, :, 1] * 0.587 + img[:, :, 2] * 0.114\n",
    "        resized_screen = cv2.resize(img, (84, 110), interpolation=cv2.INTER_AREA)\n",
    "        x_t = resized_screen[18:102, :]\n",
    "        x_t = np.reshape(x_t, [84, 84, 1])\n",
    "        return x_t.astype(np.uint8)\n",
    "\n",
    "\n",
    "class ImageToPyTorch(gym.ObservationWrapper):\n",
    "    def __init__(self, env):\n",
    "        super(ImageToPyTorch, self).__init__(env)\n",
    "        old_shape = self.observation_space.shape\n",
    "        self.observation_space = gym.spaces.Box(low=0.0, high=1.0, shape=(old_shape[-1], old_shape[0], old_shape[1]),\n",
    "                                                dtype=np.float32)\n",
    "\n",
    "    def observation(self, observation):\n",
    "        return np.moveaxis(observation, 2, 0)\n",
    "\n",
    "\n",
    "class ScaledFloatFrame(gym.ObservationWrapper):\n",
    "    \"\"\"Normalize pixel values in frame --> 0 to 1\"\"\"\n",
    "    def observation(self, obs):\n",
    "        return np.array(obs).astype(np.float32) / 255.0\n",
    "\n",
    "\n",
    "class BufferWrapper(gym.ObservationWrapper):\n",
    "    def __init__(self, env, n_steps, dtype=np.float32):\n",
    "        super(BufferWrapper, self).__init__(env)\n",
    "        self.dtype = dtype\n",
    "        old_space = env.observation_space\n",
    "        self.observation_space = gym.spaces.Box(old_space.low.repeat(n_steps, axis=0),\n",
    "                                                old_space.high.repeat(n_steps, axis=0), dtype=dtype)\n",
    "\n",
    "    def reset(self):\n",
    "        self.buffer = np.zeros_like(self.observation_space.low, dtype=self.dtype)\n",
    "        return self.observation(self.env.reset())\n",
    "\n",
    "    def observation(self, observation):\n",
    "        self.buffer[:-1] = self.buffer[1:]\n",
    "        self.buffer[-1] = observation\n",
    "        return self.buffer\n",
    "\n",
    "\n",
    "def make_env(env):\n",
    "    env = MaxAndSkipEnv(env)\n",
    "    env = ProcessFrame84(env)\n",
    "    env = ImageToPyTorch(env)\n",
    "    env = BufferWrapper(env, 4)\n",
    "    env = ScaledFloatFrame(env)\n",
    "    return env"
   ]
  },
  {
   "cell_type": "code",
   "execution_count": 11,
   "metadata": {},
   "outputs": [],
   "source": [
    "class DQN(nn.Module):\n",
    "\n",
    "    def __init__(self, input_shape, n_actions):\n",
    "        super(DQN, self).__init__()\n",
    "        self.conv = nn.Sequential(\n",
    "            nn.Conv2d(input_shape[0], 32, kernel_size=8, stride=4),\n",
    "            nn.ReLU(),\n",
    "            nn.Conv2d(32, 64, kernel_size=4, stride=2),\n",
    "            nn.ReLU(),\n",
    "            nn.Conv2d(64, 64, kernel_size=3, stride=1),\n",
    "            nn.ReLU()\n",
    "        )\n",
    "\n",
    "        conv_out_size = self._get_conv_out(input_shape)\n",
    "        self.fc = nn.Sequential(\n",
    "            nn.Linear(conv_out_size, 512),\n",
    "            nn.ReLU(),\n",
    "            nn.Linear(512, n_actions)\n",
    "        )\n",
    "    \n",
    "    def _get_conv_out(self, shape):\n",
    "        o = self.conv(torch.zeros(1, *shape))\n",
    "        return int(np.prod(o.size()))\n",
    "\n",
    "    def forward(self, x):\n",
    "        conv_out = self.conv(x).view(x.size()[0], -1)\n",
    "        return self.fc(conv_out)\n",
    "    \n",
    "\n",
    "class DoubleDQNAgent:\n",
    "    \n",
    "    def __init__(self, env, memory, policy_net, target_net, batch_size=32, lr=0.00025, target_update=5000,\n",
    "                 gamma=0.9, exploration_max=0.9, exploration_min=0.02, exploration_steps=10000):\n",
    "        # Env\n",
    "        self.env = env\n",
    "        self.state_shape = env.observation_space.shape\n",
    "        self.action_space = env.action_space.n\n",
    "        \n",
    "        # Device used for training\n",
    "        self.device = 'cuda' if torch.cuda.is_available() else 'cpu'\n",
    "        \n",
    "        # Double DQN\n",
    "        self.policy_net = policy_net.to(self.device)\n",
    "        self.target_net = target_net.to(self.device)\n",
    "        \n",
    "        # DO NOT COMPUTE GRADIENTS FOR TARGET NET\n",
    "        self.target_net.eval()\n",
    "        \n",
    "        # TODO optimizer choice\n",
    "        self.lr = lr\n",
    "        self.optimizer = torch.optim.Adam(self.policy_net.parameters(), lr=self.lr)\n",
    "        \n",
    "        # Memory can be chose\n",
    "        self.memory = memory\n",
    "    \n",
    "        # Learning parameters\n",
    "        self.gamma = gamma\n",
    "        self.loss_fn = nn.SmoothL1Loss().to(self.device) # Also known as Huber loss <-- TODO loss choice\n",
    "        self.exploration_max = exploration_max\n",
    "        self.exploration_rate = exploration_max\n",
    "        self.exploration_min = exploration_min\n",
    "        self.exploration_steps = exploration_steps\n",
    "        self.target_update = target_update\n",
    "        self.batch_size = batch_size\n",
    "        \n",
    "        # Counters and stats\n",
    "        self.steps = 0\n",
    "        self.episodes = 0\n",
    "        self.reward_history = []\n",
    "        self.loss_history = []\n",
    "        \n",
    "    def act(self, state):\n",
    "        # Epsilon-greedy action\n",
    "        self.steps += 1\n",
    "        if random.random() < self.exploration_rate:  \n",
    "            return torch.tensor([[random.randrange(self.action_space)]])\n",
    "        # Local net is used for the policy\n",
    "        return torch.argmax(self.policy_net(state.to(self.device))).unsqueeze(0).unsqueeze(0).cpu()\n",
    "    \n",
    "    def _update_target(self):\n",
    "        self.target_net.load_state_dict(self.policy_net.state_dict())\n",
    "        \n",
    "    def _update_exploration_rate(self):\n",
    "        self.exploration_rate = self.exploration_min + (self.exploration_max - self.exploration_min) * math.exp(\n",
    "            -1.0 * self.steps / self.exploration_steps\n",
    "        )\n",
    "    \n",
    "    def optimize_model(self):\n",
    "        \n",
    "        # Update target DQN every `target_update` steps\n",
    "        if self.steps % self.target_update == 0:\n",
    "            self._update_target()\n",
    "        \n",
    "        # Replay buffer not full\n",
    "        if self.batch_size > len(self.memory):\n",
    "            return\n",
    "        \n",
    "        # Sample from buffer\n",
    "        state_batch, action_batch, reward_batch, next_state_batch, done_batch = self.memory.sample(self.batch_size)\n",
    "        \n",
    "        # Send to GPU\n",
    "        state_batch = state_batch.to(self.device)\n",
    "        action_batch = action_batch.to(self.device)\n",
    "        reward_batch = reward_batch.to(self.device)\n",
    "        next_state_batch = next_state_batch.to(self.device)\n",
    "        done_batch = done_batch.to(self.device)\n",
    "        \n",
    "        # Zero optimizer gradients\n",
    "        self.optimizer.zero_grad()\n",
    "        \n",
    "        # Compute target state-action values\n",
    "        expected_state_action_values = reward_batch + torch.mul((self.gamma * self.target_net(next_state_batch).max(1).values.unsqueeze(1)), 1 - done_batch)\n",
    "        \n",
    "        # Compute state-action values from policy_net\n",
    "        state_action_values = self.policy_net(state_batch).gather(1, action_batch.long())\n",
    "        \n",
    "        # Compute loss\n",
    "        loss = self.loss_fn(state_action_values, expected_state_action_values)\n",
    "        \n",
    "        # Optimize model\n",
    "        loss.backward()\n",
    "        self.optimizer.step()\n",
    "        \n",
    "        # Decay exploration rate\n",
    "        self._update_exploration_rate()\n",
    "        \n",
    "    def train(self, num_episodes):\n",
    "        for episode in tqdm(range(num_episodes)):\n",
    "            \n",
    "            state = env.reset()\n",
    "            state = torch.tensor(state)\n",
    "            \n",
    "            episode_reward = 0\n",
    "            \n",
    "            done = False\n",
    "            while not done:\n",
    "                \n",
    "                self.steps += 1\n",
    "                action = self.act(state.view((1,)+self.state_shape))\n",
    "                \n",
    "                next_state, reward, done, info = self.env.step(int(action[0]))\n",
    "                \n",
    "                next_state_tensor = torch.tensor(next_state)\n",
    "                reward_tensor = torch.tensor(reward)\n",
    "                done_tensor = torch.tensor(int(done)).unsqueeze(0)\n",
    "                \n",
    "                self.memory.push(state, action, reward_tensor, next_state_tensor, done_tensor)\n",
    "                self.optimize_model()\n",
    "                \n",
    "                episode_reward += reward\n",
    "                \n",
    "                state = next_state_tensor\n",
    "            \n",
    "            self.reward_history.append(episode_reward)\n",
    "            self.episodes += 1\n",
    "            print(\"Episode reward for episode {} is {}\".format(self.episodes + 1, episode_reward))\n",
    "            print(\"Average reward is {}\".format(np.mean(self.reward_history)))\n",
    "            print(\"Epsilon is {}\".format(np.mean(self.exploration_rate)))\n",
    "\n",
    "            "
   ]
  },
  {
   "cell_type": "code",
   "execution_count": 7,
   "metadata": {},
   "outputs": [],
   "source": [
    "env = gym.make('Breakout-v4')\n",
    "env = make_env(env)"
   ]
  },
  {
   "cell_type": "code",
   "execution_count": 12,
   "metadata": {
    "scrolled": true
   },
   "outputs": [
    {
     "name": "stderr",
     "output_type": "stream",
     "text": [
      "  0%|          | 1/1000 [00:00<09:12,  1.81it/s]"
     ]
    },
    {
     "name": "stdout",
     "output_type": "stream",
     "text": [
      "Episode reward for episode 2 is 0.0\n",
      "Average reward is 0.0\n",
      "Epsilon is 0.8886340388178531\n"
     ]
    },
    {
     "name": "stderr",
     "output_type": "stream",
     "text": [
      "  0%|          | 2/1000 [00:01<11:35,  1.43it/s]"
     ]
    },
    {
     "name": "stdout",
     "output_type": "stream",
     "text": [
      "Episode reward for episode 3 is 1.0\n",
      "Average reward is 0.5\n",
      "Epsilon is 0.875017475126428\n"
     ]
    },
    {
     "name": "stderr",
     "output_type": "stream",
     "text": [
      "  0%|          | 3/1000 [00:02<12:26,  1.34it/s]"
     ]
    },
    {
     "name": "stdout",
     "output_type": "stream",
     "text": [
      "Episode reward for episode 4 is 2.0\n",
      "Average reward is 1.0\n",
      "Epsilon is 0.8631306325240032\n"
     ]
    },
    {
     "name": "stderr",
     "output_type": "stream",
     "text": [
      "  0%|          | 4/1000 [00:03<13:05,  1.27it/s]"
     ]
    },
    {
     "name": "stdout",
     "output_type": "stream",
     "text": [
      "Episode reward for episode 5 is 0.0\n",
      "Average reward is 0.75\n",
      "Epsilon is 0.8539070184482436\n"
     ]
    },
    {
     "name": "stderr",
     "output_type": "stream",
     "text": [
      "  0%|          | 5/1000 [00:04<13:20,  1.24it/s]"
     ]
    },
    {
     "name": "stdout",
     "output_type": "stream",
     "text": [
      "Episode reward for episode 6 is 1.0\n",
      "Average reward is 0.8\n",
      "Epsilon is 0.8434657084072205\n"
     ]
    },
    {
     "name": "stderr",
     "output_type": "stream",
     "text": [
      "  1%|          | 6/1000 [00:04<13:06,  1.26it/s]"
     ]
    },
    {
     "name": "stdout",
     "output_type": "stream",
     "text": [
      "Episode reward for episode 7 is 1.0\n",
      "Average reward is 0.8333333333333334\n",
      "Epsilon is 0.8336431729889855\n"
     ]
    },
    {
     "name": "stderr",
     "output_type": "stream",
     "text": [
      "  1%|          | 7/1000 [00:05<13:04,  1.27it/s]"
     ]
    },
    {
     "name": "stdout",
     "output_type": "stream",
     "text": [
      "Episode reward for episode 8 is 0.0\n",
      "Average reward is 0.7142857142857143\n",
      "Epsilon is 0.8232949105422761\n"
     ]
    },
    {
     "name": "stderr",
     "output_type": "stream",
     "text": [
      "  1%|          | 8/1000 [00:06<13:55,  1.19it/s]"
     ]
    },
    {
     "name": "stdout",
     "output_type": "stream",
     "text": [
      "Episode reward for episode 9 is 2.0\n",
      "Average reward is 0.875\n",
      "Epsilon is 0.8108607485650213\n"
     ]
    },
    {
     "name": "stderr",
     "output_type": "stream",
     "text": [
      "  1%|          | 9/1000 [00:07<14:50,  1.11it/s]"
     ]
    },
    {
     "name": "stdout",
     "output_type": "stream",
     "text": [
      "Episode reward for episode 10 is 3.0\n",
      "Average reward is 1.1111111111111112\n",
      "Epsilon is 0.7981520230535224\n"
     ]
    },
    {
     "name": "stderr",
     "output_type": "stream",
     "text": [
      "  1%|          | 10/1000 [00:08<16:31,  1.00s/it]"
     ]
    },
    {
     "name": "stdout",
     "output_type": "stream",
     "text": [
      "Episode reward for episode 11 is 1.0\n",
      "Average reward is 1.1\n",
      "Epsilon is 0.7853413224607905\n"
     ]
    },
    {
     "name": "stderr",
     "output_type": "stream",
     "text": [
      "  1%|          | 11/1000 [00:09<15:55,  1.04it/s]"
     ]
    },
    {
     "name": "stdout",
     "output_type": "stream",
     "text": [
      "Episode reward for episode 12 is 1.0\n",
      "Average reward is 1.0909090909090908\n",
      "Epsilon is 0.7743993784900827\n"
     ]
    },
    {
     "name": "stderr",
     "output_type": "stream",
     "text": [
      "  1%|          | 12/1000 [00:10<14:44,  1.12it/s]"
     ]
    },
    {
     "name": "stdout",
     "output_type": "stream",
     "text": [
      "Episode reward for episode 13 is 0.0\n",
      "Average reward is 1.0\n",
      "Epsilon is 0.765698906001113\n"
     ]
    },
    {
     "name": "stderr",
     "output_type": "stream",
     "text": [
      "  1%|▏         | 13/1000 [00:11<17:19,  1.05s/it]"
     ]
    },
    {
     "name": "stdout",
     "output_type": "stream",
     "text": [
      "Episode reward for episode 14 is 4.0\n",
      "Average reward is 1.2307692307692308\n",
      "Epsilon is 0.7500564847159423\n"
     ]
    },
    {
     "name": "stderr",
     "output_type": "stream",
     "text": [
      "  1%|▏         | 14/1000 [00:13<18:15,  1.11s/it]"
     ]
    },
    {
     "name": "stdout",
     "output_type": "stream",
     "text": [
      "Episode reward for episode 15 is 3.0\n",
      "Average reward is 1.3571428571428572\n",
      "Epsilon is 0.7360298868300518\n"
     ]
    },
    {
     "name": "stderr",
     "output_type": "stream",
     "text": [
      "  2%|▏         | 15/1000 [00:13<16:25,  1.00s/it]"
     ]
    },
    {
     "name": "stdout",
     "output_type": "stream",
     "text": [
      "Episode reward for episode 16 is 0.0\n",
      "Average reward is 1.2666666666666666\n",
      "Epsilon is 0.7279134974400191\n"
     ]
    },
    {
     "name": "stderr",
     "output_type": "stream",
     "text": [
      "  2%|▏         | 16/1000 [00:14<15:56,  1.03it/s]"
     ]
    },
    {
     "name": "stdout",
     "output_type": "stream",
     "text": [
      "Episode reward for episode 17 is 0.0\n",
      "Average reward is 1.1875\n",
      "Epsilon is 0.719609209824353\n"
     ]
    },
    {
     "name": "stderr",
     "output_type": "stream",
     "text": [
      "  2%|▏         | 17/1000 [00:16<17:21,  1.06s/it]"
     ]
    },
    {
     "name": "stdout",
     "output_type": "stream",
     "text": [
      "Episode reward for episode 18 is 3.0\n",
      "Average reward is 1.2941176470588236\n",
      "Epsilon is 0.7057560193030181\n"
     ]
    },
    {
     "name": "stderr",
     "output_type": "stream",
     "text": [
      "  2%|▏         | 18/1000 [00:17<16:48,  1.03s/it]"
     ]
    },
    {
     "name": "stdout",
     "output_type": "stream",
     "text": [
      "Episode reward for episode 19 is 1.0\n",
      "Average reward is 1.2777777777777777\n",
      "Epsilon is 0.6960870956564073\n"
     ]
    },
    {
     "name": "stderr",
     "output_type": "stream",
     "text": [
      "  2%|▏         | 19/1000 [00:18<17:57,  1.10s/it]"
     ]
    },
    {
     "name": "stdout",
     "output_type": "stream",
     "text": [
      "Episode reward for episode 20 is 3.0\n",
      "Average reward is 1.368421052631579\n",
      "Epsilon is 0.6836281034949724\n"
     ]
    },
    {
     "name": "stderr",
     "output_type": "stream",
     "text": [
      "  2%|▏         | 20/1000 [00:19<16:43,  1.02s/it]"
     ]
    },
    {
     "name": "stdout",
     "output_type": "stream",
     "text": [
      "Episode reward for episode 21 is 0.0\n",
      "Average reward is 1.3\n",
      "Epsilon is 0.6751877969700003\n"
     ]
    },
    {
     "name": "stderr",
     "output_type": "stream",
     "text": [
      "  2%|▏         | 21/1000 [00:20<16:55,  1.04s/it]"
     ]
    },
    {
     "name": "stdout",
     "output_type": "stream",
     "text": [
      "Episode reward for episode 22 is 0.0\n",
      "Average reward is 1.2380952380952381\n",
      "Epsilon is 0.6659498747283074\n"
     ]
    },
    {
     "name": "stderr",
     "output_type": "stream",
     "text": [
      "  2%|▏         | 22/1000 [00:21<16:41,  1.02s/it]"
     ]
    },
    {
     "name": "stdout",
     "output_type": "stream",
     "text": [
      "Episode reward for episode 23 is 1.0\n",
      "Average reward is 1.2272727272727273\n",
      "Epsilon is 0.6572244239849236\n"
     ]
    },
    {
     "name": "stderr",
     "output_type": "stream",
     "text": [
      "  2%|▏         | 23/1000 [00:22<15:53,  1.02it/s]"
     ]
    },
    {
     "name": "stdout",
     "output_type": "stream",
     "text": [
      "Episode reward for episode 24 is 0.0\n",
      "Average reward is 1.173913043478261\n",
      "Epsilon is 0.649245767336944\n"
     ]
    },
    {
     "name": "stderr",
     "output_type": "stream",
     "text": [
      "  2%|▏         | 24/1000 [00:23<16:59,  1.05s/it]"
     ]
    },
    {
     "name": "stdout",
     "output_type": "stream",
     "text": [
      "Episode reward for episode 25 is 1.0\n",
      "Average reward is 1.1666666666666667\n",
      "Epsilon is 0.638020672454744\n"
     ]
    },
    {
     "name": "stderr",
     "output_type": "stream",
     "text": [
      "  2%|▎         | 25/1000 [00:24<15:47,  1.03it/s]"
     ]
    },
    {
     "name": "stdout",
     "output_type": "stream",
     "text": [
      "Episode reward for episode 26 is 0.0\n",
      "Average reward is 1.12\n",
      "Epsilon is 0.6311374588716916\n"
     ]
    },
    {
     "name": "stderr",
     "output_type": "stream",
     "text": [
      "  3%|▎         | 26/1000 [00:25<16:18,  1.00s/it]"
     ]
    },
    {
     "name": "stdout",
     "output_type": "stream",
     "text": [
      "Episode reward for episode 27 is 1.0\n",
      "Average reward is 1.1153846153846154\n",
      "Epsilon is 0.6217980401068731\n"
     ]
    },
    {
     "name": "stderr",
     "output_type": "stream",
     "text": [
      "  3%|▎         | 27/1000 [00:26<15:30,  1.05it/s]"
     ]
    },
    {
     "name": "stdout",
     "output_type": "stream",
     "text": [
      "Episode reward for episode 28 is 0.0\n",
      "Average reward is 1.0740740740740742\n",
      "Epsilon is 0.6156908994638799\n"
     ]
    },
    {
     "name": "stderr",
     "output_type": "stream",
     "text": [
      "  3%|▎         | 28/1000 [00:27<15:59,  1.01it/s]"
     ]
    },
    {
     "name": "stdout",
     "output_type": "stream",
     "text": [
      "Episode reward for episode 29 is 1.0\n",
      "Average reward is 1.0714285714285714\n",
      "Epsilon is 0.6064702296512076\n"
     ]
    },
    {
     "name": "stderr",
     "output_type": "stream",
     "text": [
      "  3%|▎         | 29/1000 [00:28<16:50,  1.04s/it]"
     ]
    },
    {
     "name": "stdout",
     "output_type": "stream",
     "text": [
      "Episode reward for episode 30 is 1.0\n",
      "Average reward is 1.0689655172413792\n",
      "Epsilon is 0.5962386555709216\n"
     ]
    },
    {
     "name": "stderr",
     "output_type": "stream",
     "text": [
      "  3%|▎         | 30/1000 [00:29<16:05,  1.01it/s]"
     ]
    },
    {
     "name": "stdout",
     "output_type": "stream",
     "text": [
      "Episode reward for episode 31 is 1.0\n",
      "Average reward is 1.0666666666666667\n",
      "Epsilon is 0.5889098054831355\n"
     ]
    },
    {
     "name": "stderr",
     "output_type": "stream",
     "text": [
      "  3%|▎         | 31/1000 [00:29<14:31,  1.11it/s]"
     ]
    },
    {
     "name": "stdout",
     "output_type": "stream",
     "text": [
      "Episode reward for episode 32 is 0.0\n",
      "Average reward is 1.032258064516129\n",
      "Epsilon is 0.5833617194142495\n"
     ]
    },
    {
     "name": "stderr",
     "output_type": "stream",
     "text": [
      "  3%|▎         | 32/1000 [00:30<14:25,  1.12it/s]"
     ]
    },
    {
     "name": "stdout",
     "output_type": "stream",
     "text": [
      "Episode reward for episode 33 is 0.0\n",
      "Average reward is 1.0\n",
      "Epsilon is 0.5761966437171085\n"
     ]
    },
    {
     "name": "stderr",
     "output_type": "stream",
     "text": [
      "  3%|▎         | 33/1000 [00:32<16:20,  1.01s/it]"
     ]
    },
    {
     "name": "stdout",
     "output_type": "stream",
     "text": [
      "Episode reward for episode 34 is 2.0\n",
      "Average reward is 1.0303030303030303\n",
      "Epsilon is 0.5669305928662988\n"
     ]
    },
    {
     "name": "stderr",
     "output_type": "stream",
     "text": [
      "  3%|▎         | 34/1000 [00:32<15:27,  1.04it/s]"
     ]
    },
    {
     "name": "stdout",
     "output_type": "stream",
     "text": [
      "Episode reward for episode 35 is 0.0\n",
      "Average reward is 1.0\n",
      "Epsilon is 0.5601905282776791\n"
     ]
    },
    {
     "name": "stderr",
     "output_type": "stream",
     "text": [
      "  4%|▎         | 35/1000 [00:33<16:05,  1.00s/it]"
     ]
    },
    {
     "name": "stdout",
     "output_type": "stream",
     "text": [
      "Episode reward for episode 36 is 1.0\n",
      "Average reward is 1.0\n",
      "Epsilon is 0.5519353223773762\n"
     ]
    },
    {
     "name": "stderr",
     "output_type": "stream",
     "text": [
      "  4%|▎         | 36/1000 [00:34<15:07,  1.06it/s]"
     ]
    },
    {
     "name": "stdout",
     "output_type": "stream",
     "text": [
      "Episode reward for episode 37 is 0.0\n",
      "Average reward is 0.9722222222222222\n",
      "Epsilon is 0.5463265867752299\n"
     ]
    },
    {
     "name": "stderr",
     "output_type": "stream",
     "text": [
      "  4%|▎         | 37/1000 [00:36<17:26,  1.09s/it]"
     ]
    },
    {
     "name": "stdout",
     "output_type": "stream",
     "text": [
      "Episode reward for episode 38 is 3.0\n",
      "Average reward is 1.027027027027027\n",
      "Epsilon is 0.5356983015011874\n"
     ]
    },
    {
     "name": "stderr",
     "output_type": "stream",
     "text": [
      "  4%|▍         | 38/1000 [00:37<18:30,  1.15s/it]"
     ]
    },
    {
     "name": "stdout",
     "output_type": "stream",
     "text": [
      "Episode reward for episode 39 is 2.0\n",
      "Average reward is 1.0526315789473684\n",
      "Epsilon is 0.5263974865618911\n"
     ]
    },
    {
     "name": "stderr",
     "output_type": "stream",
     "text": [
      "  4%|▍         | 39/1000 [00:38<17:21,  1.08s/it]"
     ]
    },
    {
     "name": "stdout",
     "output_type": "stream",
     "text": [
      "Episode reward for episode 40 is 1.0\n",
      "Average reward is 1.0512820512820513\n",
      "Epsilon is 0.5195571008006467\n"
     ]
    },
    {
     "name": "stderr",
     "output_type": "stream",
     "text": [
      "  4%|▍         | 40/1000 [00:39<17:42,  1.11s/it]"
     ]
    },
    {
     "name": "stdout",
     "output_type": "stream",
     "text": [
      "Episode reward for episode 41 is 3.0\n",
      "Average reward is 1.1\n",
      "Epsilon is 0.5109399934888486\n"
     ]
    },
    {
     "name": "stderr",
     "output_type": "stream",
     "text": [
      "  4%|▍         | 41/1000 [00:40<16:33,  1.04s/it]"
     ]
    },
    {
     "name": "stdout",
     "output_type": "stream",
     "text": [
      "Episode reward for episode 42 is 0.0\n",
      "Average reward is 1.0731707317073171\n",
      "Epsilon is 0.5049869131959275\n"
     ]
    },
    {
     "name": "stderr",
     "output_type": "stream",
     "text": [
      "  4%|▍         | 42/1000 [00:41<16:10,  1.01s/it]"
     ]
    },
    {
     "name": "stdout",
     "output_type": "stream",
     "text": [
      "Episode reward for episode 43 is 0.0\n",
      "Average reward is 1.0476190476190477\n",
      "Epsilon is 0.4980531445949406\n"
     ]
    },
    {
     "name": "stderr",
     "output_type": "stream",
     "text": [
      "  4%|▍         | 43/1000 [00:42<15:56,  1.00it/s]"
     ]
    },
    {
     "name": "stdout",
     "output_type": "stream",
     "text": [
      "Episode reward for episode 44 is 2.0\n",
      "Average reward is 1.069767441860465\n",
      "Epsilon is 0.4914070319122097\n"
     ]
    },
    {
     "name": "stderr",
     "output_type": "stream",
     "text": [
      "  4%|▍         | 44/1000 [00:43<16:19,  1.02s/it]"
     ]
    },
    {
     "name": "stdout",
     "output_type": "stream",
     "text": [
      "Episode reward for episode 45 is 2.0\n",
      "Average reward is 1.0909090909090908\n",
      "Epsilon is 0.4848533165168745\n"
     ]
    },
    {
     "name": "stderr",
     "output_type": "stream",
     "text": [
      "  4%|▍         | 45/1000 [00:44<17:46,  1.12s/it]"
     ]
    },
    {
     "name": "stdout",
     "output_type": "stream",
     "text": [
      "Episode reward for episode 46 is 3.0\n",
      "Average reward is 1.1333333333333333\n",
      "Epsilon is 0.47592207532771946\n"
     ]
    },
    {
     "name": "stderr",
     "output_type": "stream",
     "text": [
      "  5%|▍         | 46/1000 [00:45<16:55,  1.06s/it]"
     ]
    },
    {
     "name": "stdout",
     "output_type": "stream",
     "text": [
      "Episode reward for episode 47 is 1.0\n",
      "Average reward is 1.1304347826086956\n",
      "Epsilon is 0.4697635082829211\n"
     ]
    },
    {
     "name": "stderr",
     "output_type": "stream",
     "text": [
      "  5%|▍         | 47/1000 [00:46<16:01,  1.01s/it]"
     ]
    },
    {
     "name": "stdout",
     "output_type": "stream",
     "text": [
      "Episode reward for episode 48 is 1.0\n",
      "Average reward is 1.127659574468085\n",
      "Epsilon is 0.46404322330152503\n"
     ]
    },
    {
     "name": "stderr",
     "output_type": "stream",
     "text": [
      "  5%|▍         | 48/1000 [00:48<18:00,  1.14s/it]"
     ]
    },
    {
     "name": "stdout",
     "output_type": "stream",
     "text": [
      "Episode reward for episode 49 is 3.0\n",
      "Average reward is 1.1666666666666667\n",
      "Epsilon is 0.454989506353425\n"
     ]
    },
    {
     "name": "stderr",
     "output_type": "stream",
     "text": [
      "  5%|▍         | 49/1000 [00:49<19:13,  1.21s/it]"
     ]
    },
    {
     "name": "stdout",
     "output_type": "stream",
     "text": [
      "Episode reward for episode 50 is 1.0\n",
      "Average reward is 1.163265306122449\n",
      "Epsilon is 0.4466320394752621\n"
     ]
    },
    {
     "name": "stderr",
     "output_type": "stream",
     "text": [
      "  5%|▌         | 50/1000 [00:50<19:18,  1.22s/it]"
     ]
    },
    {
     "name": "stdout",
     "output_type": "stream",
     "text": [
      "Episode reward for episode 51 is 1.0\n",
      "Average reward is 1.16\n",
      "Epsilon is 0.4398602456585103\n"
     ]
    },
    {
     "name": "stderr",
     "output_type": "stream",
     "text": [
      "  5%|▌         | 51/1000 [00:52<20:48,  1.32s/it]"
     ]
    },
    {
     "name": "stdout",
     "output_type": "stream",
     "text": [
      "Episode reward for episode 52 is 3.0\n",
      "Average reward is 1.196078431372549\n",
      "Epsilon is 0.43162877329135174\n"
     ]
    },
    {
     "name": "stderr",
     "output_type": "stream",
     "text": [
      "  5%|▌         | 52/1000 [00:53<21:36,  1.37s/it]"
     ]
    },
    {
     "name": "stdout",
     "output_type": "stream",
     "text": [
      "Episode reward for episode 53 is 2.0\n",
      "Average reward is 1.2115384615384615\n",
      "Epsilon is 0.42323596330009805\n"
     ]
    },
    {
     "name": "stderr",
     "output_type": "stream",
     "text": [
      "  5%|▌         | 53/1000 [00:55<24:19,  1.54s/it]"
     ]
    },
    {
     "name": "stdout",
     "output_type": "stream",
     "text": [
      "Episode reward for episode 54 is 5.0\n",
      "Average reward is 1.2830188679245282\n",
      "Epsilon is 0.41328003189287854\n"
     ]
    },
    {
     "name": "stderr",
     "output_type": "stream",
     "text": [
      "  5%|▌         | 54/1000 [00:56<22:35,  1.43s/it]"
     ]
    },
    {
     "name": "stdout",
     "output_type": "stream",
     "text": [
      "Episode reward for episode 55 is 2.0\n",
      "Average reward is 1.2962962962962963\n",
      "Epsilon is 0.4072699160729942\n"
     ]
    },
    {
     "name": "stderr",
     "output_type": "stream",
     "text": [
      "  6%|▌         | 55/1000 [00:57<21:06,  1.34s/it]"
     ]
    },
    {
     "name": "stdout",
     "output_type": "stream",
     "text": [
      "Episode reward for episode 56 is 1.0\n",
      "Average reward is 1.290909090909091\n",
      "Epsilon is 0.401351647001582\n"
     ]
    },
    {
     "name": "stderr",
     "output_type": "stream",
     "text": [
      "  6%|▌         | 56/1000 [00:59<20:15,  1.29s/it]"
     ]
    },
    {
     "name": "stdout",
     "output_type": "stream",
     "text": [
      "Episode reward for episode 57 is 2.0\n",
      "Average reward is 1.3035714285714286\n",
      "Epsilon is 0.39477352397925514\n"
     ]
    },
    {
     "name": "stderr",
     "output_type": "stream",
     "text": [
      "  6%|▌         | 57/1000 [01:00<20:01,  1.27s/it]"
     ]
    },
    {
     "name": "stdout",
     "output_type": "stream",
     "text": [
      "Episode reward for episode 58 is 2.0\n",
      "Average reward is 1.3157894736842106\n",
      "Epsilon is 0.3884562232685746\n"
     ]
    },
    {
     "name": "stderr",
     "output_type": "stream",
     "text": [
      "  6%|▌         | 58/1000 [01:01<17:41,  1.13s/it]"
     ]
    },
    {
     "name": "stdout",
     "output_type": "stream",
     "text": [
      "Episode reward for episode 59 is 0.0\n",
      "Average reward is 1.293103448275862\n",
      "Epsilon is 0.38464413576117334\n"
     ]
    },
    {
     "name": "stderr",
     "output_type": "stream",
     "text": [
      "  6%|▌         | 59/1000 [01:02<18:30,  1.18s/it]"
     ]
    },
    {
     "name": "stdout",
     "output_type": "stream",
     "text": [
      "Episode reward for episode 60 is 2.0\n",
      "Average reward is 1.305084745762712\n",
      "Epsilon is 0.37821089583802164\n"
     ]
    },
    {
     "name": "stderr",
     "output_type": "stream",
     "text": [
      "  6%|▌         | 60/1000 [01:03<16:34,  1.06s/it]"
     ]
    },
    {
     "name": "stdout",
     "output_type": "stream",
     "text": [
      "Episode reward for episode 61 is 0.0\n",
      "Average reward is 1.2833333333333334\n",
      "Epsilon is 0.3746466378715739\n"
     ]
    },
    {
     "name": "stderr",
     "output_type": "stream",
     "text": [
      "  6%|▌         | 61/1000 [01:05<22:26,  1.43s/it]"
     ]
    },
    {
     "name": "stdout",
     "output_type": "stream",
     "text": [
      "Episode reward for episode 62 is 4.0\n",
      "Average reward is 1.3278688524590163\n",
      "Epsilon is 0.36382125249002994\n"
     ]
    },
    {
     "name": "stderr",
     "output_type": "stream",
     "text": [
      "  6%|▌         | 62/1000 [01:06<19:14,  1.23s/it]"
     ]
    },
    {
     "name": "stdout",
     "output_type": "stream",
     "text": [
      "Episode reward for episode 63 is 0.0\n",
      "Average reward is 1.3064516129032258\n",
      "Epsilon is 0.36080889926201537\n"
     ]
    },
    {
     "name": "stderr",
     "output_type": "stream",
     "text": [
      "  6%|▋         | 63/1000 [01:07<17:37,  1.13s/it]"
     ]
    },
    {
     "name": "stdout",
     "output_type": "stream",
     "text": [
      "Episode reward for episode 64 is 1.0\n",
      "Average reward is 1.3015873015873016\n",
      "Epsilon is 0.3565416472744301\n"
     ]
    },
    {
     "name": "stderr",
     "output_type": "stream",
     "text": [
      "  6%|▋         | 64/1000 [01:07<15:47,  1.01s/it]"
     ]
    },
    {
     "name": "stdout",
     "output_type": "stream",
     "text": [
      "Episode reward for episode 65 is 1.0\n",
      "Average reward is 1.296875\n",
      "Epsilon is 0.3531263699967498\n"
     ]
    },
    {
     "name": "stderr",
     "output_type": "stream",
     "text": [
      "  6%|▋         | 65/1000 [01:09<16:20,  1.05s/it]"
     ]
    },
    {
     "name": "stdout",
     "output_type": "stream",
     "text": [
      "Episode reward for episode 66 is 3.0\n",
      "Average reward is 1.323076923076923\n",
      "Epsilon is 0.3477076524635532\n"
     ]
    },
    {
     "name": "stderr",
     "output_type": "stream",
     "text": [
      "  7%|▋         | 66/1000 [01:10<18:15,  1.17s/it]"
     ]
    },
    {
     "name": "stdout",
     "output_type": "stream",
     "text": [
      "Episode reward for episode 67 is 1.0\n",
      "Average reward is 1.3181818181818181\n",
      "Epsilon is 0.3410259328213267\n"
     ]
    },
    {
     "name": "stderr",
     "output_type": "stream",
     "text": [
      "  7%|▋         | 67/1000 [01:11<15:41,  1.01s/it]"
     ]
    },
    {
     "name": "stdout",
     "output_type": "stream",
     "text": [
      "Episode reward for episode 68 is 0.0\n",
      "Average reward is 1.2985074626865671\n",
      "Epsilon is 0.3381496620591659\n"
     ]
    },
    {
     "name": "stderr",
     "output_type": "stream",
     "text": [
      "  7%|▋         | 68/1000 [01:12<15:48,  1.02s/it]"
     ]
    },
    {
     "name": "stdout",
     "output_type": "stream",
     "text": [
      "Episode reward for episode 69 is 0.0\n",
      "Average reward is 1.2794117647058822\n",
      "Epsilon is 0.33391489290696563\n"
     ]
    },
    {
     "name": "stderr",
     "output_type": "stream",
     "text": [
      "  7%|▋         | 69/1000 [01:13<15:06,  1.03it/s]"
     ]
    },
    {
     "name": "stdout",
     "output_type": "stream",
     "text": [
      "Episode reward for episode 70 is 0.0\n",
      "Average reward is 1.2608695652173914\n",
      "Epsilon is 0.3302945189147689\n"
     ]
    },
    {
     "name": "stderr",
     "output_type": "stream",
     "text": [
      "  7%|▋         | 70/1000 [01:14<15:08,  1.02it/s]"
     ]
    },
    {
     "name": "stdout",
     "output_type": "stream",
     "text": [
      "Episode reward for episode 71 is 0.0\n",
      "Average reward is 1.2428571428571429\n",
      "Epsilon is 0.3265319242798812\n"
     ]
    },
    {
     "name": "stderr",
     "output_type": "stream",
     "text": [
      "  7%|▋         | 71/1000 [01:15<15:52,  1.02s/it]"
     ]
    },
    {
     "name": "stdout",
     "output_type": "stream",
     "text": [
      "Episode reward for episode 72 is 3.0\n",
      "Average reward is 1.267605633802817\n",
      "Epsilon is 0.3216664411529491\n"
     ]
    },
    {
     "name": "stderr",
     "output_type": "stream",
     "text": [
      "  7%|▋         | 72/1000 [01:16<16:04,  1.04s/it]"
     ]
    },
    {
     "name": "stdout",
     "output_type": "stream",
     "text": [
      "Episode reward for episode 73 is 1.0\n",
      "Average reward is 1.2638888888888888\n",
      "Epsilon is 0.31717521295733486\n"
     ]
    },
    {
     "name": "stderr",
     "output_type": "stream",
     "text": [
      "  7%|▋         | 73/1000 [01:17<17:33,  1.14s/it]"
     ]
    },
    {
     "name": "stdout",
     "output_type": "stream",
     "text": [
      "Episode reward for episode 74 is 2.0\n",
      "Average reward is 1.273972602739726\n",
      "Epsilon is 0.31239976011415266\n"
     ]
    },
    {
     "name": "stderr",
     "output_type": "stream",
     "text": [
      "  7%|▋         | 74/1000 [01:18<17:20,  1.12s/it]"
     ]
    },
    {
     "name": "stdout",
     "output_type": "stream",
     "text": [
      "Episode reward for episode 75 is 1.0\n",
      "Average reward is 1.2702702702702702\n",
      "Epsilon is 0.307816149779966\n"
     ]
    },
    {
     "name": "stderr",
     "output_type": "stream",
     "text": [
      "  8%|▊         | 75/1000 [01:19<17:00,  1.10s/it]"
     ]
    },
    {
     "name": "stdout",
     "output_type": "stream",
     "text": [
      "Episode reward for episode 76 is 3.0\n",
      "Average reward is 1.2933333333333332\n",
      "Epsilon is 0.30364456069456613\n"
     ]
    },
    {
     "name": "stderr",
     "output_type": "stream",
     "text": [
      "  8%|▊         | 76/1000 [01:20<16:36,  1.08s/it]"
     ]
    },
    {
     "name": "stdout",
     "output_type": "stream",
     "text": [
      "Episode reward for episode 77 is 2.0\n",
      "Average reward is 1.3026315789473684\n",
      "Epsilon is 0.29970120474442996\n"
     ]
    },
    {
     "name": "stderr",
     "output_type": "stream",
     "text": [
      "  8%|▊         | 77/1000 [01:21<16:56,  1.10s/it]"
     ]
    },
    {
     "name": "stdout",
     "output_type": "stream",
     "text": [
      "Episode reward for episode 78 is 0.0\n",
      "Average reward is 1.2857142857142858\n",
      "Epsilon is 0.2955369963150988\n"
     ]
    },
    {
     "name": "stderr",
     "output_type": "stream",
     "text": [
      "  8%|▊         | 78/1000 [01:22<16:04,  1.05s/it]"
     ]
    },
    {
     "name": "stdout",
     "output_type": "stream",
     "text": [
      "Episode reward for episode 79 is 0.0\n",
      "Average reward is 1.2692307692307692\n",
      "Epsilon is 0.2923047674136415\n"
     ]
    },
    {
     "name": "stderr",
     "output_type": "stream",
     "text": [
      "  8%|▊         | 79/1000 [01:23<15:43,  1.02s/it]"
     ]
    },
    {
     "name": "stdout",
     "output_type": "stream",
     "text": [
      "Episode reward for episode 80 is 0.0\n",
      "Average reward is 1.2531645569620253\n",
      "Epsilon is 0.2890566379588664\n"
     ]
    },
    {
     "name": "stderr",
     "output_type": "stream",
     "text": [
      "  8%|▊         | 80/1000 [01:24<13:51,  1.11it/s]"
     ]
    },
    {
     "name": "stdout",
     "output_type": "stream",
     "text": [
      "Episode reward for episode 81 is 0.0\n",
      "Average reward is 1.2375\n",
      "Epsilon is 0.2866993269258678\n"
     ]
    },
    {
     "name": "stderr",
     "output_type": "stream",
     "text": [
      "  8%|▊         | 81/1000 [01:25<15:02,  1.02it/s]"
     ]
    },
    {
     "name": "stdout",
     "output_type": "stream",
     "text": [
      "Episode reward for episode 82 is 2.0\n",
      "Average reward is 1.2469135802469136\n",
      "Epsilon is 0.28241360589830095\n"
     ]
    },
    {
     "name": "stderr",
     "output_type": "stream",
     "text": [
      "  8%|▊         | 82/1000 [01:26<15:16,  1.00it/s]"
     ]
    },
    {
     "name": "stdout",
     "output_type": "stream",
     "text": [
      "Episode reward for episode 83 is 0.0\n",
      "Average reward is 1.2317073170731707\n",
      "Epsilon is 0.278765412357477\n"
     ]
    },
    {
     "name": "stderr",
     "output_type": "stream",
     "text": [
      "  8%|▊         | 83/1000 [01:28<18:27,  1.21s/it]"
     ]
    },
    {
     "name": "stdout",
     "output_type": "stream",
     "text": [
      "Episode reward for episode 84 is 5.0\n",
      "Average reward is 1.2771084337349397\n",
      "Epsilon is 0.2726795051119867\n"
     ]
    },
    {
     "name": "stderr",
     "output_type": "stream",
     "text": [
      "  8%|▊         | 84/1000 [01:30<20:48,  1.36s/it]"
     ]
    },
    {
     "name": "stdout",
     "output_type": "stream",
     "text": [
      "Episode reward for episode 85 is 3.0\n",
      "Average reward is 1.2976190476190477\n",
      "Epsilon is 0.2668848188625445\n"
     ]
    },
    {
     "name": "stderr",
     "output_type": "stream",
     "text": [
      "  8%|▊         | 85/1000 [01:31<22:13,  1.46s/it]"
     ]
    },
    {
     "name": "stdout",
     "output_type": "stream",
     "text": [
      "Episode reward for episode 86 is 5.0\n",
      "Average reward is 1.3411764705882352\n",
      "Epsilon is 0.2611747820781392\n"
     ]
    },
    {
     "name": "stderr",
     "output_type": "stream",
     "text": [
      "  9%|▊         | 86/1000 [01:32<19:26,  1.28s/it]"
     ]
    },
    {
     "name": "stdout",
     "output_type": "stream",
     "text": [
      "Episode reward for episode 87 is 1.0\n",
      "Average reward is 1.3372093023255813\n",
      "Epsilon is 0.2583456443893326\n"
     ]
    },
    {
     "name": "stderr",
     "output_type": "stream",
     "text": [
      "  9%|▊         | 87/1000 [01:34<20:17,  1.33s/it]"
     ]
    },
    {
     "name": "stdout",
     "output_type": "stream",
     "text": [
      "Episode reward for episode 88 is 4.0\n",
      "Average reward is 1.367816091954023\n",
      "Epsilon is 0.2541874604031935\n"
     ]
    },
    {
     "name": "stderr",
     "output_type": "stream",
     "text": [
      "  9%|▉         | 88/1000 [01:35<19:50,  1.31s/it]"
     ]
    },
    {
     "name": "stdout",
     "output_type": "stream",
     "text": [
      "Episode reward for episode 89 is 2.0\n",
      "Average reward is 1.375\n",
      "Epsilon is 0.2506547277895454\n"
     ]
    },
    {
     "name": "stderr",
     "output_type": "stream",
     "text": [
      "  9%|▉         | 89/1000 [01:36<17:47,  1.17s/it]"
     ]
    },
    {
     "name": "stdout",
     "output_type": "stream",
     "text": [
      "Episode reward for episode 90 is 0.0\n",
      "Average reward is 1.3595505617977528\n",
      "Epsilon is 0.2479945915662093\n"
     ]
    },
    {
     "name": "stderr",
     "output_type": "stream",
     "text": [
      "  9%|▉         | 90/1000 [01:37<20:31,  1.35s/it]"
     ]
    },
    {
     "name": "stdout",
     "output_type": "stream",
     "text": [
      "Episode reward for episode 91 is 4.0\n",
      "Average reward is 1.3888888888888888\n",
      "Epsilon is 0.24258786164818125\n"
     ]
    },
    {
     "name": "stderr",
     "output_type": "stream",
     "text": [
      "  9%|▉         | 91/1000 [01:39<20:07,  1.33s/it]"
     ]
    },
    {
     "name": "stdout",
     "output_type": "stream",
     "text": [
      "Episode reward for episode 92 is 2.0\n",
      "Average reward is 1.3956043956043955\n",
      "Epsilon is 0.23901098918231292\n"
     ]
    },
    {
     "name": "stderr",
     "output_type": "stream",
     "text": [
      "  9%|▉         | 92/1000 [01:40<21:21,  1.41s/it]"
     ]
    },
    {
     "name": "stdout",
     "output_type": "stream",
     "text": [
      "Episode reward for episode 93 is 4.0\n",
      "Average reward is 1.423913043478261\n",
      "Epsilon is 0.23458842849534167\n"
     ]
    },
    {
     "name": "stderr",
     "output_type": "stream",
     "text": [
      "  9%|▉         | 93/1000 [01:42<21:47,  1.44s/it]"
     ]
    },
    {
     "name": "stdout",
     "output_type": "stream",
     "text": [
      "Episode reward for episode 94 is 2.0\n",
      "Average reward is 1.4301075268817205\n",
      "Epsilon is 0.23042344546466995\n"
     ]
    },
    {
     "name": "stderr",
     "output_type": "stream",
     "text": [
      "  9%|▉         | 94/1000 [01:43<18:26,  1.22s/it]"
     ]
    },
    {
     "name": "stdout",
     "output_type": "stream",
     "text": [
      "Episode reward for episode 95 is 0.0\n",
      "Average reward is 1.4148936170212767\n",
      "Epsilon is 0.22853813109600177\n"
     ]
    },
    {
     "name": "stderr",
     "output_type": "stream",
     "text": [
      " 10%|▉         | 95/1000 [01:44<18:12,  1.21s/it]"
     ]
    },
    {
     "name": "stdout",
     "output_type": "stream",
     "text": [
      "Episode reward for episode 96 is 2.0\n",
      "Average reward is 1.4210526315789473\n",
      "Epsilon is 0.22551559260316587\n"
     ]
    },
    {
     "name": "stderr",
     "output_type": "stream",
     "text": [
      " 10%|▉         | 96/1000 [01:46<21:25,  1.42s/it]"
     ]
    },
    {
     "name": "stdout",
     "output_type": "stream",
     "text": [
      "Episode reward for episode 97 is 4.0\n",
      "Average reward is 1.4479166666666667\n",
      "Epsilon is 0.2203211657777552\n"
     ]
    },
    {
     "name": "stderr",
     "output_type": "stream",
     "text": [
      " 10%|▉         | 97/1000 [01:47<21:06,  1.40s/it]"
     ]
    },
    {
     "name": "stdout",
     "output_type": "stream",
     "text": [
      "Episode reward for episode 98 is 1.0\n",
      "Average reward is 1.443298969072165\n",
      "Epsilon is 0.21666895966401797\n"
     ]
    },
    {
     "name": "stderr",
     "output_type": "stream",
     "text": [
      " 10%|▉         | 98/1000 [01:49<22:01,  1.46s/it]"
     ]
    },
    {
     "name": "stdout",
     "output_type": "stream",
     "text": [
      "Episode reward for episode 99 is 5.0\n",
      "Average reward is 1.4795918367346939\n",
      "Epsilon is 0.21254346250152617\n"
     ]
    },
    {
     "name": "stderr",
     "output_type": "stream",
     "text": [
      " 10%|▉         | 99/1000 [01:50<19:30,  1.30s/it]"
     ]
    },
    {
     "name": "stdout",
     "output_type": "stream",
     "text": [
      "Episode reward for episode 100 is 1.0\n",
      "Average reward is 1.4747474747474747\n",
      "Epsilon is 0.21017066531244297\n"
     ]
    },
    {
     "name": "stderr",
     "output_type": "stream",
     "text": [
      " 10%|█         | 100/1000 [01:51<20:09,  1.34s/it]"
     ]
    },
    {
     "name": "stdout",
     "output_type": "stream",
     "text": [
      "Episode reward for episode 101 is 4.0\n",
      "Average reward is 1.5\n",
      "Epsilon is 0.20662885414705406\n"
     ]
    },
    {
     "name": "stderr",
     "output_type": "stream",
     "text": [
      " 10%|█         | 101/1000 [01:52<19:10,  1.28s/it]"
     ]
    },
    {
     "name": "stdout",
     "output_type": "stream",
     "text": [
      "Episode reward for episode 102 is 1.0\n",
      "Average reward is 1.495049504950495\n",
      "Epsilon is 0.20392386732968568\n"
     ]
    },
    {
     "name": "stderr",
     "output_type": "stream",
     "text": [
      " 10%|█         | 102/1000 [01:53<18:23,  1.23s/it]"
     ]
    },
    {
     "name": "stdout",
     "output_type": "stream",
     "text": [
      "Episode reward for episode 103 is 1.0\n",
      "Average reward is 1.4901960784313726\n",
      "Epsilon is 0.2013306041574461\n"
     ]
    },
    {
     "name": "stderr",
     "output_type": "stream",
     "text": [
      " 10%|█         | 103/1000 [01:55<19:29,  1.30s/it]"
     ]
    },
    {
     "name": "stdout",
     "output_type": "stream",
     "text": [
      "Episode reward for episode 104 is 3.0\n",
      "Average reward is 1.5048543689320388\n",
      "Epsilon is 0.1978822665311169\n"
     ]
    },
    {
     "name": "stderr",
     "output_type": "stream",
     "text": [
      " 10%|█         | 104/1000 [01:56<19:44,  1.32s/it]"
     ]
    },
    {
     "name": "stdout",
     "output_type": "stream",
     "text": [
      "Episode reward for episode 105 is 3.0\n",
      "Average reward is 1.5192307692307692\n",
      "Epsilon is 0.19460423655745246\n"
     ]
    },
    {
     "name": "stderr",
     "output_type": "stream",
     "text": [
      " 10%|█         | 105/1000 [01:57<18:48,  1.26s/it]"
     ]
    },
    {
     "name": "stdout",
     "output_type": "stream",
     "text": [
      "Episode reward for episode 106 is 2.0\n",
      "Average reward is 1.5238095238095237\n",
      "Epsilon is 0.19221124769273887\n"
     ]
    },
    {
     "name": "stderr",
     "output_type": "stream",
     "text": [
      " 11%|█         | 106/1000 [01:58<17:37,  1.18s/it]"
     ]
    },
    {
     "name": "stdout",
     "output_type": "stream",
     "text": [
      "Episode reward for episode 107 is 1.0\n",
      "Average reward is 1.5188679245283019\n",
      "Epsilon is 0.18991900927051003\n"
     ]
    },
    {
     "name": "stderr",
     "output_type": "stream",
     "text": [
      " 11%|█         | 107/1000 [02:00<19:21,  1.30s/it]"
     ]
    },
    {
     "name": "stdout",
     "output_type": "stream",
     "text": [
      "Episode reward for episode 108 is 4.0\n",
      "Average reward is 1.5420560747663552\n",
      "Epsilon is 0.18645448479787297\n"
     ]
    },
    {
     "name": "stderr",
     "output_type": "stream",
     "text": [
      " 11%|█         | 108/1000 [02:00<16:49,  1.13s/it]"
     ]
    },
    {
     "name": "stdout",
     "output_type": "stream",
     "text": [
      "Episode reward for episode 109 is 0.0\n",
      "Average reward is 1.5277777777777777\n",
      "Epsilon is 0.18483119794412217\n"
     ]
    },
    {
     "name": "stderr",
     "output_type": "stream",
     "text": [
      " 11%|█         | 109/1000 [02:02<18:37,  1.25s/it]"
     ]
    },
    {
     "name": "stdout",
     "output_type": "stream",
     "text": [
      "Episode reward for episode 110 is 3.0\n",
      "Average reward is 1.5412844036697249\n",
      "Epsilon is 0.18147041022776741\n"
     ]
    },
    {
     "name": "stderr",
     "output_type": "stream",
     "text": [
      " 11%|█         | 110/1000 [02:03<17:52,  1.20s/it]"
     ]
    },
    {
     "name": "stdout",
     "output_type": "stream",
     "text": [
      "Episode reward for episode 111 is 1.0\n",
      "Average reward is 1.5363636363636364\n",
      "Epsilon is 0.1794486469156219\n"
     ]
    },
    {
     "name": "stderr",
     "output_type": "stream",
     "text": [
      " 11%|█         | 111/1000 [02:04<15:26,  1.04s/it]"
     ]
    },
    {
     "name": "stdout",
     "output_type": "stream",
     "text": [
      "Episode reward for episode 112 is 0.0\n",
      "Average reward is 1.5225225225225225\n",
      "Epsilon is 0.17814651405193124\n"
     ]
    },
    {
     "name": "stderr",
     "output_type": "stream",
     "text": [
      " 11%|█         | 112/1000 [02:05<16:32,  1.12s/it]"
     ]
    },
    {
     "name": "stdout",
     "output_type": "stream",
     "text": [
      "Episode reward for episode 113 is 2.0\n",
      "Average reward is 1.5267857142857142\n",
      "Epsilon is 0.17551184579631188\n"
     ]
    },
    {
     "name": "stderr",
     "output_type": "stream",
     "text": [
      " 11%|█▏        | 113/1000 [02:06<14:18,  1.03it/s]"
     ]
    },
    {
     "name": "stdout",
     "output_type": "stream",
     "text": [
      "Episode reward for episode 114 is 0.0\n",
      "Average reward is 1.5132743362831858\n",
      "Epsilon is 0.17427271416516096\n"
     ]
    },
    {
     "name": "stderr",
     "output_type": "stream",
     "text": [
      " 11%|█▏        | 114/1000 [02:07<14:41,  1.00it/s]"
     ]
    },
    {
     "name": "stdout",
     "output_type": "stream",
     "text": [
      "Episode reward for episode 115 is 2.0\n",
      "Average reward is 1.5175438596491229\n",
      "Epsilon is 0.17221924874029015\n"
     ]
    },
    {
     "name": "stderr",
     "output_type": "stream",
     "text": [
      " 12%|█▏        | 115/1000 [02:08<16:42,  1.13s/it]"
     ]
    },
    {
     "name": "stdout",
     "output_type": "stream",
     "text": [
      "Episode reward for episode 116 is 3.0\n",
      "Average reward is 1.5304347826086957\n",
      "Epsilon is 0.16956362797526336\n"
     ]
    },
    {
     "name": "stderr",
     "output_type": "stream",
     "text": [
      " 12%|█▏        | 116/1000 [02:09<15:54,  1.08s/it]"
     ]
    },
    {
     "name": "stdout",
     "output_type": "stream",
     "text": [
      "Episode reward for episode 117 is 1.0\n",
      "Average reward is 1.5258620689655173\n",
      "Epsilon is 0.16777959007536303\n"
     ]
    },
    {
     "name": "stderr",
     "output_type": "stream",
     "text": [
      " 12%|█▏        | 117/1000 [02:11<17:35,  1.20s/it]"
     ]
    },
    {
     "name": "stdout",
     "output_type": "stream",
     "text": [
      "Episode reward for episode 118 is 4.0\n",
      "Average reward is 1.547008547008547\n",
      "Epsilon is 0.16496928718563186\n"
     ]
    },
    {
     "name": "stderr",
     "output_type": "stream",
     "text": [
      " 12%|█▏        | 118/1000 [02:12<18:26,  1.25s/it]"
     ]
    },
    {
     "name": "stdout",
     "output_type": "stream",
     "text": [
      "Episode reward for episode 119 is 4.0\n",
      "Average reward is 1.5677966101694916\n",
      "Epsilon is 0.1623262428777183\n"
     ]
    },
    {
     "name": "stderr",
     "output_type": "stream",
     "text": [
      " 12%|█▏        | 119/1000 [02:13<16:53,  1.15s/it]"
     ]
    },
    {
     "name": "stdout",
     "output_type": "stream",
     "text": [
      "Episode reward for episode 120 is 1.0\n",
      "Average reward is 1.5630252100840336\n",
      "Epsilon is 0.16062853458539028\n"
     ]
    },
    {
     "name": "stderr",
     "output_type": "stream",
     "text": [
      " 12%|█▏        | 120/1000 [02:14<15:08,  1.03s/it]"
     ]
    },
    {
     "name": "stdout",
     "output_type": "stream",
     "text": [
      "Episode reward for episode 121 is 0.0\n",
      "Average reward is 1.55\n",
      "Epsilon is 0.15945220240684796\n"
     ]
    },
    {
     "name": "stderr",
     "output_type": "stream",
     "text": [
      " 12%|█▏        | 121/1000 [02:15<16:47,  1.15s/it]"
     ]
    },
    {
     "name": "stdout",
     "output_type": "stream",
     "text": [
      "Episode reward for episode 122 is 3.0\n",
      "Average reward is 1.56198347107438\n",
      "Epsilon is 0.15696451908054848\n"
     ]
    },
    {
     "name": "stderr",
     "output_type": "stream",
     "text": [
      " 12%|█▏        | 122/1000 [02:16<16:54,  1.16s/it]"
     ]
    },
    {
     "name": "stdout",
     "output_type": "stream",
     "text": [
      "Episode reward for episode 123 is 2.0\n",
      "Average reward is 1.5655737704918034\n",
      "Epsilon is 0.15481748590641248\n"
     ]
    },
    {
     "name": "stderr",
     "output_type": "stream",
     "text": [
      " 12%|█▏        | 123/1000 [02:17<16:46,  1.15s/it]"
     ]
    },
    {
     "name": "stdout",
     "output_type": "stream",
     "text": [
      "Episode reward for episode 124 is 2.0\n",
      "Average reward is 1.5691056910569106\n",
      "Epsilon is 0.15283687975306467\n"
     ]
    },
    {
     "name": "stderr",
     "output_type": "stream",
     "text": [
      " 12%|█▏        | 124/1000 [02:18<16:06,  1.10s/it]"
     ]
    },
    {
     "name": "stdout",
     "output_type": "stream",
     "text": [
      "Episode reward for episode 125 is 2.0\n",
      "Average reward is 1.5725806451612903\n",
      "Epsilon is 0.15114740340775615\n"
     ]
    },
    {
     "name": "stderr",
     "output_type": "stream",
     "text": [
      " 12%|█▎        | 125/1000 [02:20<18:30,  1.27s/it]"
     ]
    },
    {
     "name": "stdout",
     "output_type": "stream",
     "text": [
      "Episode reward for episode 126 is 3.0\n",
      "Average reward is 1.584\n",
      "Epsilon is 0.14870486403430333\n"
     ]
    },
    {
     "name": "stderr",
     "output_type": "stream",
     "text": [
      " 13%|█▎        | 126/1000 [02:21<16:22,  1.12s/it]"
     ]
    },
    {
     "name": "stdout",
     "output_type": "stream",
     "text": [
      "Episode reward for episode 127 is 0.0\n",
      "Average reward is 1.5714285714285714\n",
      "Epsilon is 0.14755171720246849\n"
     ]
    },
    {
     "name": "stderr",
     "output_type": "stream",
     "text": [
      " 13%|█▎        | 127/1000 [02:22<15:59,  1.10s/it]"
     ]
    },
    {
     "name": "stdout",
     "output_type": "stream",
     "text": [
      "Episode reward for episode 128 is 1.0\n",
      "Average reward is 1.5669291338582678\n",
      "Epsilon is 0.14590427644515097\n"
     ]
    },
    {
     "name": "stderr",
     "output_type": "stream",
     "text": [
      " 13%|█▎        | 128/1000 [02:23<14:39,  1.01s/it]"
     ]
    },
    {
     "name": "stdout",
     "output_type": "stream",
     "text": [
      "Episode reward for episode 129 is 1.0\n",
      "Average reward is 1.5625\n",
      "Epsilon is 0.144601657330437\n"
     ]
    },
    {
     "name": "stderr",
     "output_type": "stream",
     "text": [
      " 13%|█▎        | 129/1000 [02:24<13:55,  1.04it/s]"
     ]
    },
    {
     "name": "stdout",
     "output_type": "stream",
     "text": [
      "Episode reward for episode 130 is 1.0\n",
      "Average reward is 1.558139534883721\n",
      "Epsilon is 0.14323854993511498\n"
     ]
    },
    {
     "name": "stderr",
     "output_type": "stream",
     "text": [
      " 13%|█▎        | 130/1000 [02:25<16:28,  1.14s/it]"
     ]
    },
    {
     "name": "stdout",
     "output_type": "stream",
     "text": [
      "Episode reward for episode 131 is 4.0\n",
      "Average reward is 1.5769230769230769\n",
      "Epsilon is 0.1408224252154037\n"
     ]
    },
    {
     "name": "stderr",
     "output_type": "stream",
     "text": [
      " 13%|█▎        | 131/1000 [02:26<16:24,  1.13s/it]"
     ]
    },
    {
     "name": "stdout",
     "output_type": "stream",
     "text": [
      "Episode reward for episode 132 is 2.0\n",
      "Average reward is 1.5801526717557253\n",
      "Epsilon is 0.1391903634081983\n"
     ]
    },
    {
     "name": "stderr",
     "output_type": "stream",
     "text": [
      " 13%|█▎        | 132/1000 [02:27<15:00,  1.04s/it]"
     ]
    },
    {
     "name": "stdout",
     "output_type": "stream",
     "text": [
      "Episode reward for episode 133 is 0.0\n",
      "Average reward is 1.5681818181818181\n",
      "Epsilon is 0.13798080095682497\n"
     ]
    },
    {
     "name": "stderr",
     "output_type": "stream",
     "text": [
      " 13%|█▎        | 133/1000 [02:28<13:24,  1.08it/s]"
     ]
    },
    {
     "name": "stdout",
     "output_type": "stream",
     "text": [
      "Episode reward for episode 134 is 0.0\n",
      "Average reward is 1.556390977443609\n",
      "Epsilon is 0.13701731408389012\n"
     ]
    },
    {
     "name": "stderr",
     "output_type": "stream",
     "text": [
      " 13%|█▎        | 134/1000 [02:29<13:18,  1.08it/s]"
     ]
    },
    {
     "name": "stdout",
     "output_type": "stream",
     "text": [
      "Episode reward for episode 135 is 1.0\n",
      "Average reward is 1.5522388059701493\n",
      "Epsilon is 0.1356677558115096\n"
     ]
    },
    {
     "name": "stderr",
     "output_type": "stream",
     "text": [
      " 14%|█▎        | 135/1000 [02:30<13:35,  1.06it/s]"
     ]
    },
    {
     "name": "stdout",
     "output_type": "stream",
     "text": [
      "Episode reward for episode 136 is 2.0\n",
      "Average reward is 1.5555555555555556\n",
      "Epsilon is 0.1342194853527423\n"
     ]
    },
    {
     "name": "stderr",
     "output_type": "stream",
     "text": [
      " 14%|█▎        | 136/1000 [02:31<14:55,  1.04s/it]"
     ]
    },
    {
     "name": "stdout",
     "output_type": "stream",
     "text": [
      "Episode reward for episode 137 is 3.0\n",
      "Average reward is 1.5661764705882353\n",
      "Epsilon is 0.13247398016511924\n"
     ]
    },
    {
     "name": "stderr",
     "output_type": "stream",
     "text": [
      " 14%|█▎        | 137/1000 [02:32<15:32,  1.08s/it]"
     ]
    },
    {
     "name": "stdout",
     "output_type": "stream",
     "text": [
      "Episode reward for episode 138 is 2.0\n",
      "Average reward is 1.5693430656934306\n",
      "Epsilon is 0.13084378940477798\n"
     ]
    },
    {
     "name": "stderr",
     "output_type": "stream",
     "text": [
      " 14%|█▍        | 138/1000 [02:33<15:03,  1.05s/it]"
     ]
    },
    {
     "name": "stdout",
     "output_type": "stream",
     "text": [
      "Episode reward for episode 139 is 2.0\n",
      "Average reward is 1.5724637681159421\n",
      "Epsilon is 0.1294778129727041\n"
     ]
    },
    {
     "name": "stderr",
     "output_type": "stream",
     "text": [
      " 14%|█▍        | 139/1000 [02:34<15:05,  1.05s/it]"
     ]
    },
    {
     "name": "stdout",
     "output_type": "stream",
     "text": [
      "Episode reward for episode 140 is 2.0\n",
      "Average reward is 1.5755395683453237\n",
      "Epsilon is 0.12806381232207445\n"
     ]
    },
    {
     "name": "stderr",
     "output_type": "stream",
     "text": [
      " 14%|█▍        | 140/1000 [02:36<17:51,  1.25s/it]"
     ]
    },
    {
     "name": "stdout",
     "output_type": "stream",
     "text": [
      "Episode reward for episode 141 is 5.0\n",
      "Average reward is 1.6\n",
      "Epsilon is 0.12571236916647593\n"
     ]
    },
    {
     "name": "stderr",
     "output_type": "stream",
     "text": [
      " 14%|█▍        | 141/1000 [02:37<18:28,  1.29s/it]"
     ]
    },
    {
     "name": "stdout",
     "output_type": "stream",
     "text": [
      "Episode reward for episode 142 is 3.0\n",
      "Average reward is 1.6099290780141844\n",
      "Epsilon is 0.12409686995278096\n"
     ]
    },
    {
     "name": "stderr",
     "output_type": "stream",
     "text": [
      " 14%|█▍        | 142/1000 [02:38<18:06,  1.27s/it]"
     ]
    },
    {
     "name": "stdout",
     "output_type": "stream",
     "text": [
      "Episode reward for episode 143 is 0.0\n",
      "Average reward is 1.5985915492957747\n",
      "Epsilon is 0.12252656210270334\n"
     ]
    },
    {
     "name": "stderr",
     "output_type": "stream",
     "text": [
      " 14%|█▍        | 143/1000 [02:39<15:39,  1.10s/it]"
     ]
    },
    {
     "name": "stdout",
     "output_type": "stream",
     "text": [
      "Episode reward for episode 144 is 0.0\n",
      "Average reward is 1.5874125874125875\n",
      "Epsilon is 0.12162828656542755\n"
     ]
    },
    {
     "name": "stderr",
     "output_type": "stream",
     "text": [
      " 14%|█▍        | 144/1000 [02:40<14:15,  1.00it/s]"
     ]
    },
    {
     "name": "stdout",
     "output_type": "stream",
     "text": [
      "Episode reward for episode 145 is 1.0\n",
      "Average reward is 1.5833333333333333\n",
      "Epsilon is 0.12061706821831433\n"
     ]
    },
    {
     "name": "stderr",
     "output_type": "stream",
     "text": [
      " 14%|█▍        | 145/1000 [02:41<15:12,  1.07s/it]"
     ]
    },
    {
     "name": "stdout",
     "output_type": "stream",
     "text": [
      "Episode reward for episode 146 is 3.0\n",
      "Average reward is 1.5931034482758621\n",
      "Epsilon is 0.11903981167918112\n"
     ]
    },
    {
     "name": "stderr",
     "output_type": "stream",
     "text": [
      " 15%|█▍        | 146/1000 [02:42<14:27,  1.02s/it]"
     ]
    },
    {
     "name": "stdout",
     "output_type": "stream",
     "text": [
      "Episode reward for episode 147 is 1.0\n",
      "Average reward is 1.5890410958904109\n",
      "Epsilon is 0.11787801001194421\n"
     ]
    },
    {
     "name": "stderr",
     "output_type": "stream",
     "text": [
      " 15%|█▍        | 147/1000 [02:44<16:51,  1.19s/it]"
     ]
    },
    {
     "name": "stdout",
     "output_type": "stream",
     "text": [
      "Episode reward for episode 148 is 4.0\n",
      "Average reward is 1.6054421768707483\n",
      "Epsilon is 0.11607430547838603\n"
     ]
    },
    {
     "name": "stderr",
     "output_type": "stream",
     "text": [
      " 15%|█▍        | 148/1000 [02:45<16:10,  1.14s/it]"
     ]
    },
    {
     "name": "stdout",
     "output_type": "stream",
     "text": [
      "Episode reward for episode 149 is 2.0\n",
      "Average reward is 1.6081081081081081\n",
      "Epsilon is 0.11481445793280538\n"
     ]
    },
    {
     "name": "stderr",
     "output_type": "stream",
     "text": [
      " 15%|█▍        | 149/1000 [02:45<14:09,  1.00it/s]"
     ]
    },
    {
     "name": "stdout",
     "output_type": "stream",
     "text": [
      "Episode reward for episode 150 is 0.0\n",
      "Average reward is 1.5973154362416107\n",
      "Epsilon is 0.11400254980359313\n"
     ]
    },
    {
     "name": "stderr",
     "output_type": "stream",
     "text": [
      " 15%|█▌        | 150/1000 [02:46<13:34,  1.04it/s]"
     ]
    },
    {
     "name": "stdout",
     "output_type": "stream",
     "text": [
      "Episode reward for episode 151 is 1.0\n",
      "Average reward is 1.5933333333333333\n",
      "Epsilon is 0.11295559513607428\n"
     ]
    },
    {
     "name": "stderr",
     "output_type": "stream",
     "text": [
      " 15%|█▌        | 151/1000 [02:47<14:13,  1.01s/it]"
     ]
    },
    {
     "name": "stdout",
     "output_type": "stream",
     "text": [
      "Episode reward for episode 152 is 2.0\n",
      "Average reward is 1.596026490066225\n",
      "Epsilon is 0.11158998278633486\n"
     ]
    },
    {
     "name": "stderr",
     "output_type": "stream",
     "text": [
      " 15%|█▌        | 152/1000 [02:49<17:28,  1.24s/it]"
     ]
    },
    {
     "name": "stdout",
     "output_type": "stream",
     "text": [
      "Episode reward for episode 153 is 5.0\n",
      "Average reward is 1.618421052631579\n",
      "Epsilon is 0.10961492748255791\n"
     ]
    },
    {
     "name": "stderr",
     "output_type": "stream",
     "text": [
      " 15%|█▌        | 153/1000 [02:50<16:53,  1.20s/it]"
     ]
    },
    {
     "name": "stdout",
     "output_type": "stream",
     "text": [
      "Episode reward for episode 154 is 2.0\n",
      "Average reward is 1.6209150326797386\n",
      "Epsilon is 0.10838673549932783\n"
     ]
    },
    {
     "name": "stderr",
     "output_type": "stream",
     "text": [
      " 15%|█▌        | 154/1000 [02:52<20:15,  1.44s/it]"
     ]
    },
    {
     "name": "stdout",
     "output_type": "stream",
     "text": [
      "Episode reward for episode 155 is 3.0\n",
      "Average reward is 1.62987012987013\n",
      "Epsilon is 0.10627345038448494\n"
     ]
    },
    {
     "name": "stderr",
     "output_type": "stream",
     "text": [
      " 16%|█▌        | 155/1000 [02:53<19:06,  1.36s/it]"
     ]
    },
    {
     "name": "stdout",
     "output_type": "stream",
     "text": [
      "Episode reward for episode 156 is 1.0\n",
      "Average reward is 1.6258064516129032\n",
      "Epsilon is 0.10505702445307995\n"
     ]
    },
    {
     "name": "stderr",
     "output_type": "stream",
     "text": [
      " 16%|█▌        | 156/1000 [02:55<19:26,  1.38s/it]"
     ]
    },
    {
     "name": "stdout",
     "output_type": "stream",
     "text": [
      "Episode reward for episode 157 is 3.0\n",
      "Average reward is 1.6346153846153846\n",
      "Epsilon is 0.10367346544593817\n"
     ]
    },
    {
     "name": "stderr",
     "output_type": "stream",
     "text": [
      " 16%|█▌        | 157/1000 [02:56<17:11,  1.22s/it]"
     ]
    },
    {
     "name": "stdout",
     "output_type": "stream",
     "text": [
      "Episode reward for episode 158 is 1.0\n",
      "Average reward is 1.6305732484076434\n",
      "Epsilon is 0.10279121092201575\n"
     ]
    },
    {
     "name": "stderr",
     "output_type": "stream",
     "text": [
      " 16%|█▌        | 158/1000 [02:57<20:00,  1.43s/it]"
     ]
    },
    {
     "name": "stdout",
     "output_type": "stream",
     "text": [
      "Episode reward for episode 159 is 4.0\n",
      "Average reward is 1.6455696202531647\n",
      "Epsilon is 0.10089256428942935\n"
     ]
    },
    {
     "name": "stderr",
     "output_type": "stream",
     "text": [
      " 16%|█▌        | 159/1000 [02:58<16:53,  1.21s/it]"
     ]
    },
    {
     "name": "stdout",
     "output_type": "stream",
     "text": [
      "Episode reward for episode 160 is 0.0\n",
      "Average reward is 1.6352201257861636\n",
      "Epsilon is 0.1001677975533059\n"
     ]
    },
    {
     "name": "stderr",
     "output_type": "stream",
     "text": [
      " 16%|█▌        | 160/1000 [02:59<16:35,  1.19s/it]"
     ]
    },
    {
     "name": "stdout",
     "output_type": "stream",
     "text": [
      "Episode reward for episode 161 is 3.0\n",
      "Average reward is 1.64375\n",
      "Epsilon is 0.099021653312377\n"
     ]
    },
    {
     "name": "stderr",
     "output_type": "stream",
     "text": [
      " 16%|█▌        | 161/1000 [03:00<15:17,  1.09s/it]"
     ]
    },
    {
     "name": "stdout",
     "output_type": "stream",
     "text": [
      "Episode reward for episode 162 is 1.0\n",
      "Average reward is 1.639751552795031\n",
      "Epsilon is 0.09820408683260902\n"
     ]
    },
    {
     "name": "stderr",
     "output_type": "stream",
     "text": [
      " 16%|█▌        | 162/1000 [03:02<16:46,  1.20s/it]"
     ]
    },
    {
     "name": "stdout",
     "output_type": "stream",
     "text": [
      "Episode reward for episode 163 is 2.0\n",
      "Average reward is 1.6419753086419753\n",
      "Epsilon is 0.09679364639289956\n"
     ]
    },
    {
     "name": "stderr",
     "output_type": "stream",
     "text": [
      " 16%|█▋        | 163/1000 [03:03<17:32,  1.26s/it]"
     ]
    },
    {
     "name": "stdout",
     "output_type": "stream",
     "text": [
      "Episode reward for episode 164 is 4.0\n",
      "Average reward is 1.656441717791411\n",
      "Epsilon is 0.09546899483500694\n"
     ]
    },
    {
     "name": "stderr",
     "output_type": "stream",
     "text": [
      " 16%|█▋        | 164/1000 [03:05<18:33,  1.33s/it]"
     ]
    },
    {
     "name": "stdout",
     "output_type": "stream",
     "text": [
      "Episode reward for episode 165 is 4.0\n",
      "Average reward is 1.670731707317073\n",
      "Epsilon is 0.09404862022131771\n"
     ]
    },
    {
     "name": "stderr",
     "output_type": "stream",
     "text": [
      " 16%|█▋        | 165/1000 [03:05<16:59,  1.22s/it]"
     ]
    },
    {
     "name": "stdout",
     "output_type": "stream",
     "text": [
      "Episode reward for episode 166 is 1.0\n",
      "Average reward is 1.6666666666666667\n",
      "Epsilon is 0.09326785023847675\n"
     ]
    },
    {
     "name": "stderr",
     "output_type": "stream",
     "text": [
      " 17%|█▋        | 166/1000 [03:07<16:44,  1.20s/it]"
     ]
    },
    {
     "name": "stdout",
     "output_type": "stream",
     "text": [
      "Episode reward for episode 167 is 3.0\n",
      "Average reward is 1.6746987951807228\n",
      "Epsilon is 0.0922203532738728\n"
     ]
    },
    {
     "name": "stderr",
     "output_type": "stream",
     "text": [
      " 17%|█▋        | 167/1000 [03:08<16:35,  1.19s/it]"
     ]
    },
    {
     "name": "stdout",
     "output_type": "stream",
     "text": [
      "Episode reward for episode 168 is 0.0\n",
      "Average reward is 1.6646706586826348\n",
      "Epsilon is 0.09118783218050411\n"
     ]
    },
    {
     "name": "stderr",
     "output_type": "stream",
     "text": [
      " 17%|█▋        | 168/1000 [03:08<14:20,  1.03s/it]"
     ]
    },
    {
     "name": "stdout",
     "output_type": "stream",
     "text": [
      "Episode reward for episode 169 is 0.0\n",
      "Average reward is 1.6547619047619047\n",
      "Epsilon is 0.09059235887943128\n"
     ]
    },
    {
     "name": "stderr",
     "output_type": "stream",
     "text": [
      " 17%|█▋        | 169/1000 [03:10<15:05,  1.09s/it]"
     ]
    },
    {
     "name": "stdout",
     "output_type": "stream",
     "text": [
      "Episode reward for episode 170 is 2.0\n",
      "Average reward is 1.6568047337278107\n",
      "Epsilon is 0.0894996632664704\n"
     ]
    },
    {
     "name": "stderr",
     "output_type": "stream",
     "text": [
      " 17%|█▋        | 170/1000 [03:11<15:39,  1.13s/it]"
     ]
    },
    {
     "name": "stdout",
     "output_type": "stream",
     "text": [
      "Episode reward for episode 171 is 1.0\n",
      "Average reward is 1.6529411764705881\n",
      "Epsilon is 0.08850603937719746\n"
     ]
    },
    {
     "name": "stderr",
     "output_type": "stream",
     "text": [
      " 17%|█▋        | 171/1000 [03:13<21:13,  1.54s/it]"
     ]
    },
    {
     "name": "stdout",
     "output_type": "stream",
     "text": [
      "Episode reward for episode 172 is 5.0\n",
      "Average reward is 1.672514619883041\n",
      "Epsilon is 0.08642821609912137\n"
     ]
    },
    {
     "name": "stderr",
     "output_type": "stream",
     "text": [
      " 17%|█▋        | 172/1000 [03:15<20:00,  1.45s/it]"
     ]
    },
    {
     "name": "stdout",
     "output_type": "stream",
     "text": [
      "Episode reward for episode 173 is 1.0\n",
      "Average reward is 1.6686046511627908\n",
      "Epsilon is 0.08541305834869489\n"
     ]
    },
    {
     "name": "stderr",
     "output_type": "stream",
     "text": [
      " 17%|█▋        | 173/1000 [03:15<17:08,  1.24s/it]"
     ]
    },
    {
     "name": "stdout",
     "output_type": "stream",
     "text": [
      "Episode reward for episode 174 is 0.0\n",
      "Average reward is 1.6589595375722543\n",
      "Epsilon is 0.08478809759983315\n"
     ]
    },
    {
     "name": "stderr",
     "output_type": "stream",
     "text": [
      " 17%|█▋        | 174/1000 [03:17<17:29,  1.27s/it]"
     ]
    },
    {
     "name": "stdout",
     "output_type": "stream",
     "text": [
      "Episode reward for episode 175 is 1.0\n",
      "Average reward is 1.6551724137931034\n",
      "Epsilon is 0.08378524585860812\n"
     ]
    },
    {
     "name": "stderr",
     "output_type": "stream",
     "text": [
      " 18%|█▊        | 175/1000 [03:19<19:52,  1.45s/it]"
     ]
    },
    {
     "name": "stdout",
     "output_type": "stream",
     "text": [
      "Episode reward for episode 176 is 2.0\n",
      "Average reward is 1.6571428571428573\n",
      "Epsilon is 0.08235986675445008\n"
     ]
    },
    {
     "name": "stderr",
     "output_type": "stream",
     "text": [
      " 18%|█▊        | 176/1000 [03:21<25:41,  1.87s/it]"
     ]
    },
    {
     "name": "stdout",
     "output_type": "stream",
     "text": [
      "Episode reward for episode 177 is 2.0\n",
      "Average reward is 1.6590909090909092\n",
      "Epsilon is 0.08016687233879169\n"
     ]
    },
    {
     "name": "stderr",
     "output_type": "stream",
     "text": [
      " 18%|█▊        | 177/1000 [03:24<28:47,  2.10s/it]"
     ]
    },
    {
     "name": "stdout",
     "output_type": "stream",
     "text": [
      "Episode reward for episode 178 is 2.0\n",
      "Average reward is 1.6610169491525424\n",
      "Epsilon is 0.07830698558142873\n"
     ]
    },
    {
     "name": "stderr",
     "output_type": "stream",
     "text": [
      " 18%|█▊        | 178/1000 [03:25<24:37,  1.80s/it]"
     ]
    },
    {
     "name": "stdout",
     "output_type": "stream",
     "text": [
      "Episode reward for episode 179 is 1.0\n",
      "Average reward is 1.6573033707865168\n",
      "Epsilon is 0.07751937844565845\n"
     ]
    },
    {
     "name": "stderr",
     "output_type": "stream",
     "text": [
      " 18%|█▊        | 179/1000 [03:26<22:23,  1.64s/it]"
     ]
    },
    {
     "name": "stdout",
     "output_type": "stream",
     "text": [
      "Episode reward for episode 180 is 3.0\n",
      "Average reward is 1.664804469273743\n",
      "Epsilon is 0.07659507161467173\n"
     ]
    },
    {
     "name": "stderr",
     "output_type": "stream",
     "text": [
      " 18%|█▊        | 180/1000 [03:28<23:33,  1.72s/it]"
     ]
    },
    {
     "name": "stdout",
     "output_type": "stream",
     "text": [
      "Episode reward for episode 181 is 1.0\n",
      "Average reward is 1.6611111111111112\n",
      "Epsilon is 0.07530824025548061\n"
     ]
    },
    {
     "name": "stderr",
     "output_type": "stream",
     "text": [
      " 18%|█▊        | 181/1000 [03:30<24:12,  1.77s/it]"
     ]
    },
    {
     "name": "stdout",
     "output_type": "stream",
     "text": [
      "Episode reward for episode 182 is 3.0\n",
      "Average reward is 1.6685082872928176\n",
      "Epsilon is 0.07403985919249237\n"
     ]
    },
    {
     "name": "stderr",
     "output_type": "stream",
     "text": [
      " 18%|█▊        | 182/1000 [03:31<20:13,  1.48s/it]"
     ]
    },
    {
     "name": "stdout",
     "output_type": "stream",
     "text": [
      "Episode reward for episode 183 is 0.0\n",
      "Average reward is 1.6593406593406594\n",
      "Epsilon is 0.07348075702751343\n"
     ]
    },
    {
     "name": "stderr",
     "output_type": "stream",
     "text": [
      " 18%|█▊        | 183/1000 [03:33<20:38,  1.52s/it]"
     ]
    },
    {
     "name": "stdout",
     "output_type": "stream",
     "text": [
      "Episode reward for episode 184 is 1.0\n",
      "Average reward is 1.6557377049180328\n",
      "Epsilon is 0.0724217670858096\n"
     ]
    },
    {
     "name": "stderr",
     "output_type": "stream",
     "text": [
      " 18%|█▊        | 184/1000 [03:35<23:05,  1.70s/it]"
     ]
    },
    {
     "name": "stdout",
     "output_type": "stream",
     "text": [
      "Episode reward for episode 185 is 1.0\n",
      "Average reward is 1.6521739130434783\n",
      "Epsilon is 0.0711581547310429\n"
     ]
    },
    {
     "name": "stderr",
     "output_type": "stream",
     "text": [
      " 18%|█▊        | 185/1000 [03:36<20:56,  1.54s/it]"
     ]
    },
    {
     "name": "stdout",
     "output_type": "stream",
     "text": [
      "Episode reward for episode 186 is 2.0\n",
      "Average reward is 1.654054054054054\n",
      "Epsilon is 0.07045702114445665\n"
     ]
    },
    {
     "name": "stderr",
     "output_type": "stream",
     "text": [
      " 19%|█▊        | 186/1000 [03:38<21:32,  1.59s/it]"
     ]
    },
    {
     "name": "stdout",
     "output_type": "stream",
     "text": [
      "Episode reward for episode 187 is 2.0\n",
      "Average reward is 1.6559139784946237\n",
      "Epsilon is 0.0693788358088805\n"
     ]
    },
    {
     "name": "stderr",
     "output_type": "stream",
     "text": [
      " 19%|█▊        | 187/1000 [03:39<21:32,  1.59s/it]"
     ]
    },
    {
     "name": "stdout",
     "output_type": "stream",
     "text": [
      "Episode reward for episode 188 is 0.0\n",
      "Average reward is 1.6470588235294117\n",
      "Epsilon is 0.06842043364963836\n"
     ]
    },
    {
     "name": "stderr",
     "output_type": "stream",
     "text": [
      " 19%|█▉        | 188/1000 [03:41<20:22,  1.51s/it]"
     ]
    },
    {
     "name": "stdout",
     "output_type": "stream",
     "text": [
      "Episode reward for episode 189 is 2.0\n",
      "Average reward is 1.648936170212766\n",
      "Epsilon is 0.06764234218218655\n"
     ]
    },
    {
     "name": "stderr",
     "output_type": "stream",
     "text": [
      " 19%|█▉        | 189/1000 [03:42<19:54,  1.47s/it]"
     ]
    },
    {
     "name": "stdout",
     "output_type": "stream",
     "text": [
      "Episode reward for episode 190 is 2.0\n",
      "Average reward is 1.6507936507936507\n",
      "Epsilon is 0.06682990092078744\n"
     ]
    },
    {
     "name": "stderr",
     "output_type": "stream",
     "text": [
      " 19%|█▉        | 190/1000 [03:44<20:45,  1.54s/it]"
     ]
    },
    {
     "name": "stdout",
     "output_type": "stream",
     "text": [
      "Episode reward for episode 191 is 2.0\n",
      "Average reward is 1.6526315789473685\n",
      "Epsilon is 0.06588424938266015\n"
     ]
    },
    {
     "name": "stderr",
     "output_type": "stream",
     "text": [
      " 19%|█▉        | 191/1000 [03:46<25:09,  1.87s/it]"
     ]
    },
    {
     "name": "stdout",
     "output_type": "stream",
     "text": [
      "Episode reward for episode 192 is 5.0\n",
      "Average reward is 1.6701570680628273\n",
      "Epsilon is 0.06446586906004985\n"
     ]
    },
    {
     "name": "stderr",
     "output_type": "stream",
     "text": [
      " 19%|█▉        | 192/1000 [03:47<21:41,  1.61s/it]"
     ]
    },
    {
     "name": "stdout",
     "output_type": "stream",
     "text": [
      "Episode reward for episode 193 is 1.0\n",
      "Average reward is 1.6666666666666667\n",
      "Epsilon is 0.06394425537830692\n"
     ]
    },
    {
     "name": "stderr",
     "output_type": "stream",
     "text": [
      " 19%|█▉        | 193/1000 [03:48<19:22,  1.44s/it]"
     ]
    },
    {
     "name": "stdout",
     "output_type": "stream",
     "text": [
      "Episode reward for episode 194 is 1.0\n",
      "Average reward is 1.6632124352331605\n",
      "Epsilon is 0.0633940314507273\n"
     ]
    },
    {
     "name": "stderr",
     "output_type": "stream",
     "text": [
      " 19%|█▉        | 194/1000 [03:50<19:46,  1.47s/it]"
     ]
    },
    {
     "name": "stdout",
     "output_type": "stream",
     "text": [
      "Episode reward for episode 195 is 3.0\n",
      "Average reward is 1.6701030927835052\n",
      "Epsilon is 0.06256881348983788\n"
     ]
    },
    {
     "name": "stderr",
     "output_type": "stream",
     "text": [
      " 20%|█▉        | 195/1000 [03:51<20:03,  1.49s/it]"
     ]
    },
    {
     "name": "stdout",
     "output_type": "stream",
     "text": [
      "Episode reward for episode 196 is 3.0\n",
      "Average reward is 1.676923076923077\n",
      "Epsilon is 0.06180942980344713\n"
     ]
    },
    {
     "name": "stderr",
     "output_type": "stream",
     "text": [
      " 20%|█▉        | 196/1000 [03:53<21:57,  1.64s/it]"
     ]
    },
    {
     "name": "stdout",
     "output_type": "stream",
     "text": [
      "Episode reward for episode 197 is 2.0\n",
      "Average reward is 1.6785714285714286\n",
      "Epsilon is 0.06082611325641531\n"
     ]
    },
    {
     "name": "stderr",
     "output_type": "stream",
     "text": [
      " 20%|█▉        | 197/1000 [03:59<38:41,  2.89s/it]"
     ]
    },
    {
     "name": "stdout",
     "output_type": "stream",
     "text": [
      "Episode reward for episode 198 is 4.0\n",
      "Average reward is 1.6903553299492386\n",
      "Epsilon is 0.0580584032491933\n"
     ]
    },
    {
     "name": "stderr",
     "output_type": "stream",
     "text": [
      " 20%|█▉        | 198/1000 [04:00<32:01,  2.40s/it]"
     ]
    },
    {
     "name": "stdout",
     "output_type": "stream",
     "text": [
      "Episode reward for episode 199 is 1.0\n",
      "Average reward is 1.6868686868686869\n",
      "Epsilon is 0.05747679372697423\n"
     ]
    },
    {
     "name": "stderr",
     "output_type": "stream",
     "text": [
      " 20%|█▉        | 199/1000 [04:02<28:39,  2.15s/it]"
     ]
    },
    {
     "name": "stdout",
     "output_type": "stream",
     "text": [
      "Episode reward for episode 200 is 4.0\n",
      "Average reward is 1.6984924623115578\n",
      "Epsilon is 0.05675675092663493\n"
     ]
    },
    {
     "name": "stderr",
     "output_type": "stream",
     "text": [
      " 20%|██        | 200/1000 [04:03<25:31,  1.91s/it]"
     ]
    },
    {
     "name": "stdout",
     "output_type": "stream",
     "text": [
      "Episode reward for episode 201 is 3.0\n",
      "Average reward is 1.705\n",
      "Epsilon is 0.056158856347735514\n"
     ]
    },
    {
     "name": "stderr",
     "output_type": "stream",
     "text": [
      " 20%|██        | 201/1000 [04:05<23:29,  1.76s/it]"
     ]
    },
    {
     "name": "stdout",
     "output_type": "stream",
     "text": [
      "Episode reward for episode 202 is 3.0\n",
      "Average reward is 1.7114427860696517\n",
      "Epsilon is 0.055556461843183885\n"
     ]
    },
    {
     "name": "stderr",
     "output_type": "stream",
     "text": [
      " 20%|██        | 202/1000 [04:06<19:58,  1.50s/it]"
     ]
    },
    {
     "name": "stdout",
     "output_type": "stream",
     "text": [
      "Episode reward for episode 203 is 1.0\n",
      "Average reward is 1.7079207920792079\n",
      "Epsilon is 0.055174518263094385\n"
     ]
    },
    {
     "name": "stderr",
     "output_type": "stream",
     "text": [
      " 20%|██        | 203/1000 [04:08<21:44,  1.64s/it]"
     ]
    },
    {
     "name": "stdout",
     "output_type": "stream",
     "text": [
      "Episode reward for episode 204 is 2.0\n",
      "Average reward is 1.70935960591133\n",
      "Epsilon is 0.0543472482906366\n"
     ]
    },
    {
     "name": "stderr",
     "output_type": "stream",
     "text": [
      " 20%|██        | 204/1000 [04:09<20:21,  1.54s/it]"
     ]
    },
    {
     "name": "stdout",
     "output_type": "stream",
     "text": [
      "Episode reward for episode 205 is 2.0\n",
      "Average reward is 1.7107843137254901\n",
      "Epsilon is 0.05385619200592462\n"
     ]
    },
    {
     "name": "stderr",
     "output_type": "stream",
     "text": [
      " 20%|██        | 205/1000 [04:11<21:31,  1.63s/it]"
     ]
    },
    {
     "name": "stdout",
     "output_type": "stream",
     "text": [
      "Episode reward for episode 206 is 4.0\n",
      "Average reward is 1.721951219512195\n",
      "Epsilon is 0.05310624407933018\n"
     ]
    },
    {
     "name": "stderr",
     "output_type": "stream",
     "text": [
      " 21%|██        | 206/1000 [04:12<20:49,  1.57s/it]"
     ]
    },
    {
     "name": "stdout",
     "output_type": "stream",
     "text": [
      "Episode reward for episode 207 is 3.0\n",
      "Average reward is 1.7281553398058251\n",
      "Epsilon is 0.05252867172920568\n"
     ]
    },
    {
     "name": "stderr",
     "output_type": "stream",
     "text": [
      " 21%|██        | 207/1000 [04:13<18:53,  1.43s/it]"
     ]
    },
    {
     "name": "stdout",
     "output_type": "stream",
     "text": [
      "Episode reward for episode 208 is 2.0\n",
      "Average reward is 1.7294685990338163\n",
      "Epsilon is 0.05211495814655484\n"
     ]
    },
    {
     "name": "stderr",
     "output_type": "stream",
     "text": [
      " 21%|██        | 208/1000 [04:15<19:35,  1.48s/it]"
     ]
    },
    {
     "name": "stdout",
     "output_type": "stream",
     "text": [
      "Episode reward for episode 209 is 3.0\n",
      "Average reward is 1.7355769230769231\n",
      "Epsilon is 0.051504232676029216\n"
     ]
    },
    {
     "name": "stderr",
     "output_type": "stream",
     "text": [
      " 21%|██        | 209/1000 [04:16<18:06,  1.37s/it]"
     ]
    },
    {
     "name": "stdout",
     "output_type": "stream",
     "text": [
      "Episode reward for episode 210 is 1.0\n",
      "Average reward is 1.7320574162679425\n",
      "Epsilon is 0.05107867545993963\n"
     ]
    },
    {
     "name": "stderr",
     "output_type": "stream",
     "text": [
      " 21%|██        | 210/1000 [04:17<17:51,  1.36s/it]"
     ]
    },
    {
     "name": "stdout",
     "output_type": "stream",
     "text": [
      "Episode reward for episode 211 is 3.0\n",
      "Average reward is 1.7380952380952381\n",
      "Epsilon is 0.05059149127772486\n"
     ]
    },
    {
     "name": "stderr",
     "output_type": "stream",
     "text": [
      " 21%|██        | 211/1000 [04:19<19:43,  1.50s/it]"
     ]
    },
    {
     "name": "stdout",
     "output_type": "stream",
     "text": [
      "Episode reward for episode 212 is 4.0\n",
      "Average reward is 1.7488151658767772\n",
      "Epsilon is 0.0499258276180886\n"
     ]
    },
    {
     "name": "stderr",
     "output_type": "stream",
     "text": [
      " 21%|██        | 212/1000 [04:20<18:13,  1.39s/it]"
     ]
    },
    {
     "name": "stdout",
     "output_type": "stream",
     "text": [
      "Episode reward for episode 213 is 1.0\n",
      "Average reward is 1.7452830188679245\n",
      "Epsilon is 0.049539309669167225\n"
     ]
    },
    {
     "name": "stderr",
     "output_type": "stream",
     "text": [
      " 21%|██▏       | 213/1000 [04:21<16:17,  1.24s/it]"
     ]
    },
    {
     "name": "stdout",
     "output_type": "stream",
     "text": [
      "Episode reward for episode 214 is 1.0\n",
      "Average reward is 1.7417840375586855\n",
      "Epsilon is 0.04923954013416758\n"
     ]
    },
    {
     "name": "stderr",
     "output_type": "stream",
     "text": [
      " 21%|██▏       | 214/1000 [04:22<15:01,  1.15s/it]"
     ]
    },
    {
     "name": "stdout",
     "output_type": "stream",
     "text": [
      "Episode reward for episode 215 is 0.0\n",
      "Average reward is 1.733644859813084\n",
      "Epsilon is 0.048902321120232795\n"
     ]
    },
    {
     "name": "stderr",
     "output_type": "stream",
     "text": [
      " 22%|██▏       | 215/1000 [04:23<14:19,  1.10s/it]"
     ]
    },
    {
     "name": "stdout",
     "output_type": "stream",
     "text": [
      "Episode reward for episode 216 is 1.0\n",
      "Average reward is 1.7302325581395348\n",
      "Epsilon is 0.048563278019330344\n"
     ]
    },
    {
     "name": "stderr",
     "output_type": "stream",
     "text": [
      " 22%|██▏       | 216/1000 [04:25<16:03,  1.23s/it]"
     ]
    },
    {
     "name": "stdout",
     "output_type": "stream",
     "text": [
      "Episode reward for episode 217 is 3.0\n",
      "Average reward is 1.7361111111111112\n",
      "Epsilon is 0.04804251937555173\n"
     ]
    },
    {
     "name": "stderr",
     "output_type": "stream",
     "text": [
      " 22%|██▏       | 217/1000 [04:26<16:27,  1.26s/it]"
     ]
    },
    {
     "name": "stdout",
     "output_type": "stream",
     "text": [
      "Episode reward for episode 218 is 1.0\n",
      "Average reward is 1.7327188940092166\n",
      "Epsilon is 0.04764160063929665\n"
     ]
    },
    {
     "name": "stderr",
     "output_type": "stream",
     "text": [
      " 22%|██▏       | 218/1000 [04:27<16:03,  1.23s/it]"
     ]
    },
    {
     "name": "stdout",
     "output_type": "stream",
     "text": [
      "Episode reward for episode 219 is 1.0\n",
      "Average reward is 1.7293577981651376\n",
      "Epsilon is 0.04725186359211314\n"
     ]
    },
    {
     "name": "stderr",
     "output_type": "stream",
     "text": [
      " 22%|██▏       | 219/1000 [04:29<16:37,  1.28s/it]"
     ]
    },
    {
     "name": "stdout",
     "output_type": "stream",
     "text": [
      "Episode reward for episode 220 is 2.0\n",
      "Average reward is 1.730593607305936\n",
      "Epsilon is 0.046787139621415265\n"
     ]
    },
    {
     "name": "stderr",
     "output_type": "stream",
     "text": [
      " 22%|██▏       | 220/1000 [04:31<21:43,  1.67s/it]"
     ]
    },
    {
     "name": "stdout",
     "output_type": "stream",
     "text": [
      "Episode reward for episode 221 is 2.0\n",
      "Average reward is 1.731818181818182\n",
      "Epsilon is 0.0459642841593869\n"
     ]
    },
    {
     "name": "stderr",
     "output_type": "stream",
     "text": [
      " 22%|██▏       | 221/1000 [04:33<23:18,  1.79s/it]"
     ]
    },
    {
     "name": "stdout",
     "output_type": "stream",
     "text": [
      "Episode reward for episode 222 is 6.0\n",
      "Average reward is 1.751131221719457\n",
      "Epsilon is 0.04533842219268193\n"
     ]
    },
    {
     "name": "stderr",
     "output_type": "stream",
     "text": [
      " 22%|██▏       | 222/1000 [04:36<25:48,  1.99s/it]"
     ]
    },
    {
     "name": "stdout",
     "output_type": "stream",
     "text": [
      "Episode reward for episode 223 is 5.0\n",
      "Average reward is 1.7657657657657657\n",
      "Epsilon is 0.04461908382599358\n"
     ]
    },
    {
     "name": "stderr",
     "output_type": "stream",
     "text": [
      " 22%|██▏       | 223/1000 [04:38<25:21,  1.96s/it]"
     ]
    },
    {
     "name": "stdout",
     "output_type": "stream",
     "text": [
      "Episode reward for episode 224 is 4.0\n",
      "Average reward is 1.7757847533632287\n",
      "Epsilon is 0.044093013626952074\n"
     ]
    },
    {
     "name": "stderr",
     "output_type": "stream",
     "text": [
      " 22%|██▏       | 224/1000 [04:39<22:42,  1.76s/it]"
     ]
    },
    {
     "name": "stdout",
     "output_type": "stream",
     "text": [
      "Episode reward for episode 225 is 3.0\n",
      "Average reward is 1.78125\n",
      "Epsilon is 0.04372482355726789\n"
     ]
    },
    {
     "name": "stderr",
     "output_type": "stream",
     "text": [
      " 22%|██▎       | 225/1000 [04:41<23:57,  1.86s/it]"
     ]
    },
    {
     "name": "stdout",
     "output_type": "stream",
     "text": [
      "Episode reward for episode 226 is 4.0\n",
      "Average reward is 1.791111111111111\n",
      "Epsilon is 0.0431298018051737\n"
     ]
    },
    {
     "name": "stderr",
     "output_type": "stream",
     "text": [
      " 23%|██▎       | 226/1000 [04:43<24:05,  1.87s/it]"
     ]
    },
    {
     "name": "stdout",
     "output_type": "stream",
     "text": [
      "Episode reward for episode 227 is 4.0\n",
      "Average reward is 1.8008849557522124\n",
      "Epsilon is 0.04260840879092783\n"
     ]
    },
    {
     "name": "stderr",
     "output_type": "stream",
     "text": [
      " 23%|██▎       | 227/1000 [04:45<23:34,  1.83s/it]"
     ]
    },
    {
     "name": "stdout",
     "output_type": "stream",
     "text": [
      "Episode reward for episode 228 is 4.0\n",
      "Average reward is 1.8105726872246697\n",
      "Epsilon is 0.04213858264681543\n"
     ]
    },
    {
     "name": "stderr",
     "output_type": "stream",
     "text": [
      " 23%|██▎       | 228/1000 [04:46<21:53,  1.70s/it]"
     ]
    },
    {
     "name": "stdout",
     "output_type": "stream",
     "text": [
      "Episode reward for episode 229 is 2.0\n",
      "Average reward is 1.8114035087719298\n",
      "Epsilon is 0.04176105506972052\n"
     ]
    },
    {
     "name": "stderr",
     "output_type": "stream",
     "text": [
      " 23%|██▎       | 229/1000 [04:48<24:15,  1.89s/it]"
     ]
    },
    {
     "name": "stdout",
     "output_type": "stream",
     "text": [
      "Episode reward for episode 230 is 5.0\n",
      "Average reward is 1.8253275109170306\n",
      "Epsilon is 0.04117289672679431\n"
     ]
    },
    {
     "name": "stderr",
     "output_type": "stream",
     "text": [
      " 23%|██▎       | 230/1000 [04:50<23:43,  1.85s/it]"
     ]
    },
    {
     "name": "stdout",
     "output_type": "stream",
     "text": [
      "Episode reward for episode 231 is 4.0\n",
      "Average reward is 1.8347826086956522\n",
      "Epsilon is 0.04075779642582164\n"
     ]
    },
    {
     "name": "stderr",
     "output_type": "stream",
     "text": [
      " 23%|██▎       | 231/1000 [04:51<20:54,  1.63s/it]"
     ]
    },
    {
     "name": "stdout",
     "output_type": "stream",
     "text": [
      "Episode reward for episode 232 is 1.0\n",
      "Average reward is 1.8311688311688312\n",
      "Epsilon is 0.04048559400136989\n"
     ]
    },
    {
     "name": "stderr",
     "output_type": "stream",
     "text": [
      " 23%|██▎       | 232/1000 [04:54<27:03,  2.11s/it]"
     ]
    },
    {
     "name": "stdout",
     "output_type": "stream",
     "text": [
      "Episode reward for episode 233 is 4.0\n",
      "Average reward is 1.8405172413793103\n",
      "Epsilon is 0.03973358304545455\n"
     ]
    },
    {
     "name": "stderr",
     "output_type": "stream",
     "text": [
      " 23%|██▎       | 233/1000 [04:56<25:07,  1.97s/it]"
     ]
    },
    {
     "name": "stdout",
     "output_type": "stream",
     "text": [
      "Episode reward for episode 234 is 3.0\n",
      "Average reward is 1.8454935622317596\n",
      "Epsilon is 0.03936993085025678\n"
     ]
    },
    {
     "name": "stderr",
     "output_type": "stream",
     "text": [
      " 23%|██▎       | 234/1000 [04:58<24:03,  1.88s/it]"
     ]
    },
    {
     "name": "stdout",
     "output_type": "stream",
     "text": [
      "Episode reward for episode 235 is 4.0\n",
      "Average reward is 1.8547008547008548\n",
      "Epsilon is 0.03899397659278685\n"
     ]
    },
    {
     "name": "stderr",
     "output_type": "stream",
     "text": [
      " 24%|██▎       | 235/1000 [05:01<28:22,  2.23s/it]"
     ]
    },
    {
     "name": "stdout",
     "output_type": "stream",
     "text": [
      "Episode reward for episode 236 is 5.0\n",
      "Average reward is 1.8680851063829786\n",
      "Epsilon is 0.0383296855629233\n"
     ]
    },
    {
     "name": "stderr",
     "output_type": "stream",
     "text": [
      " 24%|██▎       | 236/1000 [05:03<29:56,  2.35s/it]"
     ]
    },
    {
     "name": "stdout",
     "output_type": "stream",
     "text": [
      "Episode reward for episode 237 is 7.0\n",
      "Average reward is 1.8898305084745763\n",
      "Epsilon is 0.037763075763877316\n"
     ]
    },
    {
     "name": "stderr",
     "output_type": "stream",
     "text": [
      " 24%|██▎       | 237/1000 [05:05<25:23,  2.00s/it]"
     ]
    },
    {
     "name": "stdout",
     "output_type": "stream",
     "text": [
      "Episode reward for episode 238 is 1.0\n",
      "Average reward is 1.8860759493670887\n",
      "Epsilon is 0.03752313324094721\n"
     ]
    },
    {
     "name": "stderr",
     "output_type": "stream",
     "text": [
      " 24%|██▍       | 238/1000 [05:07<25:06,  1.98s/it]"
     ]
    },
    {
     "name": "stdout",
     "output_type": "stream",
     "text": [
      "Episode reward for episode 239 is 5.0\n",
      "Average reward is 1.8991596638655461\n",
      "Epsilon is 0.03714183398045785\n"
     ]
    },
    {
     "name": "stderr",
     "output_type": "stream",
     "text": [
      " 24%|██▍       | 239/1000 [05:09<28:54,  2.28s/it]"
     ]
    },
    {
     "name": "stdout",
     "output_type": "stream",
     "text": [
      "Episode reward for episode 240 is 8.0\n",
      "Average reward is 1.9246861924686192\n",
      "Epsilon is 0.03654562816102694\n"
     ]
    },
    {
     "name": "stderr",
     "output_type": "stream",
     "text": [
      " 24%|██▍       | 240/1000 [05:13<33:45,  2.67s/it]"
     ]
    },
    {
     "name": "stdout",
     "output_type": "stream",
     "text": [
      "Episode reward for episode 241 is 5.0\n",
      "Average reward is 1.9375\n",
      "Epsilon is 0.035884152395055435\n"
     ]
    },
    {
     "name": "stderr",
     "output_type": "stream",
     "text": [
      " 24%|██▍       | 241/1000 [05:15<32:42,  2.59s/it]"
     ]
    },
    {
     "name": "stdout",
     "output_type": "stream",
     "text": [
      "Episode reward for episode 242 is 7.0\n",
      "Average reward is 1.95850622406639\n",
      "Epsilon is 0.03546101829581293\n"
     ]
    },
    {
     "name": "stderr",
     "output_type": "stream",
     "text": [
      " 24%|██▍       | 242/1000 [05:17<28:24,  2.25s/it]"
     ]
    },
    {
     "name": "stdout",
     "output_type": "stream",
     "text": [
      "Episode reward for episode 243 is 2.0\n",
      "Average reward is 1.9586776859504131\n",
      "Epsilon is 0.03519736271904195\n"
     ]
    },
    {
     "name": "stderr",
     "output_type": "stream",
     "text": [
      " 24%|██▍       | 243/1000 [05:20<30:26,  2.41s/it]"
     ]
    },
    {
     "name": "stdout",
     "output_type": "stream",
     "text": [
      "Episode reward for episode 244 is 7.0\n",
      "Average reward is 1.9794238683127572\n",
      "Epsilon is 0.03475116270994927\n"
     ]
    },
    {
     "name": "stderr",
     "output_type": "stream",
     "text": [
      " 24%|██▍       | 244/1000 [05:26<44:43,  3.55s/it]"
     ]
    },
    {
     "name": "stdout",
     "output_type": "stream",
     "text": [
      "Episode reward for episode 245 is 7.0\n",
      "Average reward is 2.0\n",
      "Epsilon is 0.033718179273415694\n"
     ]
    },
    {
     "name": "stderr",
     "output_type": "stream",
     "text": [
      " 24%|██▍       | 245/1000 [05:28<39:58,  3.18s/it]"
     ]
    },
    {
     "name": "stdout",
     "output_type": "stream",
     "text": [
      "Episode reward for episode 246 is 6.0\n",
      "Average reward is 2.016326530612245\n",
      "Epsilon is 0.03334206608555698\n"
     ]
    },
    {
     "name": "stderr",
     "output_type": "stream",
     "text": [
      " 25%|██▍       | 246/1000 [05:32<40:18,  3.21s/it]"
     ]
    },
    {
     "name": "stdout",
     "output_type": "stream",
     "text": [
      "Episode reward for episode 247 is 5.0\n",
      "Average reward is 2.0284552845528454\n",
      "Epsilon is 0.03283174151926212\n"
     ]
    },
    {
     "name": "stderr",
     "output_type": "stream",
     "text": [
      " 25%|██▍       | 247/1000 [05:34<38:16,  3.05s/it]"
     ]
    },
    {
     "name": "stdout",
     "output_type": "stream",
     "text": [
      "Episode reward for episode 248 is 6.0\n",
      "Average reward is 2.0445344129554655\n",
      "Epsilon is 0.032442548223760456\n"
     ]
    },
    {
     "name": "stderr",
     "output_type": "stream",
     "text": [
      " 25%|██▍       | 248/1000 [05:37<38:54,  3.10s/it]"
     ]
    },
    {
     "name": "stdout",
     "output_type": "stream",
     "text": [
      "Episode reward for episode 249 is 6.0\n",
      "Average reward is 2.060483870967742\n",
      "Epsilon is 0.0320121892787935\n"
     ]
    },
    {
     "name": "stderr",
     "output_type": "stream",
     "text": [
      " 25%|██▍       | 249/1000 [05:43<49:25,  3.95s/it]"
     ]
    },
    {
     "name": "stdout",
     "output_type": "stream",
     "text": [
      "Episode reward for episode 250 is 5.0\n",
      "Average reward is 2.072289156626506\n",
      "Epsilon is 0.03124048403861739\n"
     ]
    },
    {
     "name": "stderr",
     "output_type": "stream",
     "text": [
      " 25%|██▌       | 250/1000 [05:45<41:59,  3.36s/it]"
     ]
    },
    {
     "name": "stdout",
     "output_type": "stream",
     "text": [
      "Episode reward for episode 251 is 4.0\n",
      "Average reward is 2.08\n",
      "Epsilon is 0.03097611894194468\n"
     ]
    },
    {
     "name": "stderr",
     "output_type": "stream",
     "text": [
      " 25%|██▌       | 251/1000 [05:48<39:27,  3.16s/it]"
     ]
    },
    {
     "name": "stdout",
     "output_type": "stream",
     "text": [
      "Episode reward for episode 252 is 3.0\n",
      "Average reward is 2.0836653386454183\n",
      "Epsilon is 0.03064959547080712\n"
     ]
    },
    {
     "name": "stderr",
     "output_type": "stream",
     "text": [
      " 25%|██▌       | 252/1000 [05:50<36:35,  2.93s/it]"
     ]
    },
    {
     "name": "stdout",
     "output_type": "stream",
     "text": [
      "Episode reward for episode 253 is 6.0\n",
      "Average reward is 2.0992063492063493\n",
      "Epsilon is 0.030370050659967306\n"
     ]
    },
    {
     "name": "stderr",
     "output_type": "stream",
     "text": [
      " 25%|██▌       | 253/1000 [05:53<34:26,  2.77s/it]"
     ]
    },
    {
     "name": "stdout",
     "output_type": "stream",
     "text": [
      "Episode reward for episode 254 is 7.0\n",
      "Average reward is 2.1185770750988144\n",
      "Epsilon is 0.030087750918346656\n"
     ]
    },
    {
     "name": "stderr",
     "output_type": "stream",
     "text": [
      " 25%|██▌       | 254/1000 [05:56<36:32,  2.94s/it]"
     ]
    },
    {
     "name": "stdout",
     "output_type": "stream",
     "text": [
      "Episode reward for episode 255 is 7.0\n",
      "Average reward is 2.1377952755905514\n",
      "Epsilon is 0.02971743706703073\n"
     ]
    },
    {
     "name": "stderr",
     "output_type": "stream",
     "text": [
      " 26%|██▌       | 255/1000 [05:59<36:59,  2.98s/it]"
     ]
    },
    {
     "name": "stdout",
     "output_type": "stream",
     "text": [
      "Episode reward for episode 256 is 7.0\n",
      "Average reward is 2.156862745098039\n",
      "Epsilon is 0.029379457330677997\n"
     ]
    },
    {
     "name": "stderr",
     "output_type": "stream",
     "text": [
      " 26%|██▌       | 256/1000 [06:01<32:46,  2.64s/it]"
     ]
    },
    {
     "name": "stdout",
     "output_type": "stream",
     "text": [
      "Episode reward for episode 257 is 4.0\n",
      "Average reward is 2.1640625\n",
      "Epsilon is 0.02918086941323715\n"
     ]
    },
    {
     "name": "stderr",
     "output_type": "stream",
     "text": [
      " 26%|██▌       | 257/1000 [06:03<31:45,  2.56s/it]"
     ]
    },
    {
     "name": "stdout",
     "output_type": "stream",
     "text": [
      "Episode reward for episode 258 is 8.0\n",
      "Average reward is 2.186770428015564\n",
      "Epsilon is 0.028929156267235422\n"
     ]
    },
    {
     "name": "stderr",
     "output_type": "stream",
     "text": [
      " 26%|██▌       | 258/1000 [06:06<33:12,  2.68s/it]"
     ]
    },
    {
     "name": "stdout",
     "output_type": "stream",
     "text": [
      "Episode reward for episode 259 is 13.0\n",
      "Average reward is 2.2286821705426356\n",
      "Epsilon is 0.028641031026542547\n"
     ]
    },
    {
     "name": "stderr",
     "output_type": "stream",
     "text": [
      " 26%|██▌       | 259/1000 [06:09<31:17,  2.53s/it]"
     ]
    },
    {
     "name": "stdout",
     "output_type": "stream",
     "text": [
      "Episode reward for episode 260 is 5.0\n",
      "Average reward is 2.2393822393822393\n",
      "Epsilon is 0.02842431281117195\n"
     ]
    },
    {
     "name": "stderr",
     "output_type": "stream",
     "text": [
      " 26%|██▌       | 260/1000 [06:11<29:15,  2.37s/it]"
     ]
    },
    {
     "name": "stdout",
     "output_type": "stream",
     "text": [
      "Episode reward for episode 261 is 5.0\n",
      "Average reward is 2.25\n",
      "Epsilon is 0.02823111847360087\n"
     ]
    },
    {
     "name": "stderr",
     "output_type": "stream",
     "text": [
      " 26%|██▌       | 261/1000 [06:13<29:33,  2.40s/it]"
     ]
    },
    {
     "name": "stdout",
     "output_type": "stream",
     "text": [
      "Episode reward for episode 262 is 6.0\n",
      "Average reward is 2.264367816091954\n",
      "Epsilon is 0.027995844006231115\n"
     ]
    },
    {
     "name": "stderr",
     "output_type": "stream",
     "text": [
      " 26%|██▌       | 262/1000 [06:17<34:11,  2.78s/it]"
     ]
    },
    {
     "name": "stdout",
     "output_type": "stream",
     "text": [
      "Episode reward for episode 263 is 9.0\n",
      "Average reward is 2.2900763358778624\n",
      "Epsilon is 0.027671574751990516\n"
     ]
    },
    {
     "name": "stderr",
     "output_type": "stream",
     "text": [
      " 26%|██▋       | 263/1000 [06:18<30:12,  2.46s/it]"
     ]
    },
    {
     "name": "stdout",
     "output_type": "stream",
     "text": [
      "Episode reward for episode 264 is 3.0\n",
      "Average reward is 2.2927756653992395\n",
      "Epsilon is 0.02751816361097921\n"
     ]
    },
    {
     "name": "stderr",
     "output_type": "stream",
     "text": [
      " 26%|██▋       | 264/1000 [06:21<30:25,  2.48s/it]"
     ]
    },
    {
     "name": "stdout",
     "output_type": "stream",
     "text": [
      "Episode reward for episode 265 is 6.0\n",
      "Average reward is 2.3068181818181817\n",
      "Epsilon is 0.027300347191276747\n"
     ]
    },
    {
     "name": "stderr",
     "output_type": "stream",
     "text": [
      " 26%|██▋       | 265/1000 [06:23<29:55,  2.44s/it]"
     ]
    },
    {
     "name": "stdout",
     "output_type": "stream",
     "text": [
      "Episode reward for episode 266 is 6.0\n",
      "Average reward is 2.3207547169811322\n",
      "Epsilon is 0.027130076099224423\n"
     ]
    },
    {
     "name": "stderr",
     "output_type": "stream",
     "text": [
      " 27%|██▋       | 266/1000 [06:25<28:01,  2.29s/it]"
     ]
    },
    {
     "name": "stdout",
     "output_type": "stream",
     "text": [
      "Episode reward for episode 267 is 6.0\n",
      "Average reward is 2.3345864661654137\n",
      "Epsilon is 0.02696934960876459\n"
     ]
    },
    {
     "name": "stderr",
     "output_type": "stream",
     "text": [
      " 27%|██▋       | 267/1000 [06:27<26:40,  2.18s/it]"
     ]
    },
    {
     "name": "stdout",
     "output_type": "stream",
     "text": [
      "Episode reward for episode 268 is 2.0\n",
      "Average reward is 2.3333333333333335\n",
      "Epsilon is 0.026816334796136924\n"
     ]
    },
    {
     "name": "stderr",
     "output_type": "stream",
     "text": [
      " 27%|██▋       | 268/1000 [06:31<32:24,  2.66s/it]"
     ]
    },
    {
     "name": "stdout",
     "output_type": "stream",
     "text": [
      "Episode reward for episode 269 is 12.0\n",
      "Average reward is 2.3694029850746268\n",
      "Epsilon is 0.02655037242934201\n"
     ]
    },
    {
     "name": "stderr",
     "output_type": "stream",
     "text": [
      " 27%|██▋       | 269/1000 [06:32<28:05,  2.31s/it]"
     ]
    },
    {
     "name": "stdout",
     "output_type": "stream",
     "text": [
      "Episode reward for episode 270 is 2.0\n",
      "Average reward is 2.3680297397769516\n",
      "Epsilon is 0.02643995728591423\n"
     ]
    },
    {
     "name": "stderr",
     "output_type": "stream",
     "text": [
      " 27%|██▋       | 270/1000 [06:36<33:20,  2.74s/it]"
     ]
    },
    {
     "name": "stdout",
     "output_type": "stream",
     "text": [
      "Episode reward for episode 271 is 14.0\n",
      "Average reward is 2.411111111111111\n",
      "Epsilon is 0.026171376492675175\n"
     ]
    },
    {
     "name": "stderr",
     "output_type": "stream",
     "text": [
      " 27%|██▋       | 271/1000 [06:39<34:46,  2.86s/it]"
     ]
    },
    {
     "name": "stdout",
     "output_type": "stream",
     "text": [
      "Episode reward for episode 272 is 9.0\n",
      "Average reward is 2.4354243542435423\n",
      "Epsilon is 0.025956731397930543\n"
     ]
    },
    {
     "name": "stderr",
     "output_type": "stream",
     "text": [
      " 27%|██▋       | 272/1000 [06:42<32:34,  2.68s/it]"
     ]
    },
    {
     "name": "stdout",
     "output_type": "stream",
     "text": [
      "Episode reward for episode 273 is 6.0\n",
      "Average reward is 2.448529411764706\n",
      "Epsilon is 0.025803852420377908\n"
     ]
    },
    {
     "name": "stderr",
     "output_type": "stream",
     "text": [
      " 27%|██▋       | 273/1000 [06:44<31:40,  2.61s/it]"
     ]
    },
    {
     "name": "stdout",
     "output_type": "stream",
     "text": [
      "Episode reward for episode 274 is 8.0\n",
      "Average reward is 2.468864468864469\n",
      "Epsilon is 0.025649244997523066\n"
     ]
    },
    {
     "name": "stderr",
     "output_type": "stream",
     "text": [
      " 27%|██▋       | 274/1000 [06:46<30:49,  2.55s/it]"
     ]
    },
    {
     "name": "stdout",
     "output_type": "stream",
     "text": [
      "Episode reward for episode 275 is 7.0\n",
      "Average reward is 2.4854014598540144\n",
      "Epsilon is 0.025502056368112966\n"
     ]
    },
    {
     "name": "stderr",
     "output_type": "stream",
     "text": [
      " 28%|██▊       | 275/1000 [06:48<28:33,  2.36s/it]"
     ]
    },
    {
     "name": "stdout",
     "output_type": "stream",
     "text": [
      "Episode reward for episode 276 is 6.0\n",
      "Average reward is 2.498181818181818\n",
      "Epsilon is 0.02537910448368514\n"
     ]
    },
    {
     "name": "stderr",
     "output_type": "stream",
     "text": [
      " 28%|██▊       | 276/1000 [06:51<28:09,  2.33s/it]"
     ]
    },
    {
     "name": "stdout",
     "output_type": "stream",
     "text": [
      "Episode reward for episode 277 is 8.0\n",
      "Average reward is 2.5181159420289854\n",
      "Epsilon is 0.025242098564004008\n"
     ]
    },
    {
     "name": "stderr",
     "output_type": "stream",
     "text": [
      " 28%|██▊       | 277/1000 [06:53<27:52,  2.31s/it]"
     ]
    },
    {
     "name": "stdout",
     "output_type": "stream",
     "text": [
      "Episode reward for episode 278 is 7.0\n",
      "Average reward is 2.5342960288808665\n",
      "Epsilon is 0.02510960400698571\n"
     ]
    },
    {
     "name": "stderr",
     "output_type": "stream",
     "text": [
      " 28%|██▊       | 278/1000 [06:57<33:14,  2.76s/it]"
     ]
    },
    {
     "name": "stdout",
     "output_type": "stream",
     "text": [
      "Episode reward for episode 279 is 8.0\n",
      "Average reward is 2.553956834532374\n",
      "Epsilon is 0.024894547877023752\n"
     ]
    },
    {
     "name": "stderr",
     "output_type": "stream",
     "text": [
      " 28%|██▊       | 279/1000 [06:59<31:04,  2.59s/it]"
     ]
    },
    {
     "name": "stdout",
     "output_type": "stream",
     "text": [
      "Episode reward for episode 280 is 9.0\n",
      "Average reward is 2.5770609318996414\n",
      "Epsilon is 0.02477752154819776\n"
     ]
    },
    {
     "name": "stderr",
     "output_type": "stream",
     "text": [
      " 28%|██▊       | 280/1000 [07:02<32:02,  2.67s/it]"
     ]
    },
    {
     "name": "stdout",
     "output_type": "stream",
     "text": [
      "Episode reward for episode 281 is 9.0\n",
      "Average reward is 2.6\n",
      "Epsilon is 0.024634470288957624\n"
     ]
    },
    {
     "name": "stderr",
     "output_type": "stream",
     "text": [
      " 28%|██▊       | 281/1000 [07:05<32:48,  2.74s/it]"
     ]
    },
    {
     "name": "stdout",
     "output_type": "stream",
     "text": [
      "Episode reward for episode 282 is 9.0\n",
      "Average reward is 2.622775800711744\n",
      "Epsilon is 0.024494803301075112\n"
     ]
    },
    {
     "name": "stderr",
     "output_type": "stream",
     "text": [
      " 28%|██▊       | 282/1000 [07:07<32:58,  2.76s/it]"
     ]
    },
    {
     "name": "stdout",
     "output_type": "stream",
     "text": [
      "Episode reward for episode 283 is 8.0\n",
      "Average reward is 2.641843971631206\n",
      "Epsilon is 0.024359345395630925\n"
     ]
    },
    {
     "name": "stderr",
     "output_type": "stream",
     "text": [
      " 28%|██▊       | 283/1000 [07:10<31:06,  2.60s/it]"
     ]
    },
    {
     "name": "stdout",
     "output_type": "stream",
     "text": [
      "Episode reward for episode 284 is 6.0\n",
      "Average reward is 2.6537102473498235\n",
      "Epsilon is 0.024254264567439888\n"
     ]
    },
    {
     "name": "stderr",
     "output_type": "stream",
     "text": [
      " 28%|██▊       | 284/1000 [07:13<33:04,  2.77s/it]"
     ]
    },
    {
     "name": "stdout",
     "output_type": "stream",
     "text": [
      "Episode reward for episode 285 is 11.0\n",
      "Average reward is 2.683098591549296\n",
      "Epsilon is 0.024100553265750432\n"
     ]
    },
    {
     "name": "stderr",
     "output_type": "stream",
     "text": [
      " 28%|██▊       | 285/1000 [07:16<34:57,  2.93s/it]"
     ]
    },
    {
     "name": "stdout",
     "output_type": "stream",
     "text": [
      "Episode reward for episode 286 is 11.0\n",
      "Average reward is 2.712280701754386\n",
      "Epsilon is 0.02395160532393132\n"
     ]
    },
    {
     "name": "stderr",
     "output_type": "stream",
     "text": [
      " 29%|██▊       | 286/1000 [07:18<32:25,  2.72s/it]"
     ]
    },
    {
     "name": "stdout",
     "output_type": "stream",
     "text": [
      "Episode reward for episode 287 is 6.0\n",
      "Average reward is 2.7237762237762237\n",
      "Epsilon is 0.023852498533199887\n"
     ]
    },
    {
     "name": "stderr",
     "output_type": "stream",
     "text": [
      " 29%|██▊       | 287/1000 [07:21<32:09,  2.71s/it]"
     ]
    },
    {
     "name": "stdout",
     "output_type": "stream",
     "text": [
      "Episode reward for episode 288 is 6.0\n",
      "Average reward is 2.735191637630662\n",
      "Epsilon is 0.02374387775611597\n"
     ]
    },
    {
     "name": "stderr",
     "output_type": "stream",
     "text": [
      " 29%|██▉       | 288/1000 [07:23<28:03,  2.36s/it]"
     ]
    },
    {
     "name": "stdout",
     "output_type": "stream",
     "text": [
      "Episode reward for episode 289 is 4.0\n",
      "Average reward is 2.7395833333333335\n",
      "Epsilon is 0.02367709084197014\n"
     ]
    },
    {
     "name": "stderr",
     "output_type": "stream",
     "text": [
      " 29%|██▉       | 289/1000 [07:25<26:46,  2.26s/it]"
     ]
    },
    {
     "name": "stdout",
     "output_type": "stream",
     "text": [
      "Episode reward for episode 290 is 6.0\n",
      "Average reward is 2.7508650519031144\n",
      "Epsilon is 0.02359348292928371\n"
     ]
    },
    {
     "name": "stderr",
     "output_type": "stream",
     "text": [
      " 29%|██▉       | 290/1000 [07:27<27:05,  2.29s/it]"
     ]
    },
    {
     "name": "stdout",
     "output_type": "stream",
     "text": [
      "Episode reward for episode 291 is 7.0\n",
      "Average reward is 2.7655172413793103\n",
      "Epsilon is 0.02350265729465379\n"
     ]
    },
    {
     "name": "stderr",
     "output_type": "stream",
     "text": [
      " 29%|██▉       | 291/1000 [07:29<26:38,  2.25s/it]"
     ]
    },
    {
     "name": "stdout",
     "output_type": "stream",
     "text": [
      "Episode reward for episode 292 is 7.0\n",
      "Average reward is 2.7800687285223367\n",
      "Epsilon is 0.023417543121795906\n"
     ]
    },
    {
     "name": "stderr",
     "output_type": "stream",
     "text": [
      " 29%|██▉       | 292/1000 [07:32<29:10,  2.47s/it]"
     ]
    },
    {
     "name": "stdout",
     "output_type": "stream",
     "text": [
      "Episode reward for episode 293 is 10.0\n",
      "Average reward is 2.8047945205479454\n",
      "Epsilon is 0.023306604749395814\n"
     ]
    },
    {
     "name": "stderr",
     "output_type": "stream",
     "text": [
      " 29%|██▉       | 293/1000 [07:35<31:02,  2.63s/it]"
     ]
    },
    {
     "name": "stdout",
     "output_type": "stream",
     "text": [
      "Episode reward for episode 294 is 9.0\n",
      "Average reward is 2.825938566552901\n",
      "Epsilon is 0.02319670920577627\n"
     ]
    },
    {
     "name": "stderr",
     "output_type": "stream",
     "text": [
      " 29%|██▉       | 294/1000 [07:37<27:06,  2.30s/it]"
     ]
    },
    {
     "name": "stdout",
     "output_type": "stream",
     "text": [
      "Episode reward for episode 295 is 4.0\n",
      "Average reward is 2.8299319727891157\n",
      "Epsilon is 0.02314408184851961\n"
     ]
    },
    {
     "name": "stderr",
     "output_type": "stream",
     "text": [
      " 30%|██▉       | 295/1000 [07:40<30:07,  2.56s/it]"
     ]
    },
    {
     "name": "stdout",
     "output_type": "stream",
     "text": [
      "Episode reward for episode 296 is 11.0\n",
      "Average reward is 2.857627118644068\n",
      "Epsilon is 0.02303533533431002\n"
     ]
    },
    {
     "name": "stderr",
     "output_type": "stream",
     "text": [
      " 30%|██▉       | 296/1000 [07:44<34:57,  2.98s/it]"
     ]
    },
    {
     "name": "stdout",
     "output_type": "stream",
     "text": [
      "Episode reward for episode 297 is 12.0\n",
      "Average reward is 2.8885135135135136\n",
      "Epsilon is 0.022909327362251635\n"
     ]
    },
    {
     "name": "stderr",
     "output_type": "stream",
     "text": [
      " 30%|██▉       | 297/1000 [07:47<34:45,  2.97s/it]"
     ]
    },
    {
     "name": "stdout",
     "output_type": "stream",
     "text": [
      "Episode reward for episode 298 is 7.0\n",
      "Average reward is 2.9023569023569022\n",
      "Epsilon is 0.022813760676044615\n"
     ]
    },
    {
     "name": "stderr",
     "output_type": "stream",
     "text": [
      " 30%|██▉       | 298/1000 [07:49<32:55,  2.81s/it]"
     ]
    },
    {
     "name": "stdout",
     "output_type": "stream",
     "text": [
      "Episode reward for episode 299 is 7.0\n",
      "Average reward is 2.9161073825503356\n",
      "Epsilon is 0.022737710281828385\n"
     ]
    },
    {
     "name": "stderr",
     "output_type": "stream",
     "text": [
      " 30%|██▉       | 299/1000 [07:51<28:25,  2.43s/it]"
     ]
    },
    {
     "name": "stdout",
     "output_type": "stream",
     "text": [
      "Episode reward for episode 300 is 3.0\n",
      "Average reward is 2.9163879598662206\n",
      "Epsilon is 0.022695333400505845\n"
     ]
    },
    {
     "name": "stderr",
     "output_type": "stream",
     "text": [
      " 30%|███       | 300/1000 [07:53<27:25,  2.35s/it]"
     ]
    },
    {
     "name": "stdout",
     "output_type": "stream",
     "text": [
      "Episode reward for episode 301 is 7.0\n",
      "Average reward is 2.93\n",
      "Epsilon is 0.02263246825868114\n"
     ]
    },
    {
     "name": "stderr",
     "output_type": "stream",
     "text": [
      " 30%|███       | 301/1000 [07:56<28:53,  2.48s/it]"
     ]
    },
    {
     "name": "stdout",
     "output_type": "stream",
     "text": [
      "Episode reward for episode 302 is 8.0\n",
      "Average reward is 2.946843853820598\n",
      "Epsilon is 0.02255262414746976\n"
     ]
    },
    {
     "name": "stderr",
     "output_type": "stream",
     "text": [
      " 30%|███       | 302/1000 [07:58<29:17,  2.52s/it]"
     ]
    },
    {
     "name": "stdout",
     "output_type": "stream",
     "text": [
      "Episode reward for episode 303 is 8.0\n",
      "Average reward is 2.9635761589403975\n",
      "Epsilon is 0.022478669458343817\n"
     ]
    },
    {
     "name": "stderr",
     "output_type": "stream",
     "text": [
      " 30%|███       | 303/1000 [08:01<29:59,  2.58s/it]"
     ]
    },
    {
     "name": "stdout",
     "output_type": "stream",
     "text": [
      "Episode reward for episode 304 is 13.0\n",
      "Average reward is 2.9966996699669965\n",
      "Epsilon is 0.022406376062933612\n"
     ]
    },
    {
     "name": "stderr",
     "output_type": "stream",
     "text": [
      " 30%|███       | 304/1000 [08:04<30:41,  2.65s/it]"
     ]
    },
    {
     "name": "stdout",
     "output_type": "stream",
     "text": [
      "Episode reward for episode 305 is 10.0\n",
      "Average reward is 3.0197368421052633\n",
      "Epsilon is 0.022332922812648995\n"
     ]
    },
    {
     "name": "stderr",
     "output_type": "stream",
     "text": [
      " 30%|███       | 305/1000 [08:06<28:58,  2.50s/it]"
     ]
    },
    {
     "name": "stdout",
     "output_type": "stream",
     "text": [
      "Episode reward for episode 306 is 13.0\n",
      "Average reward is 3.0524590163934424\n",
      "Epsilon is 0.022278510425871256\n"
     ]
    },
    {
     "name": "stderr",
     "output_type": "stream",
     "text": [
      " 31%|███       | 306/1000 [08:09<30:03,  2.60s/it]"
     ]
    },
    {
     "name": "stdout",
     "output_type": "stream",
     "text": [
      "Episode reward for episode 307 is 9.0\n",
      "Average reward is 3.0718954248366015\n",
      "Epsilon is 0.022211612544210012\n"
     ]
    },
    {
     "name": "stderr",
     "output_type": "stream",
     "text": [
      " 31%|███       | 307/1000 [08:11<27:10,  2.35s/it]"
     ]
    },
    {
     "name": "stdout",
     "output_type": "stream",
     "text": [
      "Episode reward for episode 308 is 5.0\n",
      "Average reward is 3.0781758957654723\n",
      "Epsilon is 0.022166952727233003\n"
     ]
    },
    {
     "name": "stderr",
     "output_type": "stream",
     "text": [
      " 31%|███       | 308/1000 [08:13<28:13,  2.45s/it]"
     ]
    },
    {
     "name": "stdout",
     "output_type": "stream",
     "text": [
      "Episode reward for episode 309 is 8.0\n",
      "Average reward is 3.094155844155844\n",
      "Epsilon is 0.022104171719910803\n"
     ]
    },
    {
     "name": "stderr",
     "output_type": "stream",
     "text": [
      " 31%|███       | 309/1000 [08:16<29:27,  2.56s/it]"
     ]
    },
    {
     "name": "stdout",
     "output_type": "stream",
     "text": [
      "Episode reward for episode 310 is 6.0\n",
      "Average reward is 3.103559870550162\n",
      "Epsilon is 0.022038311782151432\n"
     ]
    },
    {
     "name": "stderr",
     "output_type": "stream",
     "text": [
      " 31%|███       | 310/1000 [08:19<29:23,  2.56s/it]"
     ]
    },
    {
     "name": "stdout",
     "output_type": "stream",
     "text": [
      "Episode reward for episode 311 is 8.0\n",
      "Average reward is 3.1193548387096772\n",
      "Epsilon is 0.021981634298382964\n"
     ]
    },
    {
     "name": "stderr",
     "output_type": "stream",
     "text": [
      " 31%|███       | 311/1000 [08:20<26:12,  2.28s/it]"
     ]
    },
    {
     "name": "stdout",
     "output_type": "stream",
     "text": [
      "Episode reward for episode 312 is 5.0\n",
      "Average reward is 3.12540192926045\n",
      "Epsilon is 0.021945116568124534\n"
     ]
    },
    {
     "name": "stderr",
     "output_type": "stream",
     "text": [
      " 31%|███       | 312/1000 [08:22<25:50,  2.25s/it]"
     ]
    },
    {
     "name": "stdout",
     "output_type": "stream",
     "text": [
      "Episode reward for episode 313 is 6.0\n",
      "Average reward is 3.1346153846153846\n",
      "Epsilon is 0.02189974925701646\n"
     ]
    },
    {
     "name": "stderr",
     "output_type": "stream",
     "text": [
      " 31%|███▏      | 313/1000 [08:25<27:38,  2.41s/it]"
     ]
    },
    {
     "name": "stdout",
     "output_type": "stream",
     "text": [
      "Episode reward for episode 314 is 9.0\n",
      "Average reward is 3.1533546325878596\n",
      "Epsilon is 0.021843603181333722\n"
     ]
    },
    {
     "name": "stderr",
     "output_type": "stream",
     "text": [
      " 31%|███▏      | 314/1000 [08:28<27:15,  2.38s/it]"
     ]
    },
    {
     "name": "stdout",
     "output_type": "stream",
     "text": [
      "Episode reward for episode 315 is 7.0\n",
      "Average reward is 3.1656050955414012\n",
      "Epsilon is 0.021795928049356938\n"
     ]
    },
    {
     "name": "stderr",
     "output_type": "stream",
     "text": [
      " 32%|███▏      | 315/1000 [08:29<22:43,  1.99s/it]"
     ]
    },
    {
     "name": "stdout",
     "output_type": "stream",
     "text": [
      "Episode reward for episode 316 is 2.0\n",
      "Average reward is 3.1619047619047618\n",
      "Epsilon is 0.021774150838251863\n"
     ]
    },
    {
     "name": "stderr",
     "output_type": "stream",
     "text": [
      " 32%|███▏      | 316/1000 [08:30<21:25,  1.88s/it]"
     ]
    },
    {
     "name": "stdout",
     "output_type": "stream",
     "text": [
      "Episode reward for episode 317 is 4.0\n",
      "Average reward is 3.1645569620253164\n",
      "Epsilon is 0.021742501818856796\n"
     ]
    },
    {
     "name": "stderr",
     "output_type": "stream",
     "text": [
      " 32%|███▏      | 317/1000 [08:34<28:45,  2.53s/it]"
     ]
    },
    {
     "name": "stdout",
     "output_type": "stream",
     "text": [
      "Episode reward for episode 318 is 14.0\n",
      "Average reward is 3.1987381703470033\n",
      "Epsilon is 0.021667827543613388\n"
     ]
    },
    {
     "name": "stderr",
     "output_type": "stream",
     "text": [
      " 32%|███▏      | 318/1000 [08:38<32:02,  2.82s/it]"
     ]
    },
    {
     "name": "stdout",
     "output_type": "stream",
     "text": [
      "Episode reward for episode 319 is 11.0\n",
      "Average reward is 3.2232704402515724\n",
      "Epsilon is 0.02160788862849551\n"
     ]
    },
    {
     "name": "stderr",
     "output_type": "stream",
     "text": [
      " 32%|███▏      | 319/1000 [08:42<35:04,  3.09s/it]"
     ]
    },
    {
     "name": "stdout",
     "output_type": "stream",
     "text": [
      "Episode reward for episode 320 is 13.0\n",
      "Average reward is 3.2539184952978055\n",
      "Epsilon is 0.021542372642073954\n"
     ]
    },
    {
     "name": "stderr",
     "output_type": "stream",
     "text": [
      " 32%|███▏      | 320/1000 [08:45<35:49,  3.16s/it]"
     ]
    },
    {
     "name": "stdout",
     "output_type": "stream",
     "text": [
      "Episode reward for episode 321 is 11.0\n",
      "Average reward is 3.278125\n",
      "Epsilon is 0.0214869423649884\n"
     ]
    },
    {
     "name": "stderr",
     "output_type": "stream",
     "text": [
      " 32%|███▏      | 321/1000 [08:48<35:21,  3.12s/it]"
     ]
    },
    {
     "name": "stdout",
     "output_type": "stream",
     "text": [
      "Episode reward for episode 322 is 10.0\n",
      "Average reward is 3.2990654205607477\n",
      "Epsilon is 0.02143694870055509\n"
     ]
    },
    {
     "name": "stderr",
     "output_type": "stream",
     "text": [
      " 32%|███▏      | 322/1000 [08:51<36:13,  3.21s/it]"
     ]
    },
    {
     "name": "stdout",
     "output_type": "stream",
     "text": [
      "Episode reward for episode 323 is 9.0\n",
      "Average reward is 3.3167701863354035\n",
      "Epsilon is 0.02138530718250898\n"
     ]
    },
    {
     "name": "stderr",
     "output_type": "stream",
     "text": [
      " 32%|███▏      | 323/1000 [08:54<34:23,  3.05s/it]"
     ]
    },
    {
     "name": "stdout",
     "output_type": "stream",
     "text": [
      "Episode reward for episode 324 is 5.0\n",
      "Average reward is 3.321981424148607\n",
      "Epsilon is 0.021347595519132324\n"
     ]
    },
    {
     "name": "stderr",
     "output_type": "stream",
     "text": [
      " 32%|███▏      | 324/1000 [08:57<34:03,  3.02s/it]"
     ]
    },
    {
     "name": "stdout",
     "output_type": "stream",
     "text": [
      "Episode reward for episode 325 is 9.0\n",
      "Average reward is 3.3395061728395063\n",
      "Epsilon is 0.021307768052571948\n"
     ]
    },
    {
     "name": "stderr",
     "output_type": "stream",
     "text": [
      " 32%|███▎      | 325/1000 [09:00<32:25,  2.88s/it]"
     ]
    },
    {
     "name": "stdout",
     "output_type": "stream",
     "text": [
      "Episode reward for episode 326 is 8.0\n",
      "Average reward is 3.353846153846154\n",
      "Epsilon is 0.02127191279791831\n"
     ]
    },
    {
     "name": "stderr",
     "output_type": "stream",
     "text": [
      " 33%|███▎      | 326/1000 [09:02<29:30,  2.63s/it]"
     ]
    },
    {
     "name": "stdout",
     "output_type": "stream",
     "text": [
      "Episode reward for episode 327 is 9.0\n",
      "Average reward is 3.371165644171779\n",
      "Epsilon is 0.02124423627440025\n"
     ]
    },
    {
     "name": "stderr",
     "output_type": "stream",
     "text": [
      " 33%|███▎      | 327/1000 [09:04<29:19,  2.61s/it]"
     ]
    },
    {
     "name": "stdout",
     "output_type": "stream",
     "text": [
      "Episode reward for episode 328 is 8.0\n",
      "Average reward is 3.385321100917431\n",
      "Epsilon is 0.02121012287915391\n"
     ]
    },
    {
     "name": "stderr",
     "output_type": "stream",
     "text": [
      " 33%|███▎      | 328/1000 [09:06<26:30,  2.37s/it]"
     ]
    },
    {
     "name": "stdout",
     "output_type": "stream",
     "text": [
      "Episode reward for episode 329 is 5.0\n",
      "Average reward is 3.3902439024390243\n",
      "Epsilon is 0.021185923632238313\n"
     ]
    },
    {
     "name": "stderr",
     "output_type": "stream",
     "text": [
      " 33%|███▎      | 329/1000 [09:08<26:00,  2.33s/it]"
     ]
    },
    {
     "name": "stdout",
     "output_type": "stream",
     "text": [
      "Episode reward for episode 330 is 7.0\n",
      "Average reward is 3.4012158054711246\n",
      "Epsilon is 0.021158726905849388\n"
     ]
    },
    {
     "name": "stderr",
     "output_type": "stream",
     "text": [
      " 33%|███▎      | 330/1000 [09:12<29:48,  2.67s/it]"
     ]
    },
    {
     "name": "stdout",
     "output_type": "stream",
     "text": [
      "Episode reward for episode 331 is 11.0\n",
      "Average reward is 3.4242424242424243\n",
      "Epsilon is 0.02111462932698192\n"
     ]
    },
    {
     "name": "stderr",
     "output_type": "stream",
     "text": [
      " 33%|███▎      | 331/1000 [09:15<33:07,  2.97s/it]"
     ]
    },
    {
     "name": "stdout",
     "output_type": "stream",
     "text": [
      "Episode reward for episode 332 is 15.0\n",
      "Average reward is 3.459214501510574\n",
      "Epsilon is 0.021071566833190145\n"
     ]
    },
    {
     "name": "stderr",
     "output_type": "stream",
     "text": [
      " 33%|███▎      | 332/1000 [09:19<35:21,  3.18s/it]"
     ]
    },
    {
     "name": "stdout",
     "output_type": "stream",
     "text": [
      "Episode reward for episode 333 is 12.0\n",
      "Average reward is 3.4849397590361444\n",
      "Epsilon is 0.021029550096674992\n"
     ]
    },
    {
     "name": "stderr",
     "output_type": "stream",
     "text": [
      " 33%|███▎      | 333/1000 [09:22<35:20,  3.18s/it]"
     ]
    },
    {
     "name": "stdout",
     "output_type": "stream",
     "text": [
      "Episode reward for episode 334 is 14.0\n",
      "Average reward is 3.5165165165165164\n",
      "Epsilon is 0.02099453688485947\n"
     ]
    },
    {
     "name": "stderr",
     "output_type": "stream",
     "text": [
      " 33%|███▎      | 334/1000 [09:25<33:31,  3.02s/it]"
     ]
    },
    {
     "name": "stdout",
     "output_type": "stream",
     "text": [
      "Episode reward for episode 335 is 8.0\n",
      "Average reward is 3.529940119760479\n",
      "Epsilon is 0.02096610950447182\n"
     ]
    },
    {
     "name": "stderr",
     "output_type": "stream",
     "text": [
      " 34%|███▎      | 335/1000 [09:27<31:52,  2.88s/it]"
     ]
    },
    {
     "name": "stdout",
     "output_type": "stream",
     "text": [
      "Episode reward for episode 336 is 8.0\n",
      "Average reward is 3.5432835820895523\n",
      "Epsilon is 0.020939057944891905\n"
     ]
    },
    {
     "name": "stderr",
     "output_type": "stream",
     "text": [
      " 34%|███▎      | 336/1000 [09:30<31:21,  2.83s/it]"
     ]
    },
    {
     "name": "stdout",
     "output_type": "stream",
     "text": [
      "Episode reward for episode 337 is 8.0\n",
      "Average reward is 3.556547619047619\n",
      "Epsilon is 0.02091203392372953\n"
     ]
    },
    {
     "name": "stderr",
     "output_type": "stream",
     "text": [
      " 34%|███▎      | 337/1000 [09:32<29:10,  2.64s/it]"
     ]
    },
    {
     "name": "stdout",
     "output_type": "stream",
     "text": [
      "Episode reward for episode 338 is 7.0\n",
      "Average reward is 3.5667655786350148\n",
      "Epsilon is 0.02089004959549991\n"
     ]
    },
    {
     "name": "stderr",
     "output_type": "stream",
     "text": [
      " 34%|███▍      | 338/1000 [09:35<31:04,  2.82s/it]"
     ]
    },
    {
     "name": "stdout",
     "output_type": "stream",
     "text": [
      "Episode reward for episode 339 is 11.0\n",
      "Average reward is 3.588757396449704\n",
      "Epsilon is 0.02085926483999813\n"
     ]
    },
    {
     "name": "stderr",
     "output_type": "stream",
     "text": [
      " 34%|███▍      | 339/1000 [09:37<26:56,  2.45s/it]"
     ]
    },
    {
     "name": "stdout",
     "output_type": "stream",
     "text": [
      "Episode reward for episode 340 is 4.0\n",
      "Average reward is 3.589970501474926\n",
      "Epsilon is 0.0208442740844226\n"
     ]
    },
    {
     "name": "stderr",
     "output_type": "stream",
     "text": [
      " 34%|███▍      | 340/1000 [09:40<27:53,  2.53s/it]"
     ]
    },
    {
     "name": "stdout",
     "output_type": "stream",
     "text": [
      "Episode reward for episode 341 is 9.0\n",
      "Average reward is 3.6058823529411765\n",
      "Epsilon is 0.020818830568558547\n"
     ]
    },
    {
     "name": "stderr",
     "output_type": "stream",
     "text": [
      " 34%|███▍      | 341/1000 [09:41<24:56,  2.27s/it]"
     ]
    },
    {
     "name": "stdout",
     "output_type": "stream",
     "text": [
      "Episode reward for episode 342 is 4.0\n",
      "Average reward is 3.6070381231671553\n",
      "Epsilon is 0.02080502810226435\n"
     ]
    },
    {
     "name": "stderr",
     "output_type": "stream",
     "text": [
      " 34%|███▍      | 342/1000 [09:44<27:03,  2.47s/it]"
     ]
    },
    {
     "name": "stdout",
     "output_type": "stream",
     "text": [
      "Episode reward for episode 343 is 10.0\n",
      "Average reward is 3.625730994152047\n",
      "Epsilon is 0.02077905152521859\n"
     ]
    },
    {
     "name": "stderr",
     "output_type": "stream",
     "text": [
      " 34%|███▍      | 343/1000 [09:47<28:02,  2.56s/it]"
     ]
    },
    {
     "name": "stdout",
     "output_type": "stream",
     "text": [
      "Episode reward for episode 344 is 8.0\n",
      "Average reward is 3.638483965014577\n",
      "Epsilon is 0.02075678347826516\n"
     ]
    },
    {
     "name": "stderr",
     "output_type": "stream",
     "text": [
      " 34%|███▍      | 344/1000 [09:50<29:58,  2.74s/it]"
     ]
    },
    {
     "name": "stdout",
     "output_type": "stream",
     "text": [
      "Episode reward for episode 345 is 10.0\n",
      "Average reward is 3.6569767441860463\n",
      "Epsilon is 0.02073060808931608\n"
     ]
    },
    {
     "name": "stderr",
     "output_type": "stream",
     "text": [
      " 34%|███▍      | 345/1000 [09:53<28:24,  2.60s/it]"
     ]
    },
    {
     "name": "stdout",
     "output_type": "stream",
     "text": [
      "Episode reward for episode 346 is 6.0\n",
      "Average reward is 3.663768115942029\n",
      "Epsilon is 0.020713139594850105\n"
     ]
    },
    {
     "name": "stderr",
     "output_type": "stream",
     "text": [
      " 35%|███▍      | 346/1000 [09:55<27:49,  2.55s/it]"
     ]
    },
    {
     "name": "stdout",
     "output_type": "stream",
     "text": [
      "Episode reward for episode 347 is 8.0\n",
      "Average reward is 3.6763005780346822\n",
      "Epsilon is 0.0206940036268171\n"
     ]
    },
    {
     "name": "stderr",
     "output_type": "stream",
     "text": [
      " 35%|███▍      | 347/1000 [09:57<27:08,  2.49s/it]"
     ]
    },
    {
     "name": "stdout",
     "output_type": "stream",
     "text": [
      "Episode reward for episode 348 is 8.0\n",
      "Average reward is 3.6887608069164264\n",
      "Epsilon is 0.020676327337865567\n"
     ]
    },
    {
     "name": "stderr",
     "output_type": "stream",
     "text": [
      " 35%|███▍      | 348/1000 [10:00<27:10,  2.50s/it]"
     ]
    },
    {
     "name": "stdout",
     "output_type": "stream",
     "text": [
      "Episode reward for episode 349 is 8.0\n",
      "Average reward is 3.7011494252873565\n",
      "Epsilon is 0.020658047545592615\n"
     ]
    },
    {
     "name": "stderr",
     "output_type": "stream",
     "text": [
      " 35%|███▍      | 349/1000 [10:02<26:29,  2.44s/it]"
     ]
    },
    {
     "name": "stdout",
     "output_type": "stream",
     "text": [
      "Episode reward for episode 350 is 7.0\n",
      "Average reward is 3.7106017191977076\n",
      "Epsilon is 0.020641415329127066\n"
     ]
    },
    {
     "name": "stderr",
     "output_type": "stream",
     "text": [
      " 35%|███▌      | 350/1000 [10:05<26:49,  2.48s/it]"
     ]
    },
    {
     "name": "stdout",
     "output_type": "stream",
     "text": [
      "Episode reward for episode 351 is 7.0\n",
      "Average reward is 3.72\n",
      "Epsilon is 0.020624828483987244\n"
     ]
    },
    {
     "name": "stderr",
     "output_type": "stream",
     "text": [
      " 35%|███▌      | 351/1000 [10:07<25:14,  2.33s/it]"
     ]
    },
    {
     "name": "stdout",
     "output_type": "stream",
     "text": [
      "Episode reward for episode 352 is 9.0\n",
      "Average reward is 3.735042735042735\n",
      "Epsilon is 0.02061123236304237\n"
     ]
    },
    {
     "name": "stderr",
     "output_type": "stream",
     "text": [
      " 35%|███▌      | 352/1000 [10:10<27:08,  2.51s/it]"
     ]
    },
    {
     "name": "stdout",
     "output_type": "stream",
     "text": [
      "Episode reward for episode 353 is 9.0\n",
      "Average reward is 3.75\n",
      "Epsilon is 0.020592100975140158\n"
     ]
    },
    {
     "name": "stderr",
     "output_type": "stream",
     "text": [
      " 35%|███▌      | 353/1000 [10:13<28:46,  2.67s/it]"
     ]
    },
    {
     "name": "stdout",
     "output_type": "stream",
     "text": [
      "Episode reward for episode 354 is 9.0\n",
      "Average reward is 3.764872521246459\n",
      "Epsilon is 0.020572536899401472\n"
     ]
    },
    {
     "name": "stderr",
     "output_type": "stream",
     "text": [
      " 35%|███▌      | 354/1000 [10:15<27:35,  2.56s/it]"
     ]
    },
    {
     "name": "stdout",
     "output_type": "stream",
     "text": [
      "Episode reward for episode 355 is 7.0\n",
      "Average reward is 3.774011299435028\n",
      "Epsilon is 0.020557954370898485\n"
     ]
    },
    {
     "name": "stderr",
     "output_type": "stream",
     "text": [
      " 36%|███▌      | 355/1000 [10:18<27:14,  2.53s/it]"
     ]
    },
    {
     "name": "stdout",
     "output_type": "stream",
     "text": [
      "Episode reward for episode 356 is 8.0\n",
      "Average reward is 3.7859154929577463\n",
      "Epsilon is 0.020542982551800943\n"
     ]
    },
    {
     "name": "stderr",
     "output_type": "stream",
     "text": [
      " 36%|███▌      | 356/1000 [10:21<29:35,  2.76s/it]"
     ]
    },
    {
     "name": "stdout",
     "output_type": "stream",
     "text": [
      "Episode reward for episode 357 is 10.0\n",
      "Average reward is 3.803370786516854\n",
      "Epsilon is 0.020523992403172944\n"
     ]
    },
    {
     "name": "stderr",
     "output_type": "stream",
     "text": [
      " 36%|███▌      | 357/1000 [10:23<27:27,  2.56s/it]"
     ]
    },
    {
     "name": "stdout",
     "output_type": "stream",
     "text": [
      "Episode reward for episode 358 is 5.0\n",
      "Average reward is 3.80672268907563\n",
      "Epsilon is 0.020512487943805745\n"
     ]
    },
    {
     "name": "stderr",
     "output_type": "stream",
     "text": [
      " 36%|███▌      | 358/1000 [10:25<26:38,  2.49s/it]"
     ]
    },
    {
     "name": "stdout",
     "output_type": "stream",
     "text": [
      "Episode reward for episode 359 is 7.0\n",
      "Average reward is 3.815642458100559\n",
      "Epsilon is 0.0204999345483004\n"
     ]
    },
    {
     "name": "stderr",
     "output_type": "stream",
     "text": [
      " 36%|███▌      | 359/1000 [10:28<27:38,  2.59s/it]"
     ]
    },
    {
     "name": "stdout",
     "output_type": "stream",
     "text": [
      "Episode reward for episode 360 is 11.0\n",
      "Average reward is 3.8356545961002784\n",
      "Epsilon is 0.020484480501749724\n"
     ]
    },
    {
     "name": "stderr",
     "output_type": "stream",
     "text": [
      " 36%|███▌      | 360/1000 [10:30<25:26,  2.39s/it]"
     ]
    },
    {
     "name": "stdout",
     "output_type": "stream",
     "text": [
      "Episode reward for episode 361 is 5.0\n",
      "Average reward is 3.838888888888889\n",
      "Epsilon is 0.02047403311705276\n"
     ]
    },
    {
     "name": "stderr",
     "output_type": "stream",
     "text": [
      " 36%|███▌      | 361/1000 [10:33<27:25,  2.58s/it]"
     ]
    },
    {
     "name": "stdout",
     "output_type": "stream",
     "text": [
      "Episode reward for episode 362 is 9.0\n",
      "Average reward is 3.853185595567867\n",
      "Epsilon is 0.020459104193989115\n"
     ]
    },
    {
     "name": "stderr",
     "output_type": "stream",
     "text": [
      " 36%|███▌      | 362/1000 [10:36<27:15,  2.56s/it]"
     ]
    },
    {
     "name": "stdout",
     "output_type": "stream",
     "text": [
      "Episode reward for episode 363 is 8.0\n",
      "Average reward is 3.8646408839779007\n",
      "Epsilon is 0.02044669551430415\n"
     ]
    },
    {
     "name": "stderr",
     "output_type": "stream",
     "text": [
      " 36%|███▋      | 363/1000 [10:38<27:56,  2.63s/it]"
     ]
    },
    {
     "name": "stdout",
     "output_type": "stream",
     "text": [
      "Episode reward for episode 364 is 10.0\n",
      "Average reward is 3.881542699724518\n",
      "Epsilon is 0.020433233648525843\n"
     ]
    },
    {
     "name": "stderr",
     "output_type": "stream",
     "text": [
      " 36%|███▋      | 364/1000 [10:40<25:16,  2.38s/it]"
     ]
    },
    {
     "name": "stdout",
     "output_type": "stream",
     "text": [
      "Episode reward for episode 365 is 5.0\n",
      "Average reward is 3.8846153846153846\n",
      "Epsilon is 0.020424655047516876\n"
     ]
    },
    {
     "name": "stderr",
     "output_type": "stream",
     "text": [
      " 36%|███▋      | 365/1000 [10:43<27:58,  2.64s/it]"
     ]
    },
    {
     "name": "stdout",
     "output_type": "stream",
     "text": [
      "Episode reward for episode 366 is 10.0\n",
      "Average reward is 3.9013698630136986\n",
      "Epsilon is 0.02040939365976431\n"
     ]
    },
    {
     "name": "stderr",
     "output_type": "stream",
     "text": [
      " 37%|███▋      | 366/1000 [10:46<27:46,  2.63s/it]"
     ]
    },
    {
     "name": "stdout",
     "output_type": "stream",
     "text": [
      "Episode reward for episode 367 is 8.0\n",
      "Average reward is 3.912568306010929\n",
      "Epsilon is 0.02039793042818705\n"
     ]
    },
    {
     "name": "stderr",
     "output_type": "stream",
     "text": [
      " 37%|███▋      | 367/1000 [10:49<29:12,  2.77s/it]"
     ]
    },
    {
     "name": "stdout",
     "output_type": "stream",
     "text": [
      "Episode reward for episode 368 is 9.0\n",
      "Average reward is 3.9264305177111716\n",
      "Epsilon is 0.020384320633191847\n"
     ]
    },
    {
     "name": "stderr",
     "output_type": "stream",
     "text": [
      " 37%|███▋      | 368/1000 [10:51<25:37,  2.43s/it]"
     ]
    },
    {
     "name": "stdout",
     "output_type": "stream",
     "text": [
      "Episode reward for episode 369 is 4.0\n",
      "Average reward is 3.926630434782609\n",
      "Epsilon is 0.02037754025035207\n"
     ]
    },
    {
     "name": "stderr",
     "output_type": "stream",
     "text": [
      " 37%|███▋      | 369/1000 [10:55<32:29,  3.09s/it]"
     ]
    },
    {
     "name": "stdout",
     "output_type": "stream",
     "text": [
      "Episode reward for episode 370 is 13.0\n",
      "Average reward is 3.951219512195122\n",
      "Epsilon is 0.020358840208042326\n"
     ]
    },
    {
     "name": "stderr",
     "output_type": "stream",
     "text": [
      " 37%|███▋      | 370/1000 [10:59<34:00,  3.24s/it]"
     ]
    },
    {
     "name": "stdout",
     "output_type": "stream",
     "text": [
      "Episode reward for episode 371 is 6.0\n",
      "Average reward is 3.9567567567567568\n",
      "Epsilon is 0.020345252898097625\n"
     ]
    },
    {
     "name": "stderr",
     "output_type": "stream",
     "text": [
      " 37%|███▋      | 371/1000 [11:02<33:34,  3.20s/it]"
     ]
    },
    {
     "name": "stdout",
     "output_type": "stream",
     "text": [
      "Episode reward for episode 372 is 10.0\n",
      "Average reward is 3.973045822102426\n",
      "Epsilon is 0.020333778362192\n"
     ]
    },
    {
     "name": "stderr",
     "output_type": "stream",
     "text": [
      " 37%|███▋      | 372/1000 [11:05<33:41,  3.22s/it]"
     ]
    },
    {
     "name": "stdout",
     "output_type": "stream",
     "text": [
      "Episode reward for episode 373 is 11.0\n",
      "Average reward is 3.9919354838709675\n",
      "Epsilon is 0.020322169300864848\n"
     ]
    },
    {
     "name": "stderr",
     "output_type": "stream",
     "text": [
      " 37%|███▋      | 373/1000 [11:09<34:26,  3.30s/it]"
     ]
    },
    {
     "name": "stdout",
     "output_type": "stream",
     "text": [
      "Episode reward for episode 374 is 12.0\n",
      "Average reward is 4.013404825737266\n",
      "Epsilon is 0.020310156555100458\n"
     ]
    },
    {
     "name": "stderr",
     "output_type": "stream",
     "text": [
      " 37%|███▋      | 374/1000 [11:11<30:00,  2.88s/it]"
     ]
    },
    {
     "name": "stdout",
     "output_type": "stream",
     "text": [
      "Episode reward for episode 375 is 5.0\n",
      "Average reward is 4.016042780748663\n",
      "Epsilon is 0.020303954246897994\n"
     ]
    },
    {
     "name": "stderr",
     "output_type": "stream",
     "text": [
      " 38%|███▊      | 375/1000 [11:12<26:47,  2.57s/it]"
     ]
    },
    {
     "name": "stdout",
     "output_type": "stream",
     "text": [
      "Episode reward for episode 376 is 5.0\n",
      "Average reward is 4.018666666666666\n",
      "Epsilon is 0.02029769729642968\n"
     ]
    },
    {
     "name": "stderr",
     "output_type": "stream",
     "text": [
      " 38%|███▊      | 376/1000 [11:17<33:30,  3.22s/it]"
     ]
    },
    {
     "name": "stdout",
     "output_type": "stream",
     "text": [
      "Episode reward for episode 377 is 15.0\n",
      "Average reward is 4.047872340425532\n",
      "Epsilon is 0.020282612637081778\n"
     ]
    },
    {
     "name": "stderr",
     "output_type": "stream",
     "text": [
      " 38%|███▊      | 377/1000 [11:20<31:24,  3.02s/it]"
     ]
    },
    {
     "name": "stdout",
     "output_type": "stream",
     "text": [
      "Episode reward for episode 378 is 7.0\n",
      "Average reward is 4.0557029177718835\n",
      "Epsilon is 0.020275304342700647\n"
     ]
    },
    {
     "name": "stderr",
     "output_type": "stream",
     "text": [
      " 38%|███▊      | 378/1000 [11:22<28:21,  2.74s/it]"
     ]
    },
    {
     "name": "stdout",
     "output_type": "stream",
     "text": [
      "Episode reward for episode 379 is 6.0\n",
      "Average reward is 4.060846560846561\n",
      "Epsilon is 0.020269098420043603\n"
     ]
    },
    {
     "name": "stderr",
     "output_type": "stream",
     "text": [
      " 38%|███▊      | 379/1000 [11:24<25:38,  2.48s/it]"
     ]
    },
    {
     "name": "stdout",
     "output_type": "stream",
     "text": [
      "Episode reward for episode 380 is 6.0\n",
      "Average reward is 4.065963060686016\n",
      "Epsilon is 0.020263769914315683\n"
     ]
    },
    {
     "name": "stderr",
     "output_type": "stream",
     "text": [
      " 38%|███▊      | 380/1000 [11:27<26:59,  2.61s/it]"
     ]
    },
    {
     "name": "stdout",
     "output_type": "stream",
     "text": [
      "Episode reward for episode 381 is 10.0\n",
      "Average reward is 4.081578947368421\n",
      "Epsilon is 0.020255360733444243\n"
     ]
    },
    {
     "name": "stderr",
     "output_type": "stream",
     "text": [
      " 38%|███▊      | 381/1000 [11:31<31:15,  3.03s/it]"
     ]
    },
    {
     "name": "stdout",
     "output_type": "stream",
     "text": [
      "Episode reward for episode 382 is 13.0\n",
      "Average reward is 4.10498687664042\n",
      "Epsilon is 0.02024436846445269\n"
     ]
    },
    {
     "name": "stderr",
     "output_type": "stream",
     "text": [
      " 38%|███▊      | 382/1000 [11:32<26:48,  2.60s/it]"
     ]
    },
    {
     "name": "stdout",
     "output_type": "stream",
     "text": [
      "Episode reward for episode 383 is 4.0\n",
      "Average reward is 4.104712041884817\n",
      "Epsilon is 0.020240009183322666\n"
     ]
    },
    {
     "name": "stderr",
     "output_type": "stream",
     "text": [
      " 38%|███▊      | 383/1000 [11:34<24:29,  2.38s/it]"
     ]
    },
    {
     "name": "stdout",
     "output_type": "stream",
     "text": [
      "Episode reward for episode 384 is 5.0\n",
      "Average reward is 4.107049608355092\n",
      "Epsilon is 0.020235115571402205\n"
     ]
    },
    {
     "name": "stderr",
     "output_type": "stream",
     "text": [
      " 38%|███▊      | 384/1000 [11:38<30:07,  2.93s/it]"
     ]
    },
    {
     "name": "stdout",
     "output_type": "stream",
     "text": [
      "Episode reward for episode 385 is 17.0\n",
      "Average reward is 4.140625\n",
      "Epsilon is 0.02022459015019209\n"
     ]
    },
    {
     "name": "stderr",
     "output_type": "stream",
     "text": [
      " 38%|███▊      | 385/1000 [11:41<29:03,  2.83s/it]"
     ]
    },
    {
     "name": "stdout",
     "output_type": "stream",
     "text": [
      "Episode reward for episode 386 is 9.0\n",
      "Average reward is 4.153246753246753\n",
      "Epsilon is 0.020218170569653623\n"
     ]
    },
    {
     "name": "stderr",
     "output_type": "stream",
     "text": [
      " 39%|███▊      | 386/1000 [11:44<28:54,  2.83s/it]"
     ]
    },
    {
     "name": "stdout",
     "output_type": "stream",
     "text": [
      "Episode reward for episode 387 is 9.0\n",
      "Average reward is 4.16580310880829\n",
      "Epsilon is 0.02021155334448138\n"
     ]
    },
    {
     "name": "stderr",
     "output_type": "stream",
     "text": [
      " 39%|███▊      | 387/1000 [11:45<24:16,  2.38s/it]"
     ]
    },
    {
     "name": "stdout",
     "output_type": "stream",
     "text": [
      "Episode reward for episode 388 is 3.0\n",
      "Average reward is 4.162790697674419\n",
      "Epsilon is 0.020208612233473682\n"
     ]
    },
    {
     "name": "stderr",
     "output_type": "stream",
     "text": [
      " 39%|███▉      | 388/1000 [11:48<24:23,  2.39s/it]"
     ]
    },
    {
     "name": "stdout",
     "output_type": "stream",
     "text": [
      "Episode reward for episode 389 is 7.0\n",
      "Average reward is 4.170103092783505\n",
      "Epsilon is 0.020203095677644996\n"
     ]
    },
    {
     "name": "stderr",
     "output_type": "stream",
     "text": [
      " 39%|███▉      | 389/1000 [11:50<25:09,  2.47s/it]"
     ]
    },
    {
     "name": "stdout",
     "output_type": "stream",
     "text": [
      "Episode reward for episode 390 is 9.0\n",
      "Average reward is 4.182519280205655\n",
      "Epsilon is 0.020197093293253594\n"
     ]
    },
    {
     "name": "stderr",
     "output_type": "stream",
     "text": [
      " 39%|███▉      | 390/1000 [11:54<29:09,  2.87s/it]"
     ]
    },
    {
     "name": "stdout",
     "output_type": "stream",
     "text": [
      "Episode reward for episode 391 is 13.0\n",
      "Average reward is 4.205128205128205\n",
      "Epsilon is 0.020189175884182144\n"
     ]
    },
    {
     "name": "stderr",
     "output_type": "stream",
     "text": [
      " 39%|███▉      | 391/1000 [11:56<25:50,  2.55s/it]"
     ]
    },
    {
     "name": "stdout",
     "output_type": "stream",
     "text": [
      "Episode reward for episode 392 is 6.0\n",
      "Average reward is 4.209718670076726\n",
      "Epsilon is 0.020185392868415183\n"
     ]
    },
    {
     "name": "stderr",
     "output_type": "stream",
     "text": [
      " 39%|███▉      | 392/1000 [11:59<27:04,  2.67s/it]"
     ]
    },
    {
     "name": "stdout",
     "output_type": "stream",
     "text": [
      "Episode reward for episode 393 is 10.0\n",
      "Average reward is 4.224489795918367\n",
      "Epsilon is 0.020179554213330647\n"
     ]
    },
    {
     "name": "stderr",
     "output_type": "stream",
     "text": [
      " 39%|███▉      | 393/1000 [12:01<25:35,  2.53s/it]"
     ]
    },
    {
     "name": "stdout",
     "output_type": "stream",
     "text": [
      "Episode reward for episode 394 is 6.0\n",
      "Average reward is 4.229007633587786\n",
      "Epsilon is 0.020175296212601532\n"
     ]
    },
    {
     "name": "stderr",
     "output_type": "stream",
     "text": [
      " 39%|███▉      | 394/1000 [12:04<26:48,  2.65s/it]"
     ]
    },
    {
     "name": "stdout",
     "output_type": "stream",
     "text": [
      "Episode reward for episode 395 is 9.0\n",
      "Average reward is 4.241116751269035\n",
      "Epsilon is 0.02016987743160528\n"
     ]
    },
    {
     "name": "stderr",
     "output_type": "stream",
     "text": [
      " 40%|███▉      | 395/1000 [12:06<26:16,  2.61s/it]"
     ]
    },
    {
     "name": "stdout",
     "output_type": "stream",
     "text": [
      "Episode reward for episode 396 is 7.0\n",
      "Average reward is 4.248101265822785\n",
      "Epsilon is 0.020165319040619554\n"
     ]
    },
    {
     "name": "stderr",
     "output_type": "stream",
     "text": [
      " 40%|███▉      | 396/1000 [12:09<27:31,  2.73s/it]"
     ]
    },
    {
     "name": "stdout",
     "output_type": "stream",
     "text": [
      "Episode reward for episode 397 is 12.0\n",
      "Average reward is 4.267676767676767\n",
      "Epsilon is 0.020159984540142235\n"
     ]
    },
    {
     "name": "stderr",
     "output_type": "stream",
     "text": [
      " 40%|███▉      | 397/1000 [12:12<28:19,  2.82s/it]"
     ]
    },
    {
     "name": "stdout",
     "output_type": "stream",
     "text": [
      "Episode reward for episode 398 is 10.0\n",
      "Average reward is 4.282115869017632\n",
      "Epsilon is 0.020154667428076492\n"
     ]
    },
    {
     "name": "stderr",
     "output_type": "stream",
     "text": [
      " 40%|███▉      | 398/1000 [12:15<27:11,  2.71s/it]"
     ]
    },
    {
     "name": "stdout",
     "output_type": "stream",
     "text": [
      "Episode reward for episode 399 is 7.0\n",
      "Average reward is 4.288944723618091\n",
      "Epsilon is 0.02015078834826695\n"
     ]
    },
    {
     "name": "stderr",
     "output_type": "stream",
     "text": [
      " 40%|███▉      | 399/1000 [12:17<25:23,  2.53s/it]"
     ]
    },
    {
     "name": "stdout",
     "output_type": "stream",
     "text": [
      "Episode reward for episode 400 is 7.0\n",
      "Average reward is 4.295739348370927\n",
      "Epsilon is 0.02014733032673928\n"
     ]
    },
    {
     "name": "stderr",
     "output_type": "stream",
     "text": [
      " 40%|████      | 400/1000 [12:19<22:27,  2.25s/it]"
     ]
    },
    {
     "name": "stdout",
     "output_type": "stream",
     "text": [
      "Episode reward for episode 401 is 4.0\n",
      "Average reward is 4.295\n",
      "Epsilon is 0.020144817913809607\n"
     ]
    },
    {
     "name": "stderr",
     "output_type": "stream",
     "text": [
      " 40%|████      | 401/1000 [12:21<22:55,  2.30s/it]"
     ]
    },
    {
     "name": "stdout",
     "output_type": "stream",
     "text": [
      "Episode reward for episode 402 is 7.0\n",
      "Average reward is 4.301745635910224\n",
      "Epsilon is 0.020141072957615466\n"
     ]
    },
    {
     "name": "stderr",
     "output_type": "stream",
     "text": [
      " 40%|████      | 402/1000 [12:25<27:11,  2.73s/it]"
     ]
    },
    {
     "name": "stdout",
     "output_type": "stream",
     "text": [
      "Episode reward for episode 403 is 12.0\n",
      "Average reward is 4.32089552238806\n",
      "Epsilon is 0.020135433018062348\n"
     ]
    },
    {
     "name": "stderr",
     "output_type": "stream",
     "text": [
      " 40%|████      | 403/1000 [12:29<31:19,  3.15s/it]"
     ]
    },
    {
     "name": "stdout",
     "output_type": "stream",
     "text": [
      "Episode reward for episode 404 is 12.0\n",
      "Average reward is 4.3399503722084365\n",
      "Epsilon is 0.02012942184513148\n"
     ]
    },
    {
     "name": "stderr",
     "output_type": "stream",
     "text": [
      " 40%|████      | 404/1000 [12:37<46:38,  4.70s/it]"
     ]
    },
    {
     "name": "stdout",
     "output_type": "stream",
     "text": [
      "Episode reward for episode 405 is 9.0\n",
      "Average reward is 4.351485148514851\n",
      "Epsilon is 0.02011809355938558\n"
     ]
    },
    {
     "name": "stderr",
     "output_type": "stream",
     "text": [
      " 40%|████      | 405/1000 [12:40<41:46,  4.21s/it]"
     ]
    },
    {
     "name": "stdout",
     "output_type": "stream",
     "text": [
      "Episode reward for episode 406 is 10.0\n",
      "Average reward is 4.3654320987654325\n",
      "Epsilon is 0.020114305785515627\n"
     ]
    },
    {
     "name": "stderr",
     "output_type": "stream",
     "text": [
      " 41%|████      | 406/1000 [12:43<37:31,  3.79s/it]"
     ]
    },
    {
     "name": "stdout",
     "output_type": "stream",
     "text": [
      "Episode reward for episode 407 is 8.0\n",
      "Average reward is 4.374384236453202\n",
      "Epsilon is 0.020110838832468534\n"
     ]
    },
    {
     "name": "stderr",
     "output_type": "stream",
     "text": [
      " 41%|████      | 407/1000 [12:46<36:00,  3.64s/it]"
     ]
    },
    {
     "name": "stdout",
     "output_type": "stream",
     "text": [
      "Episode reward for episode 408 is 11.0\n",
      "Average reward is 4.3906633906633905\n",
      "Epsilon is 0.02010702657696328\n"
     ]
    },
    {
     "name": "stderr",
     "output_type": "stream",
     "text": [
      " 41%|████      | 408/1000 [12:54<49:14,  4.99s/it]"
     ]
    },
    {
     "name": "stdout",
     "output_type": "stream",
     "text": [
      "Episode reward for episode 409 is 15.0\n",
      "Average reward is 4.416666666666667\n",
      "Epsilon is 0.020098265911471302\n"
     ]
    },
    {
     "name": "stderr",
     "output_type": "stream",
     "text": [
      " 41%|████      | 409/1000 [13:01<54:22,  5.52s/it]"
     ]
    },
    {
     "name": "stdout",
     "output_type": "stream",
     "text": [
      "Episode reward for episode 410 is 19.0\n",
      "Average reward is 4.452322738386308\n",
      "Epsilon is 0.020091622528563266\n"
     ]
    },
    {
     "name": "stderr",
     "output_type": "stream",
     "text": [
      " 41%|████      | 410/1000 [13:03<44:13,  4.50s/it]"
     ]
    },
    {
     "name": "stdout",
     "output_type": "stream",
     "text": [
      "Episode reward for episode 411 is 5.0\n",
      "Average reward is 4.453658536585366\n",
      "Epsilon is 0.020089539259833325\n"
     ]
    },
    {
     "name": "stderr",
     "output_type": "stream",
     "text": [
      " 41%|████      | 411/1000 [13:06<38:55,  3.97s/it]"
     ]
    },
    {
     "name": "stdout",
     "output_type": "stream",
     "text": [
      "Episode reward for episode 412 is 8.0\n",
      "Average reward is 4.462287104622871\n",
      "Epsilon is 0.020086962516975483\n"
     ]
    },
    {
     "name": "stderr",
     "output_type": "stream",
     "text": [
      " 41%|████      | 412/1000 [13:09<37:08,  3.79s/it]"
     ]
    },
    {
     "name": "stdout",
     "output_type": "stream",
     "text": [
      "Episode reward for episode 413 is 10.0\n",
      "Average reward is 4.475728155339806\n",
      "Epsilon is 0.02008402187540725\n"
     ]
    },
    {
     "name": "stderr",
     "output_type": "stream",
     "text": [
      " 41%|████▏     | 413/1000 [13:12<32:42,  3.34s/it]"
     ]
    },
    {
     "name": "stdout",
     "output_type": "stream",
     "text": [
      "Episode reward for episode 414 is 6.0\n",
      "Average reward is 4.479418886198547\n",
      "Epsilon is 0.020081980153415727\n"
     ]
    },
    {
     "name": "stderr",
     "output_type": "stream",
     "text": [
      " 41%|████▏     | 414/1000 [13:16<35:26,  3.63s/it]"
     ]
    },
    {
     "name": "stdout",
     "output_type": "stream",
     "text": [
      "Episode reward for episode 415 is 13.0\n",
      "Average reward is 4.5\n",
      "Epsilon is 0.02007840417562448\n"
     ]
    },
    {
     "name": "stderr",
     "output_type": "stream",
     "text": [
      " 42%|████▏     | 415/1000 [13:18<31:39,  3.25s/it]"
     ]
    },
    {
     "name": "stdout",
     "output_type": "stream",
     "text": [
      "Episode reward for episode 416 is 6.0\n",
      "Average reward is 4.5036144578313255\n",
      "Epsilon is 0.020076575500322436\n"
     ]
    },
    {
     "name": "stderr",
     "output_type": "stream",
     "text": [
      " 42%|████▏     | 416/1000 [13:22<33:33,  3.45s/it]"
     ]
    },
    {
     "name": "stdout",
     "output_type": "stream",
     "text": [
      "Episode reward for episode 417 is 14.0\n",
      "Average reward is 4.5264423076923075\n",
      "Epsilon is 0.020073455309439537\n"
     ]
    },
    {
     "name": "stderr",
     "output_type": "stream",
     "text": [
      " 42%|████▏     | 417/1000 [13:25<31:44,  3.27s/it]"
     ]
    },
    {
     "name": "stdout",
     "output_type": "stream",
     "text": [
      "Episode reward for episode 418 is 8.0\n",
      "Average reward is 4.534772182254197\n",
      "Epsilon is 0.020071355696992053\n"
     ]
    },
    {
     "name": "stderr",
     "output_type": "stream",
     "text": [
      " 42%|████▏     | 418/1000 [13:29<32:31,  3.35s/it]"
     ]
    },
    {
     "name": "stdout",
     "output_type": "stream",
     "text": [
      "Episode reward for episode 419 is 12.0\n",
      "Average reward is 4.552631578947368\n",
      "Epsilon is 0.020068626392183743\n"
     ]
    },
    {
     "name": "stderr",
     "output_type": "stream",
     "text": [
      " 42%|████▏     | 419/1000 [13:32<32:55,  3.40s/it]"
     ]
    },
    {
     "name": "stdout",
     "output_type": "stream",
     "text": [
      "Episode reward for episode 420 is 10.0\n",
      "Average reward is 4.56563245823389\n",
      "Epsilon is 0.020066133616402575\n"
     ]
    },
    {
     "name": "stderr",
     "output_type": "stream",
     "text": [
      " 42%|████▏     | 420/1000 [13:36<33:21,  3.45s/it]"
     ]
    },
    {
     "name": "stdout",
     "output_type": "stream",
     "text": [
      "Episode reward for episode 421 is 11.0\n",
      "Average reward is 4.580952380952381\n",
      "Epsilon is 0.020063795151135683\n"
     ]
    },
    {
     "name": "stderr",
     "output_type": "stream",
     "text": [
      " 42%|████▏     | 421/1000 [13:38<29:50,  3.09s/it]"
     ]
    },
    {
     "name": "stdout",
     "output_type": "stream",
     "text": [
      "Episode reward for episode 422 is 6.0\n",
      "Average reward is 4.584323040380047\n",
      "Epsilon is 0.020062269839192293\n"
     ]
    },
    {
     "name": "stderr",
     "output_type": "stream",
     "text": [
      " 42%|████▏     | 422/1000 [13:41<29:52,  3.10s/it]"
     ]
    },
    {
     "name": "stdout",
     "output_type": "stream",
     "text": [
      "Episode reward for episode 423 is 9.0\n",
      "Average reward is 4.5947867298578196\n",
      "Epsilon is 0.020060284630447157\n"
     ]
    },
    {
     "name": "stderr",
     "output_type": "stream",
     "text": [
      " 42%|████▏     | 423/1000 [13:43<26:11,  2.72s/it]"
     ]
    },
    {
     "name": "stdout",
     "output_type": "stream",
     "text": [
      "Episode reward for episode 424 is 4.0\n",
      "Average reward is 4.59338061465721\n",
      "Epsilon is 0.020059126379972456\n"
     ]
    },
    {
     "name": "stderr",
     "output_type": "stream",
     "text": [
      " 42%|████▏     | 424/1000 [13:45<25:06,  2.61s/it]"
     ]
    },
    {
     "name": "stdout",
     "output_type": "stream",
     "text": [
      "Episode reward for episode 425 is 6.0\n",
      "Average reward is 4.596698113207547\n",
      "Epsilon is 0.02005763195490072\n"
     ]
    },
    {
     "name": "stderr",
     "output_type": "stream",
     "text": [
      " 42%|████▎     | 425/1000 [13:51<33:02,  3.45s/it]"
     ]
    },
    {
     "name": "stdout",
     "output_type": "stream",
     "text": [
      "Episode reward for episode 426 is 11.0\n",
      "Average reward is 4.6117647058823525\n",
      "Epsilon is 0.02005448237127253\n"
     ]
    },
    {
     "name": "stderr",
     "output_type": "stream",
     "text": [
      " 43%|████▎     | 426/1000 [13:53<28:59,  3.03s/it]"
     ]
    },
    {
     "name": "stdout",
     "output_type": "stream",
     "text": [
      "Episode reward for episode 427 is 5.0\n",
      "Average reward is 4.612676056338028\n",
      "Epsilon is 0.02005337151552183\n"
     ]
    },
    {
     "name": "stderr",
     "output_type": "stream",
     "text": [
      " 43%|████▎     | 427/1000 [13:57<30:54,  3.24s/it]"
     ]
    },
    {
     "name": "stdout",
     "output_type": "stream",
     "text": [
      "Episode reward for episode 428 is 13.0\n",
      "Average reward is 4.6323185011709604\n",
      "Epsilon is 0.020051299304083166\n"
     ]
    },
    {
     "name": "stderr",
     "output_type": "stream",
     "text": [
      " 43%|████▎     | 428/1000 [14:00<31:04,  3.26s/it]"
     ]
    },
    {
     "name": "stdout",
     "output_type": "stream",
     "text": [
      "Episode reward for episode 429 is 13.0\n",
      "Average reward is 4.651869158878505\n",
      "Epsilon is 0.020049574529637036\n"
     ]
    },
    {
     "name": "stderr",
     "output_type": "stream",
     "text": [
      " 43%|████▎     | 429/1000 [14:02<29:03,  3.05s/it]"
     ]
    },
    {
     "name": "stdout",
     "output_type": "stream",
     "text": [
      "Episode reward for episode 430 is 6.0\n",
      "Average reward is 4.655011655011655\n",
      "Epsilon is 0.020048282886758365\n"
     ]
    },
    {
     "name": "stderr",
     "output_type": "stream",
     "text": [
      " 43%|████▎     | 430/1000 [14:05<28:33,  3.01s/it]"
     ]
    },
    {
     "name": "stdout",
     "output_type": "stream",
     "text": [
      "Episode reward for episode 431 is 8.0\n",
      "Average reward is 4.662790697674419\n",
      "Epsilon is 0.020046874657915176\n"
     ]
    },
    {
     "name": "stderr",
     "output_type": "stream",
     "text": [
      " 43%|████▎     | 431/1000 [14:09<29:04,  3.07s/it]"
     ]
    },
    {
     "name": "stdout",
     "output_type": "stream",
     "text": [
      "Episode reward for episode 432 is 8.0\n",
      "Average reward is 4.6705336426914155\n",
      "Epsilon is 0.02004525337198859\n"
     ]
    },
    {
     "name": "stderr",
     "output_type": "stream",
     "text": [
      " 43%|████▎     | 432/1000 [14:11<26:48,  2.83s/it]"
     ]
    },
    {
     "name": "stdout",
     "output_type": "stream",
     "text": [
      "Episode reward for episode 433 is 11.0\n",
      "Average reward is 4.685185185185185\n",
      "Epsilon is 0.020044153720209436\n"
     ]
    },
    {
     "name": "stderr",
     "output_type": "stream",
     "text": [
      " 43%|████▎     | 432/1000 [14:11<18:40,  1.97s/it]\n"
     ]
    },
    {
     "ename": "KeyboardInterrupt",
     "evalue": "",
     "output_type": "error",
     "traceback": [
      "\u001b[0;31m---------------------------------------------------------------------------\u001b[0m",
      "\u001b[0;31mKeyboardInterrupt\u001b[0m                         Traceback (most recent call last)",
      "\u001b[0;32m<ipython-input-12-5d17df4f386b>\u001b[0m in \u001b[0;36m<module>\u001b[0;34m\u001b[0m\n\u001b[1;32m      4\u001b[0m \u001b[0magent\u001b[0m \u001b[0;34m=\u001b[0m \u001b[0mDoubleDQNAgent\u001b[0m\u001b[0;34m(\u001b[0m\u001b[0menv\u001b[0m\u001b[0;34m,\u001b[0m \u001b[0mmemory\u001b[0m\u001b[0;34m,\u001b[0m \u001b[0mpolicy_net\u001b[0m\u001b[0;34m,\u001b[0m \u001b[0mtarget_net\u001b[0m\u001b[0;34m)\u001b[0m\u001b[0;34m\u001b[0m\u001b[0;34m\u001b[0m\u001b[0m\n\u001b[1;32m      5\u001b[0m \u001b[0;34m\u001b[0m\u001b[0m\n\u001b[0;32m----> 6\u001b[0;31m \u001b[0magent\u001b[0m\u001b[0;34m.\u001b[0m\u001b[0mtrain\u001b[0m\u001b[0;34m(\u001b[0m\u001b[0;36m1000\u001b[0m\u001b[0;34m)\u001b[0m\u001b[0;34m\u001b[0m\u001b[0;34m\u001b[0m\u001b[0m\n\u001b[0m",
      "\u001b[0;32m<ipython-input-11-141e58cca06c>\u001b[0m in \u001b[0;36mtrain\u001b[0;34m(self, num_episodes)\u001b[0m\n\u001b[1;32m    146\u001b[0m \u001b[0;34m\u001b[0m\u001b[0m\n\u001b[1;32m    147\u001b[0m                 \u001b[0mself\u001b[0m\u001b[0;34m.\u001b[0m\u001b[0mmemory\u001b[0m\u001b[0;34m.\u001b[0m\u001b[0mpush\u001b[0m\u001b[0;34m(\u001b[0m\u001b[0mstate\u001b[0m\u001b[0;34m,\u001b[0m \u001b[0maction\u001b[0m\u001b[0;34m,\u001b[0m \u001b[0mreward_tensor\u001b[0m\u001b[0;34m,\u001b[0m \u001b[0mnext_state_tensor\u001b[0m\u001b[0;34m,\u001b[0m \u001b[0mdone_tensor\u001b[0m\u001b[0;34m)\u001b[0m\u001b[0;34m\u001b[0m\u001b[0;34m\u001b[0m\u001b[0m\n\u001b[0;32m--> 148\u001b[0;31m                 \u001b[0mself\u001b[0m\u001b[0;34m.\u001b[0m\u001b[0moptimize_model\u001b[0m\u001b[0;34m(\u001b[0m\u001b[0;34m)\u001b[0m\u001b[0;34m\u001b[0m\u001b[0;34m\u001b[0m\u001b[0m\n\u001b[0m\u001b[1;32m    149\u001b[0m \u001b[0;34m\u001b[0m\u001b[0m\n\u001b[1;32m    150\u001b[0m                 \u001b[0mepisode_reward\u001b[0m \u001b[0;34m+=\u001b[0m \u001b[0mreward\u001b[0m\u001b[0;34m\u001b[0m\u001b[0;34m\u001b[0m\u001b[0m\n",
      "\u001b[0;32m<ipython-input-11-141e58cca06c>\u001b[0m in \u001b[0;36moptimize_model\u001b[0;34m(self)\u001b[0m\n\u001b[1;32m    119\u001b[0m \u001b[0;34m\u001b[0m\u001b[0m\n\u001b[1;32m    120\u001b[0m         \u001b[0;31m# Optimize model\u001b[0m\u001b[0;34m\u001b[0m\u001b[0;34m\u001b[0m\u001b[0;34m\u001b[0m\u001b[0m\n\u001b[0;32m--> 121\u001b[0;31m         \u001b[0mloss\u001b[0m\u001b[0;34m.\u001b[0m\u001b[0mbackward\u001b[0m\u001b[0;34m(\u001b[0m\u001b[0;34m)\u001b[0m\u001b[0;34m\u001b[0m\u001b[0;34m\u001b[0m\u001b[0m\n\u001b[0m\u001b[1;32m    122\u001b[0m         \u001b[0mself\u001b[0m\u001b[0;34m.\u001b[0m\u001b[0moptimizer\u001b[0m\u001b[0;34m.\u001b[0m\u001b[0mstep\u001b[0m\u001b[0;34m(\u001b[0m\u001b[0;34m)\u001b[0m\u001b[0;34m\u001b[0m\u001b[0;34m\u001b[0m\u001b[0m\n\u001b[1;32m    123\u001b[0m \u001b[0;34m\u001b[0m\u001b[0m\n",
      "\u001b[0;32m/usr/local/lib/python3.6/dist-packages/torch/tensor.py\u001b[0m in \u001b[0;36mbackward\u001b[0;34m(self, gradient, retain_graph, create_graph)\u001b[0m\n\u001b[1;32m    183\u001b[0m                 \u001b[0mproducts\u001b[0m\u001b[0;34m.\u001b[0m \u001b[0mDefaults\u001b[0m \u001b[0mto\u001b[0m\u001b[0;31m \u001b[0m\u001b[0;31m`\u001b[0m\u001b[0;31m`\u001b[0m\u001b[0;32mFalse\u001b[0m\u001b[0;31m`\u001b[0m\u001b[0;31m`\u001b[0m\u001b[0;34m.\u001b[0m\u001b[0;34m\u001b[0m\u001b[0;34m\u001b[0m\u001b[0m\n\u001b[1;32m    184\u001b[0m         \"\"\"\n\u001b[0;32m--> 185\u001b[0;31m         \u001b[0mtorch\u001b[0m\u001b[0;34m.\u001b[0m\u001b[0mautograd\u001b[0m\u001b[0;34m.\u001b[0m\u001b[0mbackward\u001b[0m\u001b[0;34m(\u001b[0m\u001b[0mself\u001b[0m\u001b[0;34m,\u001b[0m \u001b[0mgradient\u001b[0m\u001b[0;34m,\u001b[0m \u001b[0mretain_graph\u001b[0m\u001b[0;34m,\u001b[0m \u001b[0mcreate_graph\u001b[0m\u001b[0;34m)\u001b[0m\u001b[0;34m\u001b[0m\u001b[0;34m\u001b[0m\u001b[0m\n\u001b[0m\u001b[1;32m    186\u001b[0m \u001b[0;34m\u001b[0m\u001b[0m\n\u001b[1;32m    187\u001b[0m     \u001b[0;32mdef\u001b[0m \u001b[0mregister_hook\u001b[0m\u001b[0;34m(\u001b[0m\u001b[0mself\u001b[0m\u001b[0;34m,\u001b[0m \u001b[0mhook\u001b[0m\u001b[0;34m)\u001b[0m\u001b[0;34m:\u001b[0m\u001b[0;34m\u001b[0m\u001b[0;34m\u001b[0m\u001b[0m\n",
      "\u001b[0;32m/usr/local/lib/python3.6/dist-packages/torch/autograd/__init__.py\u001b[0m in \u001b[0;36mbackward\u001b[0;34m(tensors, grad_tensors, retain_graph, create_graph, grad_variables)\u001b[0m\n\u001b[1;32m    125\u001b[0m     Variable._execution_engine.run_backward(\n\u001b[1;32m    126\u001b[0m         \u001b[0mtensors\u001b[0m\u001b[0;34m,\u001b[0m \u001b[0mgrad_tensors\u001b[0m\u001b[0;34m,\u001b[0m \u001b[0mretain_graph\u001b[0m\u001b[0;34m,\u001b[0m \u001b[0mcreate_graph\u001b[0m\u001b[0;34m,\u001b[0m\u001b[0;34m\u001b[0m\u001b[0;34m\u001b[0m\u001b[0m\n\u001b[0;32m--> 127\u001b[0;31m         allow_unreachable=True)  # allow_unreachable flag\n\u001b[0m\u001b[1;32m    128\u001b[0m \u001b[0;34m\u001b[0m\u001b[0m\n\u001b[1;32m    129\u001b[0m \u001b[0;34m\u001b[0m\u001b[0m\n",
      "\u001b[0;31mKeyboardInterrupt\u001b[0m: "
     ]
    }
   ],
   "source": [
    "policy_net = DQN(env.observation_space.shape, env.action_space.n)\n",
    "target_net = DQN(env.observation_space.shape, env.action_space.n)\n",
    "memory = ReplayBuffer(30000, env.observation_space.shape)\n",
    "agent = DoubleDQNAgent(env, memory, policy_net, target_net)\n",
    "\n",
    "agent.train(1000)"
   ]
  }
 ],
 "metadata": {
  "kernelspec": {
   "display_name": "Python 3",
   "language": "python",
   "name": "python3"
  },
  "language_info": {
   "codemirror_mode": {
    "name": "ipython",
    "version": 3
   },
   "file_extension": ".py",
   "mimetype": "text/x-python",
   "name": "python",
   "nbconvert_exporter": "python",
   "pygments_lexer": "ipython3",
   "version": "3.6.9"
  }
 },
 "nbformat": 4,
 "nbformat_minor": 4
}
